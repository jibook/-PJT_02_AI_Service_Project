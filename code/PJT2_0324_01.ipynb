{
 "cells": [
  {
   "cell_type": "code",
   "execution_count": 15,
   "id": "c00ffb1d",
   "metadata": {},
   "outputs": [
    {
     "name": "stdout",
     "output_type": "stream",
     "text": [
      "본문 크롤링에 필요한 함수를 로딩하고 있습니다...\n",
      "----------------------------------------------------------------------------------------------------\n",
      "검색할 언론사 : JTBC\n",
      "검색할 키워드  : 코로나\n",
      "수집 뉴스의 수(숫자만 입력) : 3\n",
      "\n",
      "====================================================================================================\n",
      "\n",
      "브라우저를 실행시킵니다(자동 제어)\n",
      "\n"
     ]
    },
    {
     "name": "stderr",
     "output_type": "stream",
     "text": [
      "C:\\Users\\Public\\Documents\\ESTsoft\\CreatorTemp/ipykernel_1488/3928598573.py:83: DeprecationWarning: executable_path has been deprecated, please pass in a Service object\n",
      "  browser = webdriver.Chrome(chrome_path)\n"
     ]
    },
    {
     "name": "stdout",
     "output_type": "stream",
     "text": [
      "설정한 언론사를 선택합니다.\n",
      "\n"
     ]
    },
    {
     "name": "stderr",
     "output_type": "stream",
     "text": [
      "C:\\Users\\Public\\Documents\\ESTsoft\\CreatorTemp/ipykernel_1488/3928598573.py:93: DeprecationWarning: find_element_by_* commands are deprecated. Please use find_element() instead\n",
      "  search_opn_btn = browser.find_element_by_xpath('//a[@class=\"btn_option _search_option_open_btn\"]')\n",
      "C:\\Users\\Public\\Documents\\ESTsoft\\CreatorTemp/ipykernel_1488/3928598573.py:97: DeprecationWarning: find_element_by_* commands are deprecated. Please use find_element() instead\n",
      "  bx_press = browser.find_element_by_xpath('//div[@role=\"listbox\" and @class=\"api_group_option_sort _search_option_detail_wrap\"]//li[@class=\"bx press\"]')\n",
      "C:\\Users\\jhjh3\\anaconda3\\lib\\site-packages\\selenium\\webdriver\\remote\\webelement.py:426: UserWarning: find_elements_by_* commands are deprecated. Please use find_elements() instead\n",
      "  warnings.warn(\"find_elements_by_* commands are deprecated. Please use find_elements() instead\")\n"
     ]
    },
    {
     "name": "stdout",
     "output_type": "stream",
     "text": [
      "<방송/통신> 카테고리에서 <JTBC>를 찾았으므로 탐색을 종료합니다\n",
      "\n",
      "크롤링을 시작합니다.\n"
     ]
    },
    {
     "name": "stderr",
     "output_type": "stream",
     "text": [
      "  0%|                                                                                            | 0/3 [00:00<?, ?it/s]C:\\Users\\Public\\Documents\\ESTsoft\\CreatorTemp/ipykernel_1488/3928598573.py:152: DeprecationWarning: find_element_by_* commands are deprecated. Please use find_element() instead\n",
      "  table = browser.find_element_by_xpath('//ul[@class=\"list_news\"]')\n",
      "C:\\Users\\jhjh3\\anaconda3\\lib\\site-packages\\selenium\\webdriver\\remote\\webelement.py:393: UserWarning: find_element_by_* commands are deprecated. Please use find_element() instead\n",
      "  warnings.warn(\"find_element_by_* commands are deprecated. Please use find_element() instead\")\n",
      "100%|████████████████████████████████████████████████████████████████████████████████████| 3/3 [00:03<00:00,  1.12s/it]\n"
     ]
    },
    {
     "name": "stdout",
     "output_type": "stream",
     "text": [
      "\n",
      "브라우저를 종료합니다.\n",
      "====================================================================================================\n",
      "데이터프레임 변환\n",
      "\n",
      "엑셀 저장 완료 | 경로 : C:\\Users\\jhjh3\\PJT_02\\네이버뉴스_본문_3개_코로나_2022-03-28_09시46분.xlsx\n",
      "\n",
      "====================================================================================================\n",
      "결과물의 일부\n"
     ]
    },
    {
     "data": {
      "text/html": [
       "<div>\n",
       "<style scoped>\n",
       "    .dataframe tbody tr th:only-of-type {\n",
       "        vertical-align: middle;\n",
       "    }\n",
       "\n",
       "    .dataframe tbody tr th {\n",
       "        vertical-align: top;\n",
       "    }\n",
       "\n",
       "    .dataframe thead th {\n",
       "        text-align: right;\n",
       "    }\n",
       "</style>\n",
       "<table border=\"1\" class=\"dataframe\">\n",
       "  <thead>\n",
       "    <tr style=\"text-align: right;\">\n",
       "      <th></th>\n",
       "      <th>title</th>\n",
       "      <th>url</th>\n",
       "      <th>text</th>\n",
       "    </tr>\n",
       "  </thead>\n",
       "  <tbody>\n",
       "    <tr>\n",
       "      <th>1</th>\n",
       "      <td>\"코로나 확산세 꺾였다\"…이번주 거리두기 완화 여부 '주목'</td>\n",
       "      <td>https://news.jtbc.joins.com/article/article.as...</td>\n",
       "      <td>지난 27일 오전 서울역 광장에 설치된 코로나19 임시선별 검사소를 찾은 시민들이 ...</td>\n",
       "    </tr>\n",
       "    <tr>\n",
       "      <th>2</th>\n",
       "      <td>코로나19 위중증 다시 1200명대로…신규 확진 나흘째 30만명대</td>\n",
       "      <td>https://news.jtbc.joins.com/article/article.as...</td>\n",
       "      <td>지난 26일 오전 중구 서울역 광장 코로나19 임시 선별검사소를 찾은 시민들이 검사...</td>\n",
       "    </tr>\n",
       "    <tr>\n",
       "      <th>3</th>\n",
       "      <td>코로나 확진 산모, 2시간 넘게 병원 찾다 구급차서 출산</td>\n",
       "      <td>https://news.jtbc.joins.com/article/article.as...</td>\n",
       "      <td>〈자료사진=JTBC 방송화면 캡처〉        인천에서 신종 코로나바이러스 감염증...</td>\n",
       "    </tr>\n",
       "  </tbody>\n",
       "</table>\n",
       "</div>"
      ],
      "text/plain": [
       "                                  title  \\\n",
       "1     \"코로나 확산세 꺾였다\"…이번주 거리두기 완화 여부 '주목'   \n",
       "2  코로나19 위중증 다시 1200명대로…신규 확진 나흘째 30만명대   \n",
       "3       코로나 확진 산모, 2시간 넘게 병원 찾다 구급차서 출산   \n",
       "\n",
       "                                                 url  \\\n",
       "1  https://news.jtbc.joins.com/article/article.as...   \n",
       "2  https://news.jtbc.joins.com/article/article.as...   \n",
       "3  https://news.jtbc.joins.com/article/article.as...   \n",
       "\n",
       "                                                text  \n",
       "1  지난 27일 오전 서울역 광장에 설치된 코로나19 임시선별 검사소를 찾은 시민들이 ...  \n",
       "2  지난 26일 오전 중구 서울역 광장 코로나19 임시 선별검사소를 찾은 시민들이 검사...  \n",
       "3  〈자료사진=JTBC 방송화면 캡처〉        인천에서 신종 코로나바이러스 감염증...  "
      ]
     },
     "execution_count": 15,
     "metadata": {},
     "output_type": "execute_result"
    }
   ],
   "source": [
    "import sys, os\n",
    "import requests\n",
    "import selenium\n",
    "from selenium import webdriver\n",
    "import requests\n",
    "from pandas import DataFrame\n",
    "from bs4 import BeautifulSoup\n",
    "import re\n",
    "from datetime import datetime\n",
    "import pickle, json, glob, time\n",
    "from tqdm import tqdm\n",
    "\n",
    "\n",
    "\n",
    "###### 날짜 저장 ##########\n",
    "date = str(datetime.now())\n",
    "date = date[:date.rfind(':')].replace(' ', '_')\n",
    "date = date.replace(':','시') + '분'\n",
    "\n",
    "sleep_sec = 0.5\n",
    "\n",
    "\n",
    "####### 언론사별 본문 위치 태그 파싱 함수 ###########\n",
    "print('본문 크롤링에 필요한 함수를 로딩하고 있습니다...\\n' + '-' * 100)\n",
    "def crawling_main_text(url):\n",
    "\n",
    "    req = requests.get(url)\n",
    "    req.encoding = None\n",
    "    soup = BeautifulSoup(req.text, 'html.parser')\n",
    "    \n",
    "    # 연합뉴스\n",
    "    if ('://yna' in url) | ('app.yonhapnews' in url): \n",
    "        main_article = soup.find('article', {'class':'story-news article'})\n",
    "        if main_article == None:\n",
    "            main_article = soup.find('div', {'class' : 'article-txt'})\n",
    "            \n",
    "        text = main_article.text\n",
    "        \n",
    "    # MBC \n",
    "    elif '//imnews.imbc' in url: \n",
    "        text = soup.find('div', {'itemprop' : 'articleBody'}).text\n",
    "        \n",
    "    # 매일경제(미라클), req.encoding = None 설정 필요\n",
    "    elif 'mirakle.mk' in url:\n",
    "        text = soup.find('div', {'class' : 'view_txt'}).text\n",
    "        \n",
    "    # 매일경제, req.encoding = None 설정 필요\n",
    "    elif 'mk.co' in url:\n",
    "        text = soup.find('div', {'class' : 'art_txt'}).text\n",
    "        \n",
    "    # SBS\n",
    "    elif 'news.sbs' in url:\n",
    "        text = soup.find('div', {'itemprop' : 'articleBody'}).text\n",
    "    \n",
    "    # KBS\n",
    "    elif 'news.kbs' in url:\n",
    "        text = soup.find('div', {'id' : 'cont_newstext'}).text\n",
    "        \n",
    "    # JTBC\n",
    "    elif 'news.jtbc' in url:\n",
    "        text = soup.find('div', {'class' : 'article_content'}).text\n",
    "        \n",
    "    # 그 외\n",
    "    else:\n",
    "        text == None\n",
    "        \n",
    "    return text.replace('\\n','').replace('\\r','').replace('<br>','').replace('\\t','')\n",
    "    \n",
    "    \n",
    "press_nm = 'JTBC'\n",
    "\n",
    "print('검색할 언론사 : {}'.format(press_nm))\n",
    "\n",
    "\n",
    "############### 브라우저를 켜고 검색 키워드 입력 ####################\n",
    "query = input('검색할 키워드  : ')\n",
    "news_num = int(input('수집 뉴스의 수(숫자만 입력) : '))\n",
    "\n",
    "print('\\n' + '=' * 100 + '\\n')\n",
    "\n",
    "print('브라우저를 실행시킵니다(자동 제어)\\n')\n",
    "chrome_path = 'C:/Users/jhjh3/chromedriver_win32 (1)/chromedriver.exe'\n",
    "browser = webdriver.Chrome(chrome_path)\n",
    "\n",
    "news_url = 'https://search.naver.com/search.naver?where=news&query={}'.format(query)\n",
    "browser.get(news_url)\n",
    "time.sleep(sleep_sec)\n",
    "\n",
    "\n",
    "######### 언론사 선택 및 confirm #####################\n",
    "print('설정한 언론사를 선택합니다.\\n')\n",
    "\n",
    "search_opn_btn = browser.find_element_by_xpath('//a[@class=\"btn_option _search_option_open_btn\"]')\n",
    "search_opn_btn.click()\n",
    "time.sleep(sleep_sec)\n",
    "\n",
    "bx_press = browser.find_element_by_xpath('//div[@role=\"listbox\" and @class=\"api_group_option_sort _search_option_detail_wrap\"]//li[@class=\"bx press\"]')\n",
    "\n",
    "# 기준 두번 째(언론사 분류순) 클릭하고 오픈하기\n",
    "press_tablist = bx_press.find_elements_by_xpath('.//div[@role=\"tablist\" and @class=\"option\"]/a')\n",
    "press_tablist[1].click()\n",
    "time.sleep(sleep_sec)\n",
    "\n",
    "# 첫 번째 것(언론사 분류선택)\n",
    "bx_group = bx_press.find_elements_by_xpath('.//div[@class=\"api_select_option type_group _category_select_layer\"]/div[@class=\"select_wrap _root\"]')[0]\n",
    "\n",
    "press_kind_bx = bx_group.find_elements_by_xpath('.//div[@class=\"group_select _list_root\"]')[0]\n",
    "press_kind_btn_list = press_kind_bx.find_elements_by_xpath('.//ul[@role=\"tablist\" and @class=\"lst_item _ul\"]/li/a')\n",
    "\n",
    "\n",
    "for press_kind_btn in press_kind_btn_list:\n",
    "    \n",
    "    # 언론사 종류를 순차적으로 클릭(좌측)\n",
    "    press_kind_btn.click()\n",
    "    time.sleep(sleep_sec)\n",
    "    \n",
    "    # 언론사선택(우측)\n",
    "    press_slct_bx = bx_group.find_elements_by_xpath('.//div[@class=\"group_select _list_root\"]')[1]\n",
    "    # 언론사 선택할 수 있는 클릭 버튼\n",
    "    press_slct_btn_list = press_slct_bx.find_elements_by_xpath('.//ul[@role=\"tablist\" and @class=\"lst_item _ul\"]/li/a')\n",
    "    # 언론사 이름들 추출\n",
    "    press_slct_btn_list_nm = [psl.text for psl in press_slct_btn_list]\n",
    "    \n",
    "    # 언론사 이름 : 언론사 클릭 버튼 인 딕셔너리 생성\n",
    "    press_slct_btn_dict = dict(zip(press_slct_btn_list_nm, press_slct_btn_list))\n",
    "    \n",
    "    # 원하는 언론사가 해당 이름 안에 있는 경우\n",
    "    # 1) 클릭하고\n",
    "    # 2) 더이상 언론사분류선택 탐색 중지\n",
    "    if press_nm in press_slct_btn_dict.keys():\n",
    "        print('<{}> 카테고리에서 <{}>를 찾았으므로 탐색을 종료합니다'.format(press_kind_btn.text, press_nm))\n",
    "        \n",
    "        press_slct_btn_dict[press_nm].click()\n",
    "        time.sleep(sleep_sec)\n",
    "        \n",
    "        break\n",
    "\n",
    "\n",
    "\n",
    "################ 뉴스 크롤링 ########################\n",
    "\n",
    "print('\\n크롤링을 시작합니다.')\n",
    "# ####동적 제어로 페이지 넘어가며 크롤링\n",
    "news_dict = {}\n",
    "idx = 1\n",
    "cur_page = 1\n",
    "\n",
    "pbar = tqdm(total=news_num ,leave = True)\n",
    "    \n",
    "while idx < news_num:\n",
    "\n",
    "    table = browser.find_element_by_xpath('//ul[@class=\"list_news\"]')\n",
    "    li_list = table.find_elements_by_xpath('./li[contains(@id, \"sp_nws\")]')\n",
    "    area_list = [li.find_element_by_xpath('.//div[@class=\"news_area\"]') for li in li_list]\n",
    "    a_list = [area.find_element_by_xpath('.//a[@class=\"news_tit\"]') for area in area_list]\n",
    " \n",
    "    for n in a_list[:min(len(a_list), news_num-idx+1)]:\n",
    "        n_url = n.get_attribute('href')\n",
    "        news_dict[idx] = {'title' : n.get_attribute('title'), \n",
    "                          'url' : n_url,\n",
    "                          'text' : crawling_main_text(n_url)}\n",
    "        \n",
    "        idx += 1\n",
    "        pbar.update(1)\n",
    "        \n",
    "    if idx < news_num:\n",
    "        cur_page +=1\n",
    "\n",
    "        pages = browser.find_element_by_xpath('//div[@class=\"sc_page_inner\"]')\n",
    "        next_page_url = [p for p in pages.find_elements_by_xpath('.//a') if p.text == str(cur_page)][0].get_attribute('href')\n",
    "\n",
    "        browser.get(next_page_url)\n",
    "        time.sleep(sleep_sec)\n",
    "    else:\n",
    "        pbar.close()\n",
    "        \n",
    "        print('\\n브라우저를 종료합니다.\\n' + '=' * 100)\n",
    "        time.sleep(0.7)\n",
    "        browser.close()\n",
    "        break\n",
    "\n",
    "#### 데이터 전처리하기 ###################################################### \n",
    "\n",
    "print('데이터프레임 변환\\n')\n",
    "news_df = DataFrame(news_dict).T\n",
    "\n",
    "folder_path = os.getcwd()\n",
    "xlsx_file_name = '네이버뉴스_본문_{}개_{}_{}.xlsx'.format(news_num, query, date)\n",
    "\n",
    "news_df.to_excel(xlsx_file_name)\n",
    "\n",
    "print('엑셀 저장 완료 | 경로 : {}\\\\{}\\n'.format(folder_path, xlsx_file_name))\n",
    "\n",
    "os.startfile(folder_path)\n",
    "\n",
    "print('=' * 100 + '\\n결과물의 일부')\n",
    "news_df"
   ]
  },
  {
   "cell_type": "code",
   "execution_count": 14,
   "id": "d6e3e02e",
   "metadata": {},
   "outputs": [
    {
     "name": "stdout",
     "output_type": "stream",
     "text": [
      "Error : {\"status\":400,\"error\":{\"errorCode\":\"E003\",\"message\":\"Text quota Exceeded\"}}\n",
      "1번째 뉴스입니다.사진 제공: 연합뉴스우크라이나-폴란드 국경을 방문한 조 바이든 미국 대통령이 오늘 폴란드 대통령과 회담합니다.\n",
      "폴란드는 이번 전쟁의 난민을 가장 많이 수용한 국가로, 폴란드 지원 방안 등이 논의될 것이라고 외신들은 보도하고 있습니다.\n",
      "우크라이나 전쟁 발발 이후 처음으로 유럽을 방문한 바이든 대통령은 어제 우크라이나 국경에서 80㎞ 떨어진 미군 부대를 방문하고 피난민을 돕는 구호단체 관계자들과 간담회를 했습니다.\n",
      "['1번째 뉴스입니다.사진 제공: 연합뉴스우크라이나-폴란드 국경을 방문한 조 바이든 미국 대통령이 오늘 폴란드 대통령과 회담합니다.\\n폴란드는 이번 전쟁의 난민을 가장 많이 수용한 국가로, 폴란드 지원 방안 등이 논의될 것이라고 외신들은 보도하고 있습니다.\\n우크라이나 전쟁 발발 이후 처음으로 유럽을 방문한 바이든 대통령은 어제 우크라이나 국경에서 80㎞ 떨어진 미군 부대를 방문하고 피난민을 돕는 구호단체 관계자들과 간담회를 했습니다.']\n",
      "voice0.mp3\n",
      "Error : {\"status\":400,\"error\":{\"errorCode\":\"E003\",\"message\":\"Text quota Exceeded\"}}\n",
      "2번째 뉴스입니다.사진 제공: 연합뉴스우크라이나-폴란드 국경을 방문한 조 바이든 미국 대통령이 오늘 폴란드 대통령과 회담합니다.\n",
      "폴란드는 이번 전쟁의 난민을 가장 많이 수용한 국가로, 폴란드 지원 방안 등이 논의될 것이라고 외신들은 보도하고 있습니다.\n",
      "우크라이나 전쟁 발발 이후 처음으로 유럽을 방문한 바이든 대통령은 어제 우크라이나 국경에서 80㎞ 떨어진 미군 부대를 방문하고 피난민을 돕는 구호단체 관계자들과 간담회를 했습니다.\n",
      "['1번째 뉴스입니다.사진 제공: 연합뉴스우크라이나-폴란드 국경을 방문한 조 바이든 미국 대통령이 오늘 폴란드 대통령과 회담합니다.\\n폴란드는 이번 전쟁의 난민을 가장 많이 수용한 국가로, 폴란드 지원 방안 등이 논의될 것이라고 외신들은 보도하고 있습니다.\\n우크라이나 전쟁 발발 이후 처음으로 유럽을 방문한 바이든 대통령은 어제 우크라이나 국경에서 80㎞ 떨어진 미군 부대를 방문하고 피난민을 돕는 구호단체 관계자들과 간담회를 했습니다.', '2번째 뉴스입니다.사진 제공: 연합뉴스우크라이나-폴란드 국경을 방문한 조 바이든 미국 대통령이 오늘 폴란드 대통령과 회담합니다.\\n폴란드는 이번 전쟁의 난민을 가장 많이 수용한 국가로, 폴란드 지원 방안 등이 논의될 것이라고 외신들은 보도하고 있습니다.\\n우크라이나 전쟁 발발 이후 처음으로 유럽을 방문한 바이든 대통령은 어제 우크라이나 국경에서 80㎞ 떨어진 미군 부대를 방문하고 피난민을 돕는 구호단체 관계자들과 간담회를 했습니다.']\n",
      "voice1.mp3\n",
      "{\"summary\":\"사진 제공: 연합뉴스우크라이나-폴란드 국경을 방문한 조 바이든 미국 대통령이 오늘 폴란드 대통령과 회담합니다.\\n폴란드는 이번 전쟁의 난민을 가장 많이 수용한 국가로, 폴란드 지원 방안 등이 논의될 것이라고 외신들은 보도하고 있습니다.\\n우크라이나 전쟁 발발 이후 처음으로 유럽을 방문한 바이든 대통령은 어제 우크라이나 국경에서 80㎞ 떨어진 미군 부대를 방문하고 피난민을 돕는 구호단체 관계자들과 간담회를 했습니다.\"}\n",
      "3번째 뉴스입니다.사진 제공: 연합뉴스우크라이나-폴란드 국경을 방문한 조 바이든 미국 대통령이 오늘 폴란드 대통령과 회담합니다.\n",
      "폴란드는 이번 전쟁의 난민을 가장 많이 수용한 국가로, 폴란드 지원 방안 등이 논의될 것이라고 외신들은 보도하고 있습니다.\n",
      "우크라이나 전쟁 발발 이후 처음으로 유럽을 방문한 바이든 대통령은 어제 우크라이나 국경에서 80㎞ 떨어진 미군 부대를 방문하고 피난민을 돕는 구호단체 관계자들과 간담회를 했습니다.\n",
      "['1번째 뉴스입니다.사진 제공: 연합뉴스우크라이나-폴란드 국경을 방문한 조 바이든 미국 대통령이 오늘 폴란드 대통령과 회담합니다.\\n폴란드는 이번 전쟁의 난민을 가장 많이 수용한 국가로, 폴란드 지원 방안 등이 논의될 것이라고 외신들은 보도하고 있습니다.\\n우크라이나 전쟁 발발 이후 처음으로 유럽을 방문한 바이든 대통령은 어제 우크라이나 국경에서 80㎞ 떨어진 미군 부대를 방문하고 피난민을 돕는 구호단체 관계자들과 간담회를 했습니다.', '2번째 뉴스입니다.사진 제공: 연합뉴스우크라이나-폴란드 국경을 방문한 조 바이든 미국 대통령이 오늘 폴란드 대통령과 회담합니다.\\n폴란드는 이번 전쟁의 난민을 가장 많이 수용한 국가로, 폴란드 지원 방안 등이 논의될 것이라고 외신들은 보도하고 있습니다.\\n우크라이나 전쟁 발발 이후 처음으로 유럽을 방문한 바이든 대통령은 어제 우크라이나 국경에서 80㎞ 떨어진 미군 부대를 방문하고 피난민을 돕는 구호단체 관계자들과 간담회를 했습니다.', '3번째 뉴스입니다.사진 제공: 연합뉴스우크라이나-폴란드 국경을 방문한 조 바이든 미국 대통령이 오늘 폴란드 대통령과 회담합니다.\\n폴란드는 이번 전쟁의 난민을 가장 많이 수용한 국가로, 폴란드 지원 방안 등이 논의될 것이라고 외신들은 보도하고 있습니다.\\n우크라이나 전쟁 발발 이후 처음으로 유럽을 방문한 바이든 대통령은 어제 우크라이나 국경에서 80㎞ 떨어진 미군 부대를 방문하고 피난민을 돕는 구호단체 관계자들과 간담회를 했습니다.']\n",
      "voice2.mp3\n"
     ]
    }
   ],
   "source": [
    "# news_list = []\n",
    "\n",
    "import os\n",
    "import sys\n",
    "import requests\n",
    "import json\n",
    "import urllib.request\n",
    "import pandas as pd\n",
    "\n",
    "len(news_df.title)\n",
    "news_list=[]\n",
    "\n",
    "client_id = \"qj40wl5n0t\"\n",
    "client_secret = \"1xzXEYgwlsbv9RQxd1onUSByiyvtBDPFV9NEY1mv\"\n",
    "\n",
    "for i in range(len(news_df.title)):\n",
    "    headers = {\n",
    "    \"X-NCP-APIGW-API-KEY-ID\": client_id,\n",
    "    \"X-NCP-APIGW-API-KEY\": client_secret,\n",
    "    \"Content-Type\": \"application/json\"\n",
    "}\n",
    "    language = \"ko\" # Language of document (ko, ja )\n",
    "    model = \"news\" # Model used for summaries (general, news)\n",
    "    tone = \"2\" # Converts the tone of the summarized result. (0, 1, 2, 3)\n",
    "    summaryCount = \"3\" # This is the number of sentences for the summarized document.\n",
    "    url= \"https://naveropenapi.apigw.ntruss.com/text-summary/v1/summarize\" \n",
    "    title= \"\"\n",
    "    content = news_df.text[i+1]\n",
    "    data = {\n",
    "        \"document\": {\n",
    "        \"title\": title,\n",
    "        \"content\" : content\n",
    "        },\n",
    "        \"option\": {\n",
    "        \"language\": language,\n",
    "        \"model\": model,\n",
    "        \"tone\": tone,\n",
    "        \"summaryCount\" : summaryCount\n",
    "        }\n",
    "    }\n",
    "    # print(json.dumps(data, indent=4, sort_keys=True))\n",
    "    response = requests.post(url, data=json.dumps(data), headers=headers)\n",
    "    rescode = response.status_code\n",
    "    if(rescode == 200):\n",
    "        r1=response.text\n",
    "        print(r1)\n",
    "\n",
    "    else:\n",
    "        print(\"Error : \" + response.text)\n",
    "        \n",
    "    r1\n",
    "\n",
    "    #r1 = json.loads(r1)\n",
    "    r1d = json.loads(r1)\n",
    "        # r1 = json.dumps(r1)\n",
    "        # r1r1= r1['summary']\n",
    "    r1r1 = r1d['summary']\n",
    "#    r1r1= r1.split('연합뉴스')[1]\n",
    "    r1r1 = '{}번째 뉴스입니다.{}'.format(i+1, r1r1)\n",
    "    news_list.append(r1r1)\n",
    "    print(r1r1)\n",
    "    print(news_list)\n",
    "    \n",
    "    encText = urllib.parse.quote(r1r1)\n",
    "    data = \"speaker=njihun&volume=0&speed=0&pitch=0&format=mp3&text=\" + encText;\n",
    "    url = \"https://naveropenapi.apigw.ntruss.com/tts-premium/v1/tts\"\n",
    "    request = urllib.request.Request(url)\n",
    "    request.add_header(\"X-NCP-APIGW-API-KEY-ID\",client_id)\n",
    "    request.add_header(\"X-NCP-APIGW-API-KEY\",client_secret)\n",
    "    response = urllib.request.urlopen(request, data=data.encode('utf-8'))\n",
    "    rescode = response.getcode()\n",
    "    if(rescode==200):\n",
    "        response_body = response.read()\n",
    "        fn = 'voice{}.mp3'.format(i)\n",
    "        with open(fn, 'wb') as f:\n",
    "            f.write(response_body)\n",
    "        print(fn)\n",
    "    else:\n",
    "        print(\"Error Code:\" + rescode)"
   ]
  },
  {
   "cell_type": "code",
   "execution_count": 13,
   "id": "96756618",
   "metadata": {},
   "outputs": [
    {
     "name": "stdout",
     "output_type": "stream",
     "text": [
      "Error : {\"status\":400,\"error\":{\"errorCode\":\"E003\",\"message\":\"Text quota Exceeded\"}}\n",
      "Error : {\"status\":400,\"error\":{\"errorCode\":\"E003\",\"message\":\"Text quota Exceeded\"}}\n",
      "{\"summary\":\"사진 제공: 연합뉴스우크라이나-폴란드 국경을 방문한 조 바이든 미국 대통령이 오늘 폴란드 대통령과 회담합니다.\\n폴란드는 이번 전쟁의 난민을 가장 많이 수용한 국가로, 폴란드 지원 방안 등이 논의될 것이라고 외신들은 보도하고 있습니다.\\n우크라이나 전쟁 발발 이후 처음으로 유럽을 방문한 바이든 대통령은 어제 우크라이나 국경에서 80㎞ 떨어진 미군 부대를 방문하고 피난민을 돕는 구호단체 관계자들과 간담회를 했습니다.\"}\n"
     ]
    }
   ],
   "source": [
    "# news_list = []\n",
    "\n",
    "import os\n",
    "import sys\n",
    "import requests\n",
    "import json\n",
    "import urllib.request\n",
    "import pandas as pd\n",
    "\n",
    "len(news_df.title)\n",
    "news_list=[]\n",
    "\n",
    "client_id = \"qj40wl5n0t\"\n",
    "client_secret = \"1xzXEYgwlsbv9RQxd1onUSByiyvtBDPFV9NEY1mv\"\n",
    "\n",
    "for i in range(len(news_df.title)):\n",
    "    headers = {\n",
    "    \"X-NCP-APIGW-API-KEY-ID\": client_id,\n",
    "    \"X-NCP-APIGW-API-KEY\": client_secret,\n",
    "    \"Content-Type\": \"application/json\"\n",
    "}\n",
    "    language = \"ko\" # Language of document (ko, ja )\n",
    "    model = \"news\" # Model used for summaries (general, news)\n",
    "    tone = \"2\" # Converts the tone of the summarized result. (0, 1, 2, 3)\n",
    "    summaryCount = \"3\" # This is the number of sentences for the summarized document.\n",
    "    url= \"https://naveropenapi.apigw.ntruss.com/text-summary/v1/summarize\" \n",
    "    title= \"\"\n",
    "    content = news_df.text[i+1]\n",
    "    data = {\n",
    "        \"document\": {\n",
    "        \"title\": title,\n",
    "        \"content\" : content\n",
    "        },\n",
    "        \"option\": {\n",
    "        \"language\": language,\n",
    "        \"model\": model,\n",
    "        \"tone\": tone,\n",
    "        \"summaryCount\" : summaryCount\n",
    "        }\n",
    "    }\n",
    "    # print(json.dumps(data, indent=4, sort_keys=True))\n",
    "    response = requests.post(url, data=json.dumps(data), headers=headers)\n",
    "    rescode = response.status_code\n",
    "    if(rescode == 200):\n",
    "        r1=response.text\n",
    "        print(r1)\n",
    "\n",
    "    else:\n",
    "        print(\"Error : \" + response.text)\n",
    "        \n",
    "    r1"
   ]
  },
  {
   "cell_type": "code",
   "execution_count": 6,
   "id": "580d1073",
   "metadata": {},
   "outputs": [
    {
     "data": {
      "text/plain": [
       "'voice2.mp3'"
      ]
     },
     "execution_count": 6,
     "metadata": {},
     "output_type": "execute_result"
    }
   ],
   "source": [
    "fn"
   ]
  },
  {
   "cell_type": "code",
   "execution_count": 8,
   "id": "ec2d5796",
   "metadata": {},
   "outputs": [
    {
     "data": {
      "text/plain": [
       "'3번째 뉴스입니다.김은혜 당선인 대변인 [사진 제공: 연합뉴스]윤석열 당선인 측이 문재인 대통령을 겨냥해 \"윤석열 당선인의 판단에 마치 문제가 있고 참모들이 당선인의 판단을 흐리는 것처럼 언급하신 것은 대단히 유감스럽다\"고 밝혔습니다.\\n김은혜 당선인 대변인은 서면 브리핑을 통해 \"박수현 소통수석을 통해 전달된 문재인 대통령의 말씀과 관련해 문의가 많아 말씀드린다\"며 이같이 말했습니다.\\n김 대변인은 \"정부 인수인계가 원활치 않은 상황에서, 코로나19와 경제위기 대응이 긴요한 때에 두 분의 만남을 \\'덕담 나누는 자리\\' 정도로 평가하는 것에 대해서도 쉽게 동의하기 어렵다\"고 지적했습니다.'"
      ]
     },
     "execution_count": 8,
     "metadata": {},
     "output_type": "execute_result"
    }
   ],
   "source": [
    "r1r1"
   ]
  },
  {
   "cell_type": "code",
   "execution_count": 11,
   "id": "30fa706c",
   "metadata": {},
   "outputs": [],
   "source": [
    "audio1 = open(\"voice0.mp3\", \"rb\").read()\n",
    "audio2 = open(\"voice1.mp3\", \"rb\").read()\n",
    "audio3 = open(\"voice2.mp3\", \"rb\").read()\n",
    "audioJoin = audio1 + audio2 + audio3\n",
    "audioFinal = open(\"audioFinal.mp3\", \"wb\").write(audioJoin)"
   ]
  },
  {
   "cell_type": "code",
   "execution_count": 10,
   "id": "7ac0e842",
   "metadata": {},
   "outputs": [
    {
     "data": {
      "text/plain": [
       "1000224"
      ]
     },
     "execution_count": 10,
     "metadata": {},
     "output_type": "execute_result"
    }
   ],
   "source": [
    "audioFinal"
   ]
  },
  {
   "cell_type": "code",
   "execution_count": 26,
   "id": "ef6f867d",
   "metadata": {},
   "outputs": [
    {
     "ename": "NameError",
     "evalue": "name 'news_list' is not defined",
     "output_type": "error",
     "traceback": [
      "\u001b[1;31m---------------------------------------------------------------------------\u001b[0m",
      "\u001b[1;31mNameError\u001b[0m                                 Traceback (most recent call last)",
      "\u001b[1;32mC:\\Users\\Public\\Documents\\ESTsoft\\CreatorTemp/ipykernel_892/4281162854.py\u001b[0m in \u001b[0;36m<module>\u001b[1;34m\u001b[0m\n\u001b[1;32m----> 1\u001b[1;33m \u001b[0mnews_list\u001b[0m\u001b[1;33m\u001b[0m\u001b[1;33m\u001b[0m\u001b[0m\n\u001b[0m",
      "\u001b[1;31mNameError\u001b[0m: name 'news_list' is not defined"
     ]
    }
   ],
   "source": [
    "news_list"
   ]
  },
  {
   "cell_type": "code",
   "execution_count": 22,
   "id": "85628352",
   "metadata": {},
   "outputs": [],
   "source": [
    "import os\n",
    "import sys\n",
    "import requests\n",
    "import json\n",
    "import urllib.request\n",
    "# import pandas as pd\n",
    "# news_df = pd.read_excel('./news_df.xlsx')\n",
    "\n",
    "def process_b(news_df):\n",
    "    len(news_df.title)\n",
    "    client_id = \"qj40wl5n0t\"\n",
    "    client_secret = \"1xzXEYgwlsbv9RQxd1onUSByiyvtBDPFV9NEY1mv\"\n",
    "\n",
    "    for i in range(len(news_df.title)):\n",
    "        headers = {\n",
    "        \"X-NCP-APIGW-API-KEY-ID\": client_id,\n",
    "        \"X-NCP-APIGW-API-KEY\": client_secret,\n",
    "        \"Content-Type\": \"application/json\"\n",
    "    }\n",
    "        language = \"ko\" # Language of document (ko, ja )\n",
    "        model = \"news\" # Model used for summaries (general, news)\n",
    "        tone = \"2\" # Converts the tone of the summarized result. (0, 1, 2, 3)\n",
    "        summaryCount = \"3\" # This is the number of sentences for the summarized document.\n",
    "        url= \"https://naveropenapi.apigw.ntruss.com/text-summary/v1/summarize\" \n",
    "        title= \"\"\n",
    "        content = news_df.text[i+1]\n",
    "        data = {\n",
    "            \"document\": {\n",
    "            \"title\": title,\n",
    "            \"content\" : content\n",
    "            },\n",
    "            \"option\": {\n",
    "            \"language\": language,\n",
    "            \"model\": model,\n",
    "            \"tone\": tone,\n",
    "            \"summaryCount\" : summaryCount\n",
    "            }\n",
    "        }\n",
    "        # print(json.dumps(data, indent=4, sort_keys=True))\n",
    "        response = requests.post(url, data=json.dumps(data), headers=headers)\n",
    "        rescode = response.status_code\n",
    "        if(rescode == 200):\n",
    "            r1=response.text  \n",
    "            # print(r1)\n",
    "\n",
    "        else:\n",
    "            print(\"Error : \" + response.text)\n",
    "    \n",
    "        # r1 = json.loads(r1)\n",
    "        r1d = json.loads(r1)\n",
    "        # r1 = json.dumps(r1)\n",
    "        # r1r1= r1['summary']\n",
    "        r1r1 = r1d['summary']\n",
    "        #r1r1= r1.split('연합뉴스')[1]\n",
    "        r1r1 = '{}번째 뉴스입니다.{}'.format(i+1, r1r1)\n",
    "        print(r1r1)\n",
    "    \n",
    "        encText = urllib.parse.quote(r1r1)\n",
    "        data = \"speaker=njihun&volume=0&speed=0&pitch=0&format=mp3&text=\" + encText;\n",
    "        url = \"https://naveropenapi.apigw.ntruss.com/tts-premium/v1/tts\"\n",
    "        request = urllib.request.Request(url)\n",
    "        request.add_header(\"X-NCP-APIGW-API-KEY-ID\",client_id)\n",
    "        request.add_header(\"X-NCP-APIGW-API-KEY\",client_secret)\n",
    "        response = urllib.request.urlopen(request, data=data.encode('utf-8'))\n",
    "        rescode = response.getcode()\n",
    "        if(rescode==200):\n",
    "            response_body = response.read()\n",
    "            fn = 'voice{}.mp3'.format(i)\n",
    "            with open(fn, 'wb') as f:\n",
    "                f.write(response_body)\n",
    "            print(fn)\n",
    "        else:\n",
    "            print(\"Error Code:\" + rescode)\n",
    "            \n",
    "    result = (r1r1, fn)\n",
    "    return result\n"
   ]
  },
  {
   "cell_type": "code",
   "execution_count": 37,
   "id": "edbfcc42",
   "metadata": {},
   "outputs": [
    {
     "name": "stdout",
     "output_type": "stream",
     "text": [
      "1번째 뉴스입니다.북한이 대륙간 탄도미사일, ICBM을 시험 발사한 것과 관련해 문재인 대통령은 \"김정은 국무위원장이 국제사회에 약속한 발사 유예를 스스로 파기한 것\"이라며 \"강력히 규탄한다\"고 밝혔습니다.\n",
      "문 대통령은 오늘 오후 청와대에서 국가안전보장회의, NSC 회의를 긴급 소집해 \"북한의 이번 발사는 한반도와 지역·국제사회에 심각한 위협을 야기하고 유엔안보리 결의를 명백히 위반한 것\"이라며 이같이 말했습니다.\n",
      "이어 \"정부 교체기 안보에 한 치의 빈틈도 없도록 한미동맹을 바탕으로 국제사회와 협력해 모든 대응 조치를 강구하라\"고 지시하고, 특히 \"대통령 당선인 측과도 긴밀하게 협력하라\"고 당부했습니다.\n",
      "voice0.mp3\n",
      "2번째 뉴스입니다.사진 제공: 연합뉴스]문재인 대통령이 박근혜 전 대통령에게 '늘 건강하십시오'라는 문구가 적힌 퇴원 축하 난을 보냈다고, 청와대가 밝혔습니다.\n",
      "또 축하난을 받은 박 전 대통령은 문 대통령에게 \"마무리 잘 하시고, 건강을 잘 챙기시길 바란다\"는 말을 전해 왔다고 청와대는 설명했습니다.\n",
      "청와대는 \"문 대통령의 축하난은 지난 22일 오후, 김한규 청와대 정무비서관이 유영하 변호사를 통해 박 전 대통령에게 전달했다\"고 덧붙였습니다.\n",
      "voice1.mp3\n",
      "3번째 뉴스입니다.김은혜 당선인 대변인 [사진 제공: 연합뉴스]윤석열 당선인 측이 문재인 대통령을 겨냥해 \"윤석열 당선인의 판단에 마치 문제가 있고 참모들이 당선인의 판단을 흐리는 것처럼 언급하신 것은 대단히 유감스럽다\"고 밝혔습니다.\n",
      "김은혜 당선인 대변인은 서면 브리핑을 통해 \"박수현 소통수석을 통해 전달된 문재인 대통령의 말씀과 관련해 문의가 많아 말씀드린다\"며 이같이 말했습니다.\n",
      "김 대변인은 \"정부 인수인계가 원활치 않은 상황에서, 코로나19와 경제위기 대응이 긴요한 때에 두 분의 만남을 '덕담 나누는 자리' 정도로 평가하는 것에 대해서도 쉽게 동의하기 어렵다\"고 지적했습니다.\n",
      "voice2.mp3\n"
     ]
    },
    {
     "data": {
      "text/plain": [
       "'(\\'3번째 뉴스입니다.김은혜 당선인 대변인 [사진 제공: 연합뉴스]윤석열 당선인 측이 문재인 대통령을 겨냥해 \"윤석열 당선인의 판단에 마치 문제가 있고 참모들이 당선인의 판단을 흐리는 것처럼 언급하신 것은 대단히 유감스럽다\"고 밝혔습니다.\\\\n김은혜 당선인 대변인은 서면 브리핑을 통해 \"박수현 소통수석을 통해 전달된 문재인 대통령의 말씀과 관련해 문의가 많아 말씀드린다\"며 이같이 말했습니다.\\\\n김 대변인은 \"정부 인수인계가 원활치 않은 상황에서, 코로나19와 경제위기 대응이 긴요한 때에 두 분의 만남을 \\\\\\'덕담 나누는 자리\\\\\\' 정도로 평가하는 것에 대해서도 쉽게 동의하기 어렵다\"고 지적했습니다.\\', \\'voice2.mp3\\')'"
      ]
     },
     "execution_count": 37,
     "metadata": {},
     "output_type": "execute_result"
    }
   ],
   "source": [
    "result = process_b(news_df)\n",
    "str(result)"
   ]
  },
  {
   "cell_type": "code",
   "execution_count": 25,
   "id": "87c7693e",
   "metadata": {},
   "outputs": [
    {
     "name": "stdout",
     "output_type": "stream",
     "text": [
      "1번째 뉴스입니다.북한이 대륙간 탄도미사일, ICBM을 시험 발사한 것과 관련해 문재인 대통령은 \"김정은 국무위원장이 국제사회에 약속한 발사 유예를 스스로 파기한 것\"이라며 \"강력히 규탄한다\"고 밝혔습니다.\n",
      "문 대통령은 오늘 오후 청와대에서 국가안전보장회의, NSC 회의를 긴급 소집해 \"북한의 이번 발사는 한반도와 지역·국제사회에 심각한 위협을 야기하고 유엔안보리 결의를 명백히 위반한 것\"이라며 이같이 말했습니다.\n",
      "이어 \"정부 교체기 안보에 한 치의 빈틈도 없도록 한미동맹을 바탕으로 국제사회와 협력해 모든 대응 조치를 강구하라\"고 지시하고, 특히 \"대통령 당선인 측과도 긴밀하게 협력하라\"고 당부했습니다.\n",
      "voice0.mp3\n",
      "2번째 뉴스입니다.사진 제공: 연합뉴스]문재인 대통령이 박근혜 전 대통령에게 '늘 건강하십시오'라는 문구가 적힌 퇴원 축하 난을 보냈다고, 청와대가 밝혔습니다.\n",
      "또 축하난을 받은 박 전 대통령은 문 대통령에게 \"마무리 잘 하시고, 건강을 잘 챙기시길 바란다\"는 말을 전해 왔다고 청와대는 설명했습니다.\n",
      "청와대는 \"문 대통령의 축하난은 지난 22일 오후, 김한규 청와대 정무비서관이 유영하 변호사를 통해 박 전 대통령에게 전달했다\"고 덧붙였습니다.\n",
      "voice1.mp3\n",
      "3번째 뉴스입니다.김은혜 당선인 대변인 [사진 제공: 연합뉴스]윤석열 당선인 측이 문재인 대통령을 겨냥해 \"윤석열 당선인의 판단에 마치 문제가 있고 참모들이 당선인의 판단을 흐리는 것처럼 언급하신 것은 대단히 유감스럽다\"고 밝혔습니다.\n",
      "김은혜 당선인 대변인은 서면 브리핑을 통해 \"박수현 소통수석을 통해 전달된 문재인 대통령의 말씀과 관련해 문의가 많아 말씀드린다\"며 이같이 말했습니다.\n",
      "김 대변인은 \"정부 인수인계가 원활치 않은 상황에서, 코로나19와 경제위기 대응이 긴요한 때에 두 분의 만남을 '덕담 나누는 자리' 정도로 평가하는 것에 대해서도 쉽게 동의하기 어렵다\"고 지적했습니다.\n",
      "voice2.mp3\n"
     ]
    },
    {
     "data": {
      "text/plain": [
       "('3번째 뉴스입니다.김은혜 당선인 대변인 [사진 제공: 연합뉴스]윤석열 당선인 측이 문재인 대통령을 겨냥해 \"윤석열 당선인의 판단에 마치 문제가 있고 참모들이 당선인의 판단을 흐리는 것처럼 언급하신 것은 대단히 유감스럽다\"고 밝혔습니다.\\n김은혜 당선인 대변인은 서면 브리핑을 통해 \"박수현 소통수석을 통해 전달된 문재인 대통령의 말씀과 관련해 문의가 많아 말씀드린다\"며 이같이 말했습니다.\\n김 대변인은 \"정부 인수인계가 원활치 않은 상황에서, 코로나19와 경제위기 대응이 긴요한 때에 두 분의 만남을 \\'덕담 나누는 자리\\' 정도로 평가하는 것에 대해서도 쉽게 동의하기 어렵다\"고 지적했습니다.',\n",
       " 'voice2.mp3')"
      ]
     },
     "execution_count": 25,
     "metadata": {},
     "output_type": "execute_result"
    }
   ],
   "source": [
    "process_b(news_df)"
   ]
  },
  {
   "cell_type": "code",
   "execution_count": 16,
   "id": "b9d1cd3b",
   "metadata": {},
   "outputs": [
    {
     "ename": "NameError",
     "evalue": "name 'ff' is not defined",
     "output_type": "error",
     "traceback": [
      "\u001b[1;31m---------------------------------------------------------------------------\u001b[0m",
      "\u001b[1;31mNameError\u001b[0m                                 Traceback (most recent call last)",
      "\u001b[1;32mC:\\Users\\Public\\Documents\\ESTsoft\\CreatorTemp/ipykernel_1488/408574097.py\u001b[0m in \u001b[0;36m<module>\u001b[1;34m\u001b[0m\n\u001b[0;32m      7\u001b[0m \u001b[1;31m# news_df = pd.read_excel('./news_df.xlsx')\u001b[0m\u001b[1;33m\u001b[0m\u001b[1;33m\u001b[0m\u001b[0m\n\u001b[0;32m      8\u001b[0m \u001b[0mnews_list\u001b[0m\u001b[1;33m=\u001b[0m\u001b[1;33m[\u001b[0m\u001b[1;33m]\u001b[0m\u001b[1;33m\u001b[0m\u001b[1;33m\u001b[0m\u001b[0m\n\u001b[1;32m----> 9\u001b[1;33m \u001b[0mff\u001b[0m\u001b[1;33m\u001b[0m\u001b[1;33m\u001b[0m\u001b[0m\n\u001b[0m\u001b[0;32m     10\u001b[0m \u001b[1;32mdef\u001b[0m \u001b[0mprocess_b\u001b[0m\u001b[1;33m(\u001b[0m\u001b[0mnews_df\u001b[0m\u001b[1;33m)\u001b[0m\u001b[1;33m:\u001b[0m\u001b[1;33m\u001b[0m\u001b[1;33m\u001b[0m\u001b[0m\n\u001b[0;32m     11\u001b[0m     \u001b[0mlen\u001b[0m\u001b[1;33m(\u001b[0m\u001b[0mnews_df\u001b[0m\u001b[1;33m.\u001b[0m\u001b[0mtitle\u001b[0m\u001b[1;33m)\u001b[0m\u001b[1;33m\u001b[0m\u001b[1;33m\u001b[0m\u001b[0m\n",
      "\u001b[1;31mNameError\u001b[0m: name 'ff' is not defined"
     ]
    }
   ],
   "source": [
    "import os\n",
    "import sys\n",
    "import requests\n",
    "import json\n",
    "import urllib.request\n",
    "# import pandas as pd\n",
    "# news_df = pd.read_excel('./news_df.xlsx')\n",
    "news_list=[]\n",
    "ff\n",
    "def process_b(news_df):\n",
    "    len(news_df.title)\n",
    "    client_id = \"qj40wl5n0t\"\n",
    "    client_secret = \"1xzXEYgwlsbv9RQxd1onUSByiyvtBDPFV9NEY1mv\"\n",
    "\n",
    "    for i in range(len(news_df.title)):\n",
    "        headers = {\n",
    "        \"X-NCP-APIGW-API-KEY-ID\": client_id,\n",
    "        \"X-NCP-APIGW-API-KEY\": client_secret,\n",
    "        \"Content-Type\": \"application/json\"\n",
    "    }\n",
    "        language = \"ko\" # Language of document (ko, ja )\n",
    "        model = \"news\" # Model used for summaries (general, news)\n",
    "        tone = \"2\" # Converts the tone of the summarized result. (0, 1, 2, 3)\n",
    "        summaryCount = \"3\" # This is the number of sentences for the summarized document.\n",
    "        url= \"https://naveropenapi.apigw.ntruss.com/text-summary/v1/summarize\" \n",
    "        title= \"\"\n",
    "        content = news_df.text[i+1]\n",
    "        data = {\n",
    "            \"document\": {\n",
    "            \"title\": title,\n",
    "            \"content\" : content\n",
    "            },\n",
    "            \"option\": {\n",
    "            \"language\": language,\n",
    "            \"model\": model,\n",
    "            \"tone\": tone,\n",
    "            \"summaryCount\" : summaryCount\n",
    "            }\n",
    "        }\n",
    "        # print(json.dumps(data, indent=4, sort_keys=True))\n",
    "        response = requests.post(url, data=json.dumps(data), headers=headers)\n",
    "        rescode = response.status_code\n",
    "        if(rescode == 200):\n",
    "            r1=response.text  \n",
    "            # print(r1)\n",
    "\n",
    "        else:\n",
    "            print(\"Error : \" + response.text)\n",
    "    \n",
    "        # r1 = json.loads(r1)\n",
    "        r1d = json.loads(r1)\n",
    "        # r1 = json.dumps(r1)\n",
    "        # r1r1= r1['summary']\n",
    "        r1r1 = r1d['summary']\n",
    "        #r1r1= r1.split('연합뉴스')[1]\n",
    "        r1r1 = '{}번째 뉴스입니다.{}'.format(i+1, r1r1)\n",
    "        news_list.append(r1r1)\n",
    "        #print(r1r1)\n",
    "        print(news_list)\n",
    "    \n",
    "        encText = urllib.parse.quote(r1r1)\n",
    "        data = \"speaker=njihun&volume=0&speed=0&pitch=0&format=mp3&text=\" + encText;\n",
    "        url = \"https://naveropenapi.apigw.ntruss.com/tts-premium/v1/tts\"\n",
    "        request = urllib.request.Request(url)\n",
    "        request.add_header(\"X-NCP-APIGW-API-KEY-ID\",client_id)\n",
    "        request.add_header(\"X-NCP-APIGW-API-KEY\",client_secret)\n",
    "        response = urllib.request.urlopen(request, data=data.encode('utf-8'))\n",
    "        rescode = response.getcode()\n",
    "        if(rescode==200):\n",
    "            response_body = response.read()\n",
    "            fn = 'voice{}.mp3'.format(i)\n",
    "            ff.append(fn)\n",
    "            with open(fn, 'wb') as f:\n",
    "                f.write(response_body)\n",
    "                \n",
    "            print(fn)\n",
    "        else:\n",
    "            print(\"Error Code:\" + rescode)\n",
    "            \n",
    "    result = (r1r1, fn)\n",
    "    \n",
    "    return news_list"
   ]
  },
  {
   "cell_type": "code",
   "execution_count": 79,
   "id": "35fc9b87",
   "metadata": {},
   "outputs": [
    {
     "data": {
      "text/plain": [
       "[]"
      ]
     },
     "execution_count": 79,
     "metadata": {},
     "output_type": "execute_result"
    }
   ],
   "source": [
    "ff"
   ]
  },
  {
   "cell_type": "code",
   "execution_count": 58,
   "id": "c9127614",
   "metadata": {},
   "outputs": [
    {
     "name": "stdout",
     "output_type": "stream",
     "text": [
      "['1번째 뉴스입니다.북한이 대륙간 탄도미사일, ICBM을 시험 발사한 것과 관련해 문재인 대통령은 \"김정은 국무위원장이 국제사회에 약속한 발사 유예를 스스로 파기한 것\"이라며 \"강력히 규탄한다\"고 밝혔습니다.\\n문 대통령은 오늘 오후 청와대에서 국가안전보장회의, NSC 회의를 긴급 소집해 \"북한의 이번 발사는 한반도와 지역·국제사회에 심각한 위협을 야기하고 유엔안보리 결의를 명백히 위반한 것\"이라며 이같이 말했습니다.\\n이어 \"정부 교체기 안보에 한 치의 빈틈도 없도록 한미동맹을 바탕으로 국제사회와 협력해 모든 대응 조치를 강구하라\"고 지시하고, 특히 \"대통령 당선인 측과도 긴밀하게 협력하라\"고 당부했습니다.']\n",
      "voice0.mp3\n",
      "['1번째 뉴스입니다.북한이 대륙간 탄도미사일, ICBM을 시험 발사한 것과 관련해 문재인 대통령은 \"김정은 국무위원장이 국제사회에 약속한 발사 유예를 스스로 파기한 것\"이라며 \"강력히 규탄한다\"고 밝혔습니다.\\n문 대통령은 오늘 오후 청와대에서 국가안전보장회의, NSC 회의를 긴급 소집해 \"북한의 이번 발사는 한반도와 지역·국제사회에 심각한 위협을 야기하고 유엔안보리 결의를 명백히 위반한 것\"이라며 이같이 말했습니다.\\n이어 \"정부 교체기 안보에 한 치의 빈틈도 없도록 한미동맹을 바탕으로 국제사회와 협력해 모든 대응 조치를 강구하라\"고 지시하고, 특히 \"대통령 당선인 측과도 긴밀하게 협력하라\"고 당부했습니다.', '2번째 뉴스입니다.사진 제공: 연합뉴스]문재인 대통령이 박근혜 전 대통령에게 \\'늘 건강하십시오\\'라는 문구가 적힌 퇴원 축하 난을 보냈다고, 청와대가 밝혔습니다.\\n또 축하난을 받은 박 전 대통령은 문 대통령에게 \"마무리 잘 하시고, 건강을 잘 챙기시길 바란다\"는 말을 전해 왔다고 청와대는 설명했습니다.\\n청와대는 \"문 대통령의 축하난은 지난 22일 오후, 김한규 청와대 정무비서관이 유영하 변호사를 통해 박 전 대통령에게 전달했다\"고 덧붙였습니다.']\n",
      "voice1.mp3\n",
      "['1번째 뉴스입니다.북한이 대륙간 탄도미사일, ICBM을 시험 발사한 것과 관련해 문재인 대통령은 \"김정은 국무위원장이 국제사회에 약속한 발사 유예를 스스로 파기한 것\"이라며 \"강력히 규탄한다\"고 밝혔습니다.\\n문 대통령은 오늘 오후 청와대에서 국가안전보장회의, NSC 회의를 긴급 소집해 \"북한의 이번 발사는 한반도와 지역·국제사회에 심각한 위협을 야기하고 유엔안보리 결의를 명백히 위반한 것\"이라며 이같이 말했습니다.\\n이어 \"정부 교체기 안보에 한 치의 빈틈도 없도록 한미동맹을 바탕으로 국제사회와 협력해 모든 대응 조치를 강구하라\"고 지시하고, 특히 \"대통령 당선인 측과도 긴밀하게 협력하라\"고 당부했습니다.', '2번째 뉴스입니다.사진 제공: 연합뉴스]문재인 대통령이 박근혜 전 대통령에게 \\'늘 건강하십시오\\'라는 문구가 적힌 퇴원 축하 난을 보냈다고, 청와대가 밝혔습니다.\\n또 축하난을 받은 박 전 대통령은 문 대통령에게 \"마무리 잘 하시고, 건강을 잘 챙기시길 바란다\"는 말을 전해 왔다고 청와대는 설명했습니다.\\n청와대는 \"문 대통령의 축하난은 지난 22일 오후, 김한규 청와대 정무비서관이 유영하 변호사를 통해 박 전 대통령에게 전달했다\"고 덧붙였습니다.', '3번째 뉴스입니다.김은혜 당선인 대변인 [사진 제공: 연합뉴스]윤석열 당선인 측이 문재인 대통령을 겨냥해 \"윤석열 당선인의 판단에 마치 문제가 있고 참모들이 당선인의 판단을 흐리는 것처럼 언급하신 것은 대단히 유감스럽다\"고 밝혔습니다.\\n김은혜 당선인 대변인은 서면 브리핑을 통해 \"박수현 소통수석을 통해 전달된 문재인 대통령의 말씀과 관련해 문의가 많아 말씀드린다\"며 이같이 말했습니다.\\n김 대변인은 \"정부 인수인계가 원활치 않은 상황에서, 코로나19와 경제위기 대응이 긴요한 때에 두 분의 만남을 \\'덕담 나누는 자리\\' 정도로 평가하는 것에 대해서도 쉽게 동의하기 어렵다\"고 지적했습니다.']\n",
      "voice2.mp3\n"
     ]
    },
    {
     "data": {
      "text/plain": [
       "['1번째 뉴스입니다.북한이 대륙간 탄도미사일, ICBM을 시험 발사한 것과 관련해 문재인 대통령은 \"김정은 국무위원장이 국제사회에 약속한 발사 유예를 스스로 파기한 것\"이라며 \"강력히 규탄한다\"고 밝혔습니다.\\n문 대통령은 오늘 오후 청와대에서 국가안전보장회의, NSC 회의를 긴급 소집해 \"북한의 이번 발사는 한반도와 지역·국제사회에 심각한 위협을 야기하고 유엔안보리 결의를 명백히 위반한 것\"이라며 이같이 말했습니다.\\n이어 \"정부 교체기 안보에 한 치의 빈틈도 없도록 한미동맹을 바탕으로 국제사회와 협력해 모든 대응 조치를 강구하라\"고 지시하고, 특히 \"대통령 당선인 측과도 긴밀하게 협력하라\"고 당부했습니다.',\n",
       " '2번째 뉴스입니다.사진 제공: 연합뉴스]문재인 대통령이 박근혜 전 대통령에게 \\'늘 건강하십시오\\'라는 문구가 적힌 퇴원 축하 난을 보냈다고, 청와대가 밝혔습니다.\\n또 축하난을 받은 박 전 대통령은 문 대통령에게 \"마무리 잘 하시고, 건강을 잘 챙기시길 바란다\"는 말을 전해 왔다고 청와대는 설명했습니다.\\n청와대는 \"문 대통령의 축하난은 지난 22일 오후, 김한규 청와대 정무비서관이 유영하 변호사를 통해 박 전 대통령에게 전달했다\"고 덧붙였습니다.',\n",
       " '3번째 뉴스입니다.김은혜 당선인 대변인 [사진 제공: 연합뉴스]윤석열 당선인 측이 문재인 대통령을 겨냥해 \"윤석열 당선인의 판단에 마치 문제가 있고 참모들이 당선인의 판단을 흐리는 것처럼 언급하신 것은 대단히 유감스럽다\"고 밝혔습니다.\\n김은혜 당선인 대변인은 서면 브리핑을 통해 \"박수현 소통수석을 통해 전달된 문재인 대통령의 말씀과 관련해 문의가 많아 말씀드린다\"며 이같이 말했습니다.\\n김 대변인은 \"정부 인수인계가 원활치 않은 상황에서, 코로나19와 경제위기 대응이 긴요한 때에 두 분의 만남을 \\'덕담 나누는 자리\\' 정도로 평가하는 것에 대해서도 쉽게 동의하기 어렵다\"고 지적했습니다.']"
      ]
     },
     "execution_count": 58,
     "metadata": {},
     "output_type": "execute_result"
    }
   ],
   "source": [
    "news_list = process_b(news_df)\n",
    "news_list"
   ]
  },
  {
   "cell_type": "code",
   "execution_count": 65,
   "id": "7601be2a",
   "metadata": {},
   "outputs": [
    {
     "data": {
      "text/plain": [
       "'1번째 뉴스입니다.북한이 대륙간 탄도미사일, ICBM을 시험 발사한 것과 관련해 문재인 대통령은 \"김정은 국무위원장이 국제사회에 약속한 발사 유예를 스스로 파기한 것\"이라며 \"강력히 규탄한다\"고 밝혔습니다.문 대통령은 오늘 오후 청와대에서 국가안전보장회의, NSC 회의를 긴급 소집해 \"북한의 이번 발사는 한반도와 지역·국제사회에 심각한 위협을 야기하고 유엔안보리 결의를 명백히 위반한 것\"이라며 이같이 말했습니다.이어 \"정부 교체기 안보에 한 치의 빈틈도 없도록 한미동맹을 바탕으로 국제사회와 협력해 모든 대응 조치를 강구하라\"고 지시하고, 특히 \"대통령 당선인 측과도 긴밀하게 협력하라\"고 당부했습니다.'"
      ]
     },
     "execution_count": 65,
     "metadata": {},
     "output_type": "execute_result"
    }
   ],
   "source": [
    "news_list[0].replace('\\n','')"
   ]
  },
  {
   "cell_type": "code",
   "execution_count": 7,
   "id": "a3211857",
   "metadata": {},
   "outputs": [
    {
     "name": "stdout",
     "output_type": "stream",
     "text": [
      "{\n",
      "    \"document\": {\n",
      "        \"content\": \"\\uac04\\ud3b8\\uc1a1\\uae08 \\uc774\\uc6a9\\uae08\\uc561\\uc774 \\ud558\\ub8e8 \\ud3c9\\uade0 2000\\uc5b5\\uc6d0\\uc744 \\ub118\\uc5b4\\uc130\\ub2e4. \\ud55c\\uad6d\\uc740\\ud589\\uc774 17\\uc77c \\ubc1c\\ud45c\\ud55c '2019\\ub144 \\uc0c1\\ubc18\\uae30\\uc911 \\uc804\\uc790\\uc9c0\\uae09\\uc11c\\ube44\\uc2a4 \\uc774\\uc6a9 \\ud604\\ud669'\\uc5d0 \\ub530\\ub974\\uba74 \\uc62c\\ud574 \\uc0c1\\ubc18\\uae30 \\uac04\\ud3b8\\uc1a1\\uae08\\uc11c\\ube44\\uc2a4 \\uc774\\uc6a9\\uae08\\uc561(\\uc77c\\ud3c9\\uade0)\\uc740 \\uc9c0\\ub09c\\ud574 \\ud558\\ubc18\\uae30 \\ub300\\ube44 60.7% \\uc99d\\uac00\\ud55c 2005\\uc5b5\\uc6d0\\uc73c\\ub85c \\uc9d1\\uacc4\\ub410\\ub2e4. \\uac19\\uc740 \\uae30\\uac04 \\uc774\\uc6a9\\uac74\\uc218(\\uc77c\\ud3c9\\uade0)\\ub294 34.8% \\ub298\\uc5b4\\ub09c 218\\ub9cc\\uac74\\uc774\\uc5c8\\ub2e4. \\uac04\\ud3b8 \\uc1a1\\uae08 \\uc2dc\\uc7a5\\uc5d0\\ub294 \\uc120\\ubd88\\uc804\\uc790\\uc9c0\\uae09\\uc11c\\ube44\\uc2a4\\ub97c \\uc81c\\uacf5\\ud558\\ub294 \\uc804\\uc790\\uae08\\uc735\\uc5c5\\uc790\\uc640 \\uae08\\uc735\\uae30\\uad00 \\ub4f1\\uc774 \\ucc38\\uc5ec\\ud558\\uace0 \\uc788\\ub2e4. \\uc774\\uc6a9\\uae08\\uc561\\uc740 \\uc804\\uc790\\uae08\\uc735\\uc5c5\\uc790\\uac00 \\ud558\\ub8e8\\ud3c9\\uade0 1879\\uc5b5\\uc6d0, \\uae08\\uc735\\uae30\\uad00\\uc774 126\\uc5b5\\uc6d0\\uc774\\uc5c8\\ub2e4. \\ud55c\\uc740\\uc740 \\uce74\\uce74\\uc624\\ud398\\uc774, \\ud1a0\\uc2a4 \\ub4f1 \\uac04\\ud3b8\\uc1a1\\uae08 \\uc11c\\ube44\\uc2a4\\ub97c \\uc81c\\uacf5\\ud558\\ub294 \\uc5c5\\uccb4 \\uac04 \\uacbd\\uc7c1\\uc774 \\uc2ec\\ud654\\ub418\\uba74\\uc11c \\uc774\\uc6a9\\uaddc\\ubaa8\\uac00 \\ud06c\\uac8c \\ud655\\ub300\\ub410\\ub2e4\\uace0 \\ubd84\\uc11d\\ud588\\ub2e4. \\uad6d\\ud68c \\uc815\\ubb34\\uc704\\uc6d0\\ud68c \\uc18c\\uc18d \\ubc14\\ub978\\ubbf8\\ub798\\ub2f9 \\uc720\\uc758\\ub3d9 \\uc758\\uc6d0\\uc5d0 \\ub530\\ub974\\uba74 \\uce74\\uce74\\uc624\\ud398\\uc774, \\ud1a0\\uc2a4 \\ub4f1 \\uc120\\ubd88\\uc804\\uc790\\uc9c0\\uae09\\uc11c\\ube44\\uc2a4 \\uc81c\\uacf5\\uc5c5\\uccb4\\ub294 \\uc9c0\\ub09c\\ud574 \\ub9c8\\ucf00\\ud305 \\ube44\\uc6a9\\uc73c\\ub85c 1000\\uc5b5\\uc6d0 \\uc774\\uc0c1\\uc744 \\uc9c0\\ucd9c\\ud588\\ub2e4. \\ub9c8\\ucf00\\ud305 \\ube44\\uc6a9 \\uc9c0\\ucd9c\\uaddc\\ubaa8\\ub294 \\uce74\\uce74\\uc624\\ud398\\uc774\\uac00 491\\uc5b5\\uc6d0, \\ube44\\ubc14\\ub9ac\\ud37c\\ube14\\ub9ac\\uce74(\\ud1a0\\uc2a4)\\uac00 134\\uc5b5\\uc6d0 \\ub4f1 \\uc21c\\uc73c\\ub85c \\ub9ce\\uc558\\ub2e4.\",\n",
      "        \"title\": \"'\\ud558\\ub8e8 2000\\uc5b5' \\ud310 \\ucee4\\uc9c0\\ub294 \\uac04\\ud3b8\\uc1a1\\uae08 \\uc2dc\\uc7a5\"\n",
      "    },\n",
      "    \"option\": {\n",
      "        \"language\": \"ko\",\n",
      "        \"model\": \"news\",\n",
      "        \"summaryCount\": \"3\",\n",
      "        \"tone\": \"2\"\n",
      "    }\n",
      "}\n",
      "{\"summary\":\"간편송금 이용금액이 하루 평균 2000억원을 넘어섰습니다.\\n한은은 카카오페이, 토스 등 간편송금 서비스를 제공하는 업체 간 경쟁이 심화되면서 이용규모가 크게 확대됐다고 분석했습니다.\\n국회 정무위원회 소속 바른미래당 유의동 의원에 따르면 카카오페이, 토스 등 선불전자지급서비스 제공업체는 지난해 마케팅 비용으로 1000억원 이상을 지출했습니다.\"}\n"
     ]
    }
   ],
   "source": [
    "#!/usr/bin/env python3\n",
    "#-*- codig: utf-8 -*-\n",
    "import sys\n",
    "import requests\n",
    "import json\n",
    "\n",
    "client_id = \"qj40wl5n0t\"\n",
    "client_secret = \"1xzXEYgwlsbv9RQxd1onUSByiyvtBDPFV9NEY1mv\"\n",
    "\n",
    "headers = {\n",
    "    \"X-NCP-APIGW-API-KEY-ID\": client_id,\n",
    "    \"X-NCP-APIGW-API-KEY\": client_secret,\n",
    "    \"Content-Type\": \"application/json\"\n",
    "}\n",
    "\n",
    "language = \"ko\" # Language of document (ko, ja )\n",
    "model = \"news\" # Model used for summaries (general, news)\n",
    "tone = \"2\" # Converts the tone of the summarized result. (0, 1, 2, 3)\n",
    "summaryCount = \"3\" # This is the number of sentences for the summarized document.\n",
    "url= \"https://naveropenapi.apigw.ntruss.com/text-summary/v1/summarize\" \n",
    "title= \"'하루 2000억' 판 커지는 간편송금 시장\"\n",
    "content = \"간편송금 이용금액이 하루 평균 2000억원을 넘어섰다. 한국은행이 17일 발표한 '2019년 상반기중 전자지급서비스 이용 현황'에 따르면 올해 상반기 간편송금서비스 이용금액(일평균)은 지난해 하반기 대비 60.7% 증가한 2005억원으로 집계됐다. 같은 기간 이용건수(일평균)는 34.8% 늘어난 218만건이었다. 간편 송금 시장에는 선불전자지급서비스를 제공하는 전자금융업자와 금융기관 등이 참여하고 있다. 이용금액은 전자금융업자가 하루평균 1879억원, 금융기관이 126억원이었다. 한은은 카카오페이, 토스 등 간편송금 서비스를 제공하는 업체 간 경쟁이 심화되면서 이용규모가 크게 확대됐다고 분석했다. 국회 정무위원회 소속 바른미래당 유의동 의원에 따르면 카카오페이, 토스 등 선불전자지급서비스 제공업체는 지난해 마케팅 비용으로 1000억원 이상을 지출했다. 마케팅 비용 지출규모는 카카오페이가 491억원, 비바리퍼블리카(토스)가 134억원 등 순으로 많았다.\"\n",
    "\n",
    "\n",
    "data = {\n",
    "    \"document\": {\n",
    "    \"title\": title,\n",
    "    \"content\" : content\n",
    "    },\n",
    "    \"option\": {\n",
    "    \"language\": language,\n",
    "    \"model\": model,\n",
    "    \"tone\": tone,\n",
    "    \"summaryCount\" : summaryCount\n",
    "    }\n",
    "}\n",
    "\n",
    "print(json.dumps(data, indent=4, sort_keys=True))\n",
    "response = requests.post(url, data=json.dumps(data), headers=headers)\n",
    "rescode = response.status_code\n",
    "if(rescode == 200):\n",
    "    print (response.text)\n",
    "else:\n",
    "    print(\"Error : \" + response.text)\n"
   ]
  },
  {
   "cell_type": "code",
   "execution_count": 122,
   "id": "4a00d3f9",
   "metadata": {},
   "outputs": [],
   "source": [
    "import os\n",
    "import sys\n",
    "import requests\n",
    "import json\n",
    "import urllib.request\n",
    "# import pandas as pd\n",
    "# news_df = pd.read_excel('./news_df.xlsx')\n",
    "news_list=[]\n",
    "ff=[]\n",
    "\n",
    "def process_b(news_df):\n",
    "    len(news_df.title)\n",
    "    client_id = \"qj40wl5n0t\"\n",
    "    client_secret = \"1xzXEYgwlsbv9RQxd1onUSByiyvtBDPFV9NEY1mv\"\n",
    "\n",
    "    for i in range(len(news_df.title)):\n",
    "        headers = {\n",
    "        \"X-NCP-APIGW-API-KEY-ID\": client_id,\n",
    "        \"X-NCP-APIGW-API-KEY\": client_secret,\n",
    "        \"Content-Type\": \"application/json\"\n",
    "    }\n",
    "        language = \"ko\" # Language of document (ko, ja )\n",
    "        model = \"news\" # Model used for summaries (general, news)\n",
    "        tone = \"2\" # Converts the tone of the summarized result. (0, 1, 2, 3)\n",
    "        summaryCount = \"3\" # This is the number of sentences for the summarized document.\n",
    "        url= \"https://naveropenapi.apigw.ntruss.com/text-summary/v1/summarize\" \n",
    "        title= \"\"\n",
    "        content = news_df.text[i+1]\n",
    "        data = {\n",
    "            \"document\": {\n",
    "            \"title\": title,\n",
    "            \"content\" : content\n",
    "            },\n",
    "            \"option\": {\n",
    "            \"language\": language,\n",
    "            \"model\": model,\n",
    "            \"tone\": tone,\n",
    "            \"summaryCount\" : summaryCount\n",
    "            }\n",
    "        }\n",
    "        # print(json.dumps(data, indent=4, sort_keys=True))\n",
    "        response = requests.post(url, data=json.dumps(data), headers=headers)\n",
    "        rescode = response.status_code\n",
    "        if(rescode == 200):\n",
    "            r1=response.text  \n",
    "            print(r1)\n",
    "\n",
    "        else:\n",
    "            print(\"Error : \" + response.text)\n",
    "\n",
    "        r1\n",
    "\n",
    "        r1d = json.loads(r1)\n",
    "        r1r1 = r1d['summary']\n",
    "    #    r1r1= r1.split('연합뉴스')[1]\n",
    "        r1r1 = '{}번째 뉴스입니다. {} '.format(i+1, r1r1)\n",
    "        news_list.append(r1r1)\n",
    "        print(r1r1)\n",
    "        print(news_list)            \n",
    "    \n",
    "        encText = urllib.parse.quote(r1r1)\n",
    "        data = \"speaker=njihun&volume=0&speed=0&pitch=0&format=mp3&text=\" + encText;\n",
    "        url = \"https://naveropenapi.apigw.ntruss.com/tts-premium/v1/tts\"\n",
    "        request = urllib.request.Request(url)\n",
    "        request.add_header(\"X-NCP-APIGW-API-KEY-ID\",client_id)\n",
    "        request.add_header(\"X-NCP-APIGW-API-KEY\",client_secret)\n",
    "        response = urllib.request.urlopen(request, data=data.encode('utf-8'))\n",
    "        rescode = response.getcode()\n",
    "        if(rescode==200):\n",
    "            response_body = response.read()\n",
    "            fn = 'voice{}.mp3'.format(i)\n",
    "            ff\n",
    "            with open(fn, 'wb') as f:\n",
    "                f.write(response_body)\n",
    "            print(fn)\n",
    "        else:\n",
    "            print(\"Error Code:\" + rescode)\n",
    "            \n",
    "    result = (r1r1, fn)\n",
    "    \n",
    "    return news_list"
   ]
  },
  {
   "cell_type": "code",
   "execution_count": 118,
   "id": "e98f212a",
   "metadata": {
    "scrolled": true
   },
   "outputs": [
    {
     "name": "stdout",
     "output_type": "stream",
     "text": [
      "{\"summary\":\"지난 27일 오전 서울역 광장에 설치된 코로나19 임시선별 검사소를 찾은 시민들이 검사를 기다리고 있습니다.\\n다음달 3일 현행 사회적 거리두기가 끝나는 가운데 거리두기를 어떻게 조정할지는 다음달 1일 열리는 중대본 회의에서 결정될 것으로 보입니다.\\n정부가 방역과 의료체계 등 상황에 따라 거리두기 완화 조치를 본격 검토하겠다고 밝힌 만큼 이번주 확진자수 추이에 따라 각종 거리두기 지침의 대폭 완화 가능성이 있습니다.\"}\n",
      "1번째 뉴스입니다. 지난 27일 오전 서울역 광장에 설치된 코로나19 임시선별 검사소를 찾은 시민들이 검사를 기다리고 있습니다.\n",
      "다음달 3일 현행 사회적 거리두기가 끝나는 가운데 거리두기를 어떻게 조정할지는 다음달 1일 열리는 중대본 회의에서 결정될 것으로 보입니다.\n",
      "정부가 방역과 의료체계 등 상황에 따라 거리두기 완화 조치를 본격 검토하겠다고 밝힌 만큼 이번주 확진자수 추이에 따라 각종 거리두기 지침의 대폭 완화 가능성이 있습니다. \n",
      "['1번째 뉴스입니다. 지난 27일 오전 서울역 광장에 설치된 코로나19 임시선별 검사소를 찾은 시민들이 검사를 기다리고 있습니다.\\n다음달 3일 현행 사회적 거리두기가 끝나는 가운데 거리두기를 어떻게 조정할지는 다음달 1일 열리는 중대본 회의에서 결정될 것으로 보입니다.\\n정부가 방역과 의료체계 등 상황에 따라 거리두기 완화 조치를 본격 검토하겠다고 밝힌 만큼 이번주 확진자수 추이에 따라 각종 거리두기 지침의 대폭 완화 가능성이 있습니다. ']\n",
      "voice0.mp3\n",
      "{\"summary\":\"지난 26일 오전 중구 서울역 광장 코로나19 임시 선별검사소를 찾은 시민들이 검사를 기다리고 있습니다.\\n오늘(27일) 질병관리청 중앙방역대책본부는 이날 0시 기준 코로나19 신규 확진자가 31만8130명 발생했다고 밝혔습니다.\\n신규 확진자 가운데 국내 발생 환자는 31만8087명입니다.\"}\n",
      "2번째 뉴스입니다. 지난 26일 오전 중구 서울역 광장 코로나19 임시 선별검사소를 찾은 시민들이 검사를 기다리고 있습니다.\n",
      "오늘(27일) 질병관리청 중앙방역대책본부는 이날 0시 기준 코로나19 신규 확진자가 31만8130명 발생했다고 밝혔습니다.\n",
      "신규 확진자 가운데 국내 발생 환자는 31만8087명입니다. \n",
      "['1번째 뉴스입니다. 지난 27일 오전 서울역 광장에 설치된 코로나19 임시선별 검사소를 찾은 시민들이 검사를 기다리고 있습니다.\\n다음달 3일 현행 사회적 거리두기가 끝나는 가운데 거리두기를 어떻게 조정할지는 다음달 1일 열리는 중대본 회의에서 결정될 것으로 보입니다.\\n정부가 방역과 의료체계 등 상황에 따라 거리두기 완화 조치를 본격 검토하겠다고 밝힌 만큼 이번주 확진자수 추이에 따라 각종 거리두기 지침의 대폭 완화 가능성이 있습니다. ', '2번째 뉴스입니다. 지난 26일 오전 중구 서울역 광장 코로나19 임시 선별검사소를 찾은 시민들이 검사를 기다리고 있습니다.\\n오늘(27일) 질병관리청 중앙방역대책본부는 이날 0시 기준 코로나19 신규 확진자가 31만8130명 발생했다고 밝혔습니다.\\n신규 확진자 가운데 국내 발생 환자는 31만8087명입니다. ']\n",
      "voice1.mp3\n",
      "{\"summary\":\"자료사진=JTBC 방송화면 캡처〉 인천에서 신종 코로나바이러스 감염증(코로나19)에 확진된 산모가 수용 가능 병원을 찾지 못해 구급차에서 출산하는 일이 발생했습니다.\\n오늘(25일) 인천소방본부는 인천 서구 청라동에 거주하는 산모 A씨가 어제(24일) 구급차에서 남자아이를 출산했다고 JTBC에 밝혔습니다.\\nA씨는 어제 오후 6시 20분쯤 자택에서 진통이 온다며 119구급대에 신고를 했습니다.\"}\n",
      "3번째 뉴스입니다. 자료사진=JTBC 방송화면 캡처〉 인천에서 신종 코로나바이러스 감염증(코로나19)에 확진된 산모가 수용 가능 병원을 찾지 못해 구급차에서 출산하는 일이 발생했습니다.\n",
      "오늘(25일) 인천소방본부는 인천 서구 청라동에 거주하는 산모 A씨가 어제(24일) 구급차에서 남자아이를 출산했다고 JTBC에 밝혔습니다.\n",
      "A씨는 어제 오후 6시 20분쯤 자택에서 진통이 온다며 119구급대에 신고를 했습니다. \n",
      "['1번째 뉴스입니다. 지난 27일 오전 서울역 광장에 설치된 코로나19 임시선별 검사소를 찾은 시민들이 검사를 기다리고 있습니다.\\n다음달 3일 현행 사회적 거리두기가 끝나는 가운데 거리두기를 어떻게 조정할지는 다음달 1일 열리는 중대본 회의에서 결정될 것으로 보입니다.\\n정부가 방역과 의료체계 등 상황에 따라 거리두기 완화 조치를 본격 검토하겠다고 밝힌 만큼 이번주 확진자수 추이에 따라 각종 거리두기 지침의 대폭 완화 가능성이 있습니다. ', '2번째 뉴스입니다. 지난 26일 오전 중구 서울역 광장 코로나19 임시 선별검사소를 찾은 시민들이 검사를 기다리고 있습니다.\\n오늘(27일) 질병관리청 중앙방역대책본부는 이날 0시 기준 코로나19 신규 확진자가 31만8130명 발생했다고 밝혔습니다.\\n신규 확진자 가운데 국내 발생 환자는 31만8087명입니다. ', '3번째 뉴스입니다. 자료사진=JTBC 방송화면 캡처〉 인천에서 신종 코로나바이러스 감염증(코로나19)에 확진된 산모가 수용 가능 병원을 찾지 못해 구급차에서 출산하는 일이 발생했습니다.\\n오늘(25일) 인천소방본부는 인천 서구 청라동에 거주하는 산모 A씨가 어제(24일) 구급차에서 남자아이를 출산했다고 JTBC에 밝혔습니다.\\nA씨는 어제 오후 6시 20분쯤 자택에서 진통이 온다며 119구급대에 신고를 했습니다. ']\n",
      "voice2.mp3\n"
     ]
    },
    {
     "data": {
      "text/plain": [
       "['1번째 뉴스입니다. 지난 27일 오전 서울역 광장에 설치된 코로나19 임시선별 검사소를 찾은 시민들이 검사를 기다리고 있습니다.\\n다음달 3일 현행 사회적 거리두기가 끝나는 가운데 거리두기를 어떻게 조정할지는 다음달 1일 열리는 중대본 회의에서 결정될 것으로 보입니다.\\n정부가 방역과 의료체계 등 상황에 따라 거리두기 완화 조치를 본격 검토하겠다고 밝힌 만큼 이번주 확진자수 추이에 따라 각종 거리두기 지침의 대폭 완화 가능성이 있습니다. ',\n",
       " '2번째 뉴스입니다. 지난 26일 오전 중구 서울역 광장 코로나19 임시 선별검사소를 찾은 시민들이 검사를 기다리고 있습니다.\\n오늘(27일) 질병관리청 중앙방역대책본부는 이날 0시 기준 코로나19 신규 확진자가 31만8130명 발생했다고 밝혔습니다.\\n신규 확진자 가운데 국내 발생 환자는 31만8087명입니다. ',\n",
       " '3번째 뉴스입니다. 자료사진=JTBC 방송화면 캡처〉 인천에서 신종 코로나바이러스 감염증(코로나19)에 확진된 산모가 수용 가능 병원을 찾지 못해 구급차에서 출산하는 일이 발생했습니다.\\n오늘(25일) 인천소방본부는 인천 서구 청라동에 거주하는 산모 A씨가 어제(24일) 구급차에서 남자아이를 출산했다고 JTBC에 밝혔습니다.\\nA씨는 어제 오후 6시 20분쯤 자택에서 진통이 온다며 119구급대에 신고를 했습니다. ']"
      ]
     },
     "execution_count": 118,
     "metadata": {},
     "output_type": "execute_result"
    }
   ],
   "source": [
    "r1r1 = process_b(news_df)\n",
    "r1r1"
   ]
  },
  {
   "cell_type": "code",
   "execution_count": 78,
   "id": "5b1096f9",
   "metadata": {
    "scrolled": true
   },
   "outputs": [
    {
     "name": "stdout",
     "output_type": "stream",
     "text": [
      "{\"summary\":\"지난 27일 오전 서울역 광장에 설치된 코로나19 임시선별 검사소를 찾은 시민들이 검사를 기다리고 있습니다.\\n다음달 3일 현행 사회적 거리두기가 끝나는 가운데 거리두기를 어떻게 조정할지는 다음달 1일 열리는 중대본 회의에서 결정될 것으로 보입니다.\\n정부가 방역과 의료체계 등 상황에 따라 거리두기 완화 조치를 본격 검토하겠다고 밝힌 만큼 이번주 확진자수 추이에 따라 각종 거리두기 지침의 대폭 완화 가능성이 있습니다.\"}\n",
      "1번째 뉴스입니다. 지난 27일 오전 서울역 광장에 설치된 코로나19 임시선별 검사소를 찾은 시민들이 검사를 기다리고 있습니다.\n",
      "다음달 3일 현행 사회적 거리두기가 끝나는 가운데 거리두기를 어떻게 조정할지는 다음달 1일 열리는 중대본 회의에서 결정될 것으로 보입니다.\n",
      "정부가 방역과 의료체계 등 상황에 따라 거리두기 완화 조치를 본격 검토하겠다고 밝힌 만큼 이번주 확진자수 추이에 따라 각종 거리두기 지침의 대폭 완화 가능성이 있습니다. \n",
      "['1번째 뉴스입니다. 지난 27일 오전 서울역 광장에 설치된 코로나19 임시선별 검사소를 찾은 시민들이 검사를 기다리고 있습니다.\\n다음달 3일 현행 사회적 거리두기가 끝나는 가운데 거리두기를 어떻게 조정할지는 다음달 1일 열리는 중대본 회의에서 결정될 것으로 보입니다.\\n정부가 방역과 의료체계 등 상황에 따라 거리두기 완화 조치를 본격 검토하겠다고 밝힌 만큼 이번주 확진자수 추이에 따라 각종 거리두기 지침의 대폭 완화 가능성이 있습니다. ']\n",
      "voice0.mp3\n",
      "{\"summary\":\"지난 26일 오전 중구 서울역 광장 코로나19 임시 선별검사소를 찾은 시민들이 검사를 기다리고 있습니다.\\n오늘(27일) 질병관리청 중앙방역대책본부는 이날 0시 기준 코로나19 신규 확진자가 31만8130명 발생했다고 밝혔습니다.\\n신규 확진자 가운데 국내 발생 환자는 31만8087명입니다.\"}\n",
      "2번째 뉴스입니다. 지난 26일 오전 중구 서울역 광장 코로나19 임시 선별검사소를 찾은 시민들이 검사를 기다리고 있습니다.\n",
      "오늘(27일) 질병관리청 중앙방역대책본부는 이날 0시 기준 코로나19 신규 확진자가 31만8130명 발생했다고 밝혔습니다.\n",
      "신규 확진자 가운데 국내 발생 환자는 31만8087명입니다. \n",
      "['1번째 뉴스입니다. 지난 27일 오전 서울역 광장에 설치된 코로나19 임시선별 검사소를 찾은 시민들이 검사를 기다리고 있습니다.\\n다음달 3일 현행 사회적 거리두기가 끝나는 가운데 거리두기를 어떻게 조정할지는 다음달 1일 열리는 중대본 회의에서 결정될 것으로 보입니다.\\n정부가 방역과 의료체계 등 상황에 따라 거리두기 완화 조치를 본격 검토하겠다고 밝힌 만큼 이번주 확진자수 추이에 따라 각종 거리두기 지침의 대폭 완화 가능성이 있습니다. ', '2번째 뉴스입니다. 지난 26일 오전 중구 서울역 광장 코로나19 임시 선별검사소를 찾은 시민들이 검사를 기다리고 있습니다.\\n오늘(27일) 질병관리청 중앙방역대책본부는 이날 0시 기준 코로나19 신규 확진자가 31만8130명 발생했다고 밝혔습니다.\\n신규 확진자 가운데 국내 발생 환자는 31만8087명입니다. ']\n",
      "voice1.mp3\n",
      "{\"summary\":\"자료사진=JTBC 방송화면 캡처〉 인천에서 신종 코로나바이러스 감염증(코로나19)에 확진된 산모가 수용 가능 병원을 찾지 못해 구급차에서 출산하는 일이 발생했습니다.\\n오늘(25일) 인천소방본부는 인천 서구 청라동에 거주하는 산모 A씨가 어제(24일) 구급차에서 남자아이를 출산했다고 JTBC에 밝혔습니다.\\nA씨는 어제 오후 6시 20분쯤 자택에서 진통이 온다며 119구급대에 신고를 했습니다.\"}\n",
      "3번째 뉴스입니다. 자료사진=JTBC 방송화면 캡처〉 인천에서 신종 코로나바이러스 감염증(코로나19)에 확진된 산모가 수용 가능 병원을 찾지 못해 구급차에서 출산하는 일이 발생했습니다.\n",
      "오늘(25일) 인천소방본부는 인천 서구 청라동에 거주하는 산모 A씨가 어제(24일) 구급차에서 남자아이를 출산했다고 JTBC에 밝혔습니다.\n",
      "A씨는 어제 오후 6시 20분쯤 자택에서 진통이 온다며 119구급대에 신고를 했습니다. \n",
      "['1번째 뉴스입니다. 지난 27일 오전 서울역 광장에 설치된 코로나19 임시선별 검사소를 찾은 시민들이 검사를 기다리고 있습니다.\\n다음달 3일 현행 사회적 거리두기가 끝나는 가운데 거리두기를 어떻게 조정할지는 다음달 1일 열리는 중대본 회의에서 결정될 것으로 보입니다.\\n정부가 방역과 의료체계 등 상황에 따라 거리두기 완화 조치를 본격 검토하겠다고 밝힌 만큼 이번주 확진자수 추이에 따라 각종 거리두기 지침의 대폭 완화 가능성이 있습니다. ', '2번째 뉴스입니다. 지난 26일 오전 중구 서울역 광장 코로나19 임시 선별검사소를 찾은 시민들이 검사를 기다리고 있습니다.\\n오늘(27일) 질병관리청 중앙방역대책본부는 이날 0시 기준 코로나19 신규 확진자가 31만8130명 발생했다고 밝혔습니다.\\n신규 확진자 가운데 국내 발생 환자는 31만8087명입니다. ', '3번째 뉴스입니다. 자료사진=JTBC 방송화면 캡처〉 인천에서 신종 코로나바이러스 감염증(코로나19)에 확진된 산모가 수용 가능 병원을 찾지 못해 구급차에서 출산하는 일이 발생했습니다.\\n오늘(25일) 인천소방본부는 인천 서구 청라동에 거주하는 산모 A씨가 어제(24일) 구급차에서 남자아이를 출산했다고 JTBC에 밝혔습니다.\\nA씨는 어제 오후 6시 20분쯤 자택에서 진통이 온다며 119구급대에 신고를 했습니다. ']\n",
      "voice2.mp3\n"
     ]
    },
    {
     "data": {
      "text/plain": [
       "['1번째 뉴스입니다. 지난 27일 오전 서울역 광장에 설치된 코로나19 임시선별 검사소를 찾은 시민들이 검사를 기다리고 있습니다.\\n다음달 3일 현행 사회적 거리두기가 끝나는 가운데 거리두기를 어떻게 조정할지는 다음달 1일 열리는 중대본 회의에서 결정될 것으로 보입니다.\\n정부가 방역과 의료체계 등 상황에 따라 거리두기 완화 조치를 본격 검토하겠다고 밝힌 만큼 이번주 확진자수 추이에 따라 각종 거리두기 지침의 대폭 완화 가능성이 있습니다. ',\n",
       " '2번째 뉴스입니다. 지난 26일 오전 중구 서울역 광장 코로나19 임시 선별검사소를 찾은 시민들이 검사를 기다리고 있습니다.\\n오늘(27일) 질병관리청 중앙방역대책본부는 이날 0시 기준 코로나19 신규 확진자가 31만8130명 발생했다고 밝혔습니다.\\n신규 확진자 가운데 국내 발생 환자는 31만8087명입니다. ',\n",
       " '3번째 뉴스입니다. 자료사진=JTBC 방송화면 캡처〉 인천에서 신종 코로나바이러스 감염증(코로나19)에 확진된 산모가 수용 가능 병원을 찾지 못해 구급차에서 출산하는 일이 발생했습니다.\\n오늘(25일) 인천소방본부는 인천 서구 청라동에 거주하는 산모 A씨가 어제(24일) 구급차에서 남자아이를 출산했다고 JTBC에 밝혔습니다.\\nA씨는 어제 오후 6시 20분쯤 자택에서 진통이 온다며 119구급대에 신고를 했습니다. ']"
      ]
     },
     "execution_count": 78,
     "metadata": {},
     "output_type": "execute_result"
    }
   ],
   "source": [
    "news_list = process_b(news_df)\n",
    "news_list"
   ]
  },
  {
   "cell_type": "code",
   "execution_count": 81,
   "id": "36cc868c",
   "metadata": {},
   "outputs": [],
   "source": [
    "### 요약부분 수정하는 함수 \n",
    "def clean_news(news_list):\n",
    "    remove = ['\\n', '\\\\', '[사진 제공: 연합뉴스]','자료사진=', '캡처','=']\n",
    "    clean_list = []\n",
    "    for t in remove:\n",
    "        for i, o in enumerate(news_list):\n",
    "            news_list[i] = o.replace(t, \"\")\n",
    "\n",
    "    return news_list"
   ]
  },
  {
   "cell_type": "code",
   "execution_count": 82,
   "id": "e9506a8e",
   "metadata": {
    "scrolled": true
   },
   "outputs": [
    {
     "data": {
      "text/plain": [
       "['1번째 뉴스입니다. 지난 27일 오전 서울역 광장에 설치된 코로나19 임시선별 검사소를 찾은 시민들이 검사를 기다리고 있습니다.다음달 3일 현행 사회적 거리두기가 끝나는 가운데 거리두기를 어떻게 조정할지는 다음달 1일 열리는 중대본 회의에서 결정될 것으로 보입니다.정부가 방역과 의료체계 등 상황에 따라 거리두기 완화 조치를 본격 검토하겠다고 밝힌 만큼 이번주 확진자수 추이에 따라 각종 거리두기 지침의 대폭 완화 가능성이 있습니다. ',\n",
       " '2번째 뉴스입니다. 지난 26일 오전 중구 서울역 광장 코로나19 임시 선별검사소를 찾은 시민들이 검사를 기다리고 있습니다.오늘(27일) 질병관리청 중앙방역대책본부는 이날 0시 기준 코로나19 신규 확진자가 31만8130명 발생했다고 밝혔습니다.신규 확진자 가운데 국내 발생 환자는 31만8087명입니다. ',\n",
       " '3번째 뉴스입니다. JTBC 방송화면 〉 인천에서 신종 코로나바이러스 감염증(코로나19)에 확진된 산모가 수용 가능 병원을 찾지 못해 구급차에서 출산하는 일이 발생했습니다.오늘(25일) 인천소방본부는 인천 서구 청라동에 거주하는 산모 A씨가 어제(24일) 구급차에서 남자아이를 출산했다고 JTBC에 밝혔습니다.A씨는 어제 오후 6시 20분쯤 자택에서 진통이 온다며 119구급대에 신고를 했습니다. ']"
      ]
     },
     "execution_count": 82,
     "metadata": {},
     "output_type": "execute_result"
    }
   ],
   "source": [
    "news_list = clean_news(news_list) \n",
    "news_list"
   ]
  },
  {
   "cell_type": "code",
   "execution_count": 69,
   "id": "93905b4d",
   "metadata": {},
   "outputs": [
    {
     "ename": "IndexError",
     "evalue": "list assignment index out of range",
     "output_type": "error",
     "traceback": [
      "\u001b[1;31m---------------------------------------------------------------------------\u001b[0m",
      "\u001b[1;31mIndexError\u001b[0m                                Traceback (most recent call last)",
      "\u001b[1;32mC:\\Users\\Public\\Documents\\ESTsoft\\CreatorTemp/ipykernel_1488/915086759.py\u001b[0m in \u001b[0;36m<module>\u001b[1;34m\u001b[0m\n\u001b[1;32m----> 1\u001b[1;33m \u001b[0mclean_list\u001b[0m \u001b[1;33m=\u001b[0m \u001b[0mclean_news\u001b[0m\u001b[1;33m(\u001b[0m\u001b[0mnews_list\u001b[0m\u001b[1;33m)\u001b[0m\u001b[1;33m\u001b[0m\u001b[1;33m\u001b[0m\u001b[0m\n\u001b[0m\u001b[0;32m      2\u001b[0m \u001b[0mclean_list\u001b[0m\u001b[1;33m\u001b[0m\u001b[1;33m\u001b[0m\u001b[0m\n",
      "\u001b[1;32mC:\\Users\\Public\\Documents\\ESTsoft\\CreatorTemp/ipykernel_1488/2823433063.py\u001b[0m in \u001b[0;36mclean_news\u001b[1;34m(news_list)\u001b[0m\n\u001b[0;32m      6\u001b[0m         \u001b[1;32mfor\u001b[0m \u001b[0mi\u001b[0m\u001b[1;33m,\u001b[0m \u001b[0mo\u001b[0m \u001b[1;32min\u001b[0m \u001b[0menumerate\u001b[0m\u001b[1;33m(\u001b[0m\u001b[0mnews_list\u001b[0m\u001b[1;33m)\u001b[0m\u001b[1;33m:\u001b[0m\u001b[1;33m\u001b[0m\u001b[1;33m\u001b[0m\u001b[0m\n\u001b[0;32m      7\u001b[0m             \u001b[0mnews_list\u001b[0m\u001b[1;33m[\u001b[0m\u001b[0mi\u001b[0m\u001b[1;33m]\u001b[0m \u001b[1;33m=\u001b[0m \u001b[0mo\u001b[0m\u001b[1;33m.\u001b[0m\u001b[0mreplace\u001b[0m\u001b[1;33m(\u001b[0m\u001b[0mt\u001b[0m\u001b[1;33m,\u001b[0m \u001b[1;34m\"\"\u001b[0m\u001b[1;33m)\u001b[0m\u001b[1;33m\u001b[0m\u001b[1;33m\u001b[0m\u001b[0m\n\u001b[1;32m----> 8\u001b[1;33m             \u001b[0mclean_list\u001b[0m\u001b[1;33m[\u001b[0m\u001b[0mi\u001b[0m\u001b[1;33m]\u001b[0m \u001b[1;33m=\u001b[0m \u001b[0mo\u001b[0m\u001b[1;33m.\u001b[0m\u001b[0mreplace\u001b[0m\u001b[1;33m(\u001b[0m\u001b[0mt\u001b[0m\u001b[1;33m,\u001b[0m \u001b[1;34m\" \"\u001b[0m\u001b[1;33m)\u001b[0m\u001b[1;33m\u001b[0m\u001b[1;33m\u001b[0m\u001b[0m\n\u001b[0m\u001b[0;32m      9\u001b[0m \u001b[1;33m\u001b[0m\u001b[0m\n\u001b[0;32m     10\u001b[0m     \u001b[1;32mreturn\u001b[0m \u001b[0mnews_list\u001b[0m\u001b[1;33m,\u001b[0m \u001b[0mclean_list\u001b[0m\u001b[1;33m\u001b[0m\u001b[1;33m\u001b[0m\u001b[0m\n",
      "\u001b[1;31mIndexError\u001b[0m: list assignment index out of range"
     ]
    }
   ],
   "source": [
    "clean_list = clean_news(news_list)\n",
    "clean_list"
   ]
  },
  {
   "cell_type": "code",
   "execution_count": 19,
   "id": "bfdc8b40",
   "metadata": {},
   "outputs": [
    {
     "data": {
      "text/plain": [
       "'1번째 뉴스입니다. 지난 27일 오전 서울역 광장에 설치된 코로나19 임시선별 검사소를 찾은 시민들이 검사를 기다리고 있습니다.다음달 3일 현행 사회적 거리두기가 끝나는 가운데 거리두기를 어떻게 조정할지는 다음달 1일 열리는 중대본 회의에서 결정될 것으로 보입니다.정부가 방역과 의료체계 등 상황에 따라 거리두기 완화 조치를 본격 검토하겠다고 밝힌 만큼 이번주 확진자수 추이에 따라 각종 거리두기 지침의 대폭 완화 가능성이 있습니다. '"
      ]
     },
     "execution_count": 19,
     "metadata": {},
     "output_type": "execute_result"
    }
   ],
   "source": [
    "news_list[0].replace('\\n','')"
   ]
  },
  {
   "cell_type": "code",
   "execution_count": 29,
   "id": "7e5be809",
   "metadata": {},
   "outputs": [
    {
     "data": {
      "text/plain": [
       "str"
      ]
     },
     "execution_count": 29,
     "metadata": {},
     "output_type": "execute_result"
    }
   ],
   "source": [
    "type(fn)"
   ]
  },
  {
   "cell_type": "code",
   "execution_count": 119,
   "id": "45fc2636",
   "metadata": {},
   "outputs": [],
   "source": [
    "### 요약부분 수정하는 함수 -> 문자열로 합치기\n",
    "def clean_news(news_list):\n",
    "    remove = ['\\n', '\\\\', '[사진 제공: 연합뉴스]' ]\n",
    "    \n",
    "    for t in remove:\n",
    "        for i, o in enumerate(news_list):\n",
    "            news_list[i] = o.replace(t, \"\")\n",
    "            \n",
    "    summary = news_list.append('/n')\n",
    "    return summary\n"
   ]
  },
  {
   "cell_type": "code",
   "execution_count": 120,
   "id": "0110b361",
   "metadata": {
    "scrolled": true
   },
   "outputs": [],
   "source": [
    "summary = clean_news(news_list)\n",
    "summary"
   ]
  },
  {
   "cell_type": "code",
   "execution_count": 109,
   "id": "1b03b487",
   "metadata": {},
   "outputs": [],
   "source": [
    "### 요약부분 수정하는 함수 -> 문자열로 합치기\n",
    "def clean_news(news_list):\n",
    "    remove = ['\\n', '\\\\', '[사진 제공: 연합뉴스]' ]\n",
    "    \n",
    "    for t in remove:\n",
    "        for i, o in enumerate(news_list):\n",
    "            news_list[i] = o.replace(t, \"\")\n",
    "            \n",
    "    summary=join('\\n'.news_list)\n",
    "    return summary\n"
   ]
  },
  {
   "cell_type": "code",
   "execution_count": 121,
   "id": "49d20c82",
   "metadata": {},
   "outputs": [],
   "source": [
    "summary"
   ]
  },
  {
   "cell_type": "code",
   "execution_count": null,
   "id": "a366cfcd",
   "metadata": {},
   "outputs": [],
   "source": [
    "from fastapi.responses import PlainTextResponse\n",
    "@app_fastapi.get(\"/get_log\", response_class=PlainTextResponse)\n",
    "async def get_log():\n",
    "    return clean_news(news_list)\n"
   ]
  },
  {
   "cell_type": "code",
   "execution_count": 128,
   "id": "1c91dc43",
   "metadata": {},
   "outputs": [],
   "source": [
    "import os\n",
    "import sys\n",
    "import requests\n",
    "import json\n",
    "import urllib.request\n",
    "# import pandas as pd\n",
    "# news_df = pd.read_excel('./news_df.xlsx')\n",
    "news_list=[]\n",
    "site=[]\n",
    "def process_b(news_df):\n",
    "    len(news_df.title)\n",
    "    client_id = \"qj40wl5n0t\"\n",
    "    client_secret = \"1xzXEYgwlsbv9RQxd1onUSByiyvtBDPFV9NEY1mv\"\n",
    "\n",
    "    for i in range(len(news_df.title)):\n",
    "        headers = {\n",
    "        \"X-NCP-APIGW-API-KEY-ID\": client_id,\n",
    "        \"X-NCP-APIGW-API-KEY\": client_secret,\n",
    "        \"Content-Type\": \"application/json\"\n",
    "    }\n",
    "        language = \"ko\" # Language of document (ko, ja )\n",
    "        model = \"news\" # Model used for summaries (general, news)\n",
    "        tone = \"2\" # Converts the tone of the summarized result. (0, 1, 2, 3)\n",
    "        summaryCount = \"3\" # This is the number of sentences for the summarized document.\n",
    "        url= \"https://naveropenapi.apigw.ntruss.com/text-summary/v1/summarize\" \n",
    "        title = \"\"\n",
    "        content = news_df.text[i+1]\n",
    "        data = {\n",
    "            \"document\": {\n",
    "            \"title\": title,\n",
    "            \"content\" : content},\n",
    "            \"option\": {\n",
    "            \"language\": language,\n",
    "            \"model\": model,\n",
    "            \"tone\": tone,\n",
    "            \"summaryCount\" : summaryCount\n",
    "            }\n",
    "        }\n",
    "        # print(json.dumps(data, indent=4, sort_keys=True))\n",
    "        response = requests.post(url, data=json.dumps(data), headers=headers)\n",
    "        rescode = response.status_code\n",
    "        if(rescode == 200):\n",
    "            r1=response.text  \n",
    "            print(r1)\n",
    "\n",
    "        else:\n",
    "            print(\"Error : \" + response.text)\n",
    "\n",
    "        r1\n",
    "        site = news_df.url[i+1]\n",
    "\n",
    "        r1d = json.loads(r1)\n",
    "        r1r1 = r1d['summary']\n",
    "    #    r1r1= r1.split('연합뉴스')[1]\n",
    "        r1r1 = '{}번째 뉴스입니다. {} '.format(i+1, r1r1)\n",
    "        news_list.append(r1r1)\n",
    "        news_list.append(site)\n",
    "        print(r1r1)\n",
    "        print(news_list)            \n",
    "    \n",
    "        encText = urllib.parse.quote(r1r1)\n",
    "        data = \"speaker=njihun&volume=0&speed=0&pitch=0&format=mp3&text=\" + encText;\n",
    "        url = \"https://naveropenapi.apigw.ntruss.com/tts-premium/v1/tts\"\n",
    "        request = urllib.request.Request(url)\n",
    "        request.add_header(\"X-NCP-APIGW-API-KEY-ID\",client_id)\n",
    "        request.add_header(\"X-NCP-APIGW-API-KEY\",client_secret)\n",
    "        response = urllib.request.urlopen(request, data=data.encode('utf-8'))\n",
    "        rescode = response.getcode()\n",
    "        if(rescode==200):\n",
    "            response_body = response.read()\n",
    "            fn = 'voice{}.mp3'.format(i)\n",
    "            with open(fn, 'wb') as f:\n",
    "                f.write(response_body)\n",
    "            print(fn)\n",
    "        else:\n",
    "            print(\"Error Code:\" + rescode)\n",
    "            \n",
    "    result = (r1r1, fn)\n",
    "    \n",
    "    return news_list"
   ]
  },
  {
   "cell_type": "code",
   "execution_count": 129,
   "id": "c298fedb",
   "metadata": {},
   "outputs": [
    {
     "data": {
      "text/plain": [
       "'https://news.jtbc.joins.com/article/article.aspx?news_id=NB12052508'"
      ]
     },
     "execution_count": 129,
     "metadata": {},
     "output_type": "execute_result"
    }
   ],
   "source": [
    "site = news_df.url[i+1]\n",
    "site"
   ]
  },
  {
   "cell_type": "code",
   "execution_count": 130,
   "id": "2aad4d62",
   "metadata": {},
   "outputs": [
    {
     "name": "stdout",
     "output_type": "stream",
     "text": [
      "{\"summary\":\"지난 27일 오전 서울역 광장에 설치된 코로나19 임시선별 검사소를 찾은 시민들이 검사를 기다리고 있습니다.\\n다음달 3일 현행 사회적 거리두기가 끝나는 가운데 거리두기를 어떻게 조정할지는 다음달 1일 열리는 중대본 회의에서 결정될 것으로 보입니다.\\n정부가 방역과 의료체계 등 상황에 따라 거리두기 완화 조치를 본격 검토하겠다고 밝힌 만큼 이번주 확진자수 추이에 따라 각종 거리두기 지침의 대폭 완화 가능성이 있습니다.\"}\n",
      "1번째 뉴스입니다. 지난 27일 오전 서울역 광장에 설치된 코로나19 임시선별 검사소를 찾은 시민들이 검사를 기다리고 있습니다.\n",
      "다음달 3일 현행 사회적 거리두기가 끝나는 가운데 거리두기를 어떻게 조정할지는 다음달 1일 열리는 중대본 회의에서 결정될 것으로 보입니다.\n",
      "정부가 방역과 의료체계 등 상황에 따라 거리두기 완화 조치를 본격 검토하겠다고 밝힌 만큼 이번주 확진자수 추이에 따라 각종 거리두기 지침의 대폭 완화 가능성이 있습니다. \n",
      "['1번째 뉴스입니다. 지난 27일 오전 서울역 광장에 설치된 코로나19 임시선별 검사소를 찾은 시민들이 검사를 기다리고 있습니다.\\n다음달 3일 현행 사회적 거리두기가 끝나는 가운데 거리두기를 어떻게 조정할지는 다음달 1일 열리는 중대본 회의에서 결정될 것으로 보입니다.\\n정부가 방역과 의료체계 등 상황에 따라 거리두기 완화 조치를 본격 검토하겠다고 밝힌 만큼 이번주 확진자수 추이에 따라 각종 거리두기 지침의 대폭 완화 가능성이 있습니다. ', 'https://news.jtbc.joins.com/article/article.aspx?news_id=NB12052672']\n",
      "voice0.mp3\n",
      "{\"summary\":\"지난 26일 오전 중구 서울역 광장 코로나19 임시 선별검사소를 찾은 시민들이 검사를 기다리고 있습니다.\\n오늘(27일) 질병관리청 중앙방역대책본부는 이날 0시 기준 코로나19 신규 확진자가 31만8130명 발생했다고 밝혔습니다.\\n신규 확진자 가운데 국내 발생 환자는 31만8087명입니다.\"}\n",
      "2번째 뉴스입니다. 지난 26일 오전 중구 서울역 광장 코로나19 임시 선별검사소를 찾은 시민들이 검사를 기다리고 있습니다.\n",
      "오늘(27일) 질병관리청 중앙방역대책본부는 이날 0시 기준 코로나19 신규 확진자가 31만8130명 발생했다고 밝혔습니다.\n",
      "신규 확진자 가운데 국내 발생 환자는 31만8087명입니다. \n",
      "['1번째 뉴스입니다. 지난 27일 오전 서울역 광장에 설치된 코로나19 임시선별 검사소를 찾은 시민들이 검사를 기다리고 있습니다.\\n다음달 3일 현행 사회적 거리두기가 끝나는 가운데 거리두기를 어떻게 조정할지는 다음달 1일 열리는 중대본 회의에서 결정될 것으로 보입니다.\\n정부가 방역과 의료체계 등 상황에 따라 거리두기 완화 조치를 본격 검토하겠다고 밝힌 만큼 이번주 확진자수 추이에 따라 각종 거리두기 지침의 대폭 완화 가능성이 있습니다. ', 'https://news.jtbc.joins.com/article/article.aspx?news_id=NB12052672', '2번째 뉴스입니다. 지난 26일 오전 중구 서울역 광장 코로나19 임시 선별검사소를 찾은 시민들이 검사를 기다리고 있습니다.\\n오늘(27일) 질병관리청 중앙방역대책본부는 이날 0시 기준 코로나19 신규 확진자가 31만8130명 발생했다고 밝혔습니다.\\n신규 확진자 가운데 국내 발생 환자는 31만8087명입니다. ', 'https://news.jtbc.joins.com/article/article.aspx?news_id=NB12052598']\n",
      "voice1.mp3\n",
      "{\"summary\":\"자료사진=JTBC 방송화면 캡처〉 인천에서 신종 코로나바이러스 감염증(코로나19)에 확진된 산모가 수용 가능 병원을 찾지 못해 구급차에서 출산하는 일이 발생했습니다.\\n오늘(25일) 인천소방본부는 인천 서구 청라동에 거주하는 산모 A씨가 어제(24일) 구급차에서 남자아이를 출산했다고 JTBC에 밝혔습니다.\\nA씨는 어제 오후 6시 20분쯤 자택에서 진통이 온다며 119구급대에 신고를 했습니다.\"}\n",
      "3번째 뉴스입니다. 자료사진=JTBC 방송화면 캡처〉 인천에서 신종 코로나바이러스 감염증(코로나19)에 확진된 산모가 수용 가능 병원을 찾지 못해 구급차에서 출산하는 일이 발생했습니다.\n",
      "오늘(25일) 인천소방본부는 인천 서구 청라동에 거주하는 산모 A씨가 어제(24일) 구급차에서 남자아이를 출산했다고 JTBC에 밝혔습니다.\n",
      "A씨는 어제 오후 6시 20분쯤 자택에서 진통이 온다며 119구급대에 신고를 했습니다. \n",
      "['1번째 뉴스입니다. 지난 27일 오전 서울역 광장에 설치된 코로나19 임시선별 검사소를 찾은 시민들이 검사를 기다리고 있습니다.\\n다음달 3일 현행 사회적 거리두기가 끝나는 가운데 거리두기를 어떻게 조정할지는 다음달 1일 열리는 중대본 회의에서 결정될 것으로 보입니다.\\n정부가 방역과 의료체계 등 상황에 따라 거리두기 완화 조치를 본격 검토하겠다고 밝힌 만큼 이번주 확진자수 추이에 따라 각종 거리두기 지침의 대폭 완화 가능성이 있습니다. ', 'https://news.jtbc.joins.com/article/article.aspx?news_id=NB12052672', '2번째 뉴스입니다. 지난 26일 오전 중구 서울역 광장 코로나19 임시 선별검사소를 찾은 시민들이 검사를 기다리고 있습니다.\\n오늘(27일) 질병관리청 중앙방역대책본부는 이날 0시 기준 코로나19 신규 확진자가 31만8130명 발생했다고 밝혔습니다.\\n신규 확진자 가운데 국내 발생 환자는 31만8087명입니다. ', 'https://news.jtbc.joins.com/article/article.aspx?news_id=NB12052598', '3번째 뉴스입니다. 자료사진=JTBC 방송화면 캡처〉 인천에서 신종 코로나바이러스 감염증(코로나19)에 확진된 산모가 수용 가능 병원을 찾지 못해 구급차에서 출산하는 일이 발생했습니다.\\n오늘(25일) 인천소방본부는 인천 서구 청라동에 거주하는 산모 A씨가 어제(24일) 구급차에서 남자아이를 출산했다고 JTBC에 밝혔습니다.\\nA씨는 어제 오후 6시 20분쯤 자택에서 진통이 온다며 119구급대에 신고를 했습니다. ', 'https://news.jtbc.joins.com/article/article.aspx?news_id=NB12052508']\n",
      "voice2.mp3\n"
     ]
    },
    {
     "data": {
      "text/plain": [
       "['1번째 뉴스입니다. 지난 27일 오전 서울역 광장에 설치된 코로나19 임시선별 검사소를 찾은 시민들이 검사를 기다리고 있습니다.\\n다음달 3일 현행 사회적 거리두기가 끝나는 가운데 거리두기를 어떻게 조정할지는 다음달 1일 열리는 중대본 회의에서 결정될 것으로 보입니다.\\n정부가 방역과 의료체계 등 상황에 따라 거리두기 완화 조치를 본격 검토하겠다고 밝힌 만큼 이번주 확진자수 추이에 따라 각종 거리두기 지침의 대폭 완화 가능성이 있습니다. ',\n",
       " 'https://news.jtbc.joins.com/article/article.aspx?news_id=NB12052672',\n",
       " '2번째 뉴스입니다. 지난 26일 오전 중구 서울역 광장 코로나19 임시 선별검사소를 찾은 시민들이 검사를 기다리고 있습니다.\\n오늘(27일) 질병관리청 중앙방역대책본부는 이날 0시 기준 코로나19 신규 확진자가 31만8130명 발생했다고 밝혔습니다.\\n신규 확진자 가운데 국내 발생 환자는 31만8087명입니다. ',\n",
       " 'https://news.jtbc.joins.com/article/article.aspx?news_id=NB12052598',\n",
       " '3번째 뉴스입니다. 자료사진=JTBC 방송화면 캡처〉 인천에서 신종 코로나바이러스 감염증(코로나19)에 확진된 산모가 수용 가능 병원을 찾지 못해 구급차에서 출산하는 일이 발생했습니다.\\n오늘(25일) 인천소방본부는 인천 서구 청라동에 거주하는 산모 A씨가 어제(24일) 구급차에서 남자아이를 출산했다고 JTBC에 밝혔습니다.\\nA씨는 어제 오후 6시 20분쯤 자택에서 진통이 온다며 119구급대에 신고를 했습니다. ',\n",
       " 'https://news.jtbc.joins.com/article/article.aspx?news_id=NB12052508']"
      ]
     },
     "execution_count": 130,
     "metadata": {},
     "output_type": "execute_result"
    }
   ],
   "source": [
    "news_list = process_b(news_df)\n",
    "news_list"
   ]
  },
  {
   "cell_type": "code",
   "execution_count": 139,
   "id": "16085529",
   "metadata": {},
   "outputs": [],
   "source": [
    "import os\n",
    "import sys\n",
    "import requests\n",
    "import json\n",
    "import urllib.request\n",
    "# import pandas as pd\n",
    "# news_df = pd.read_excel('./news_df.xlsx')\n",
    "news_list=[]\n",
    "site=[]\n",
    "def process_b(news_df):\n",
    "    len(news_df.title)\n",
    "    client_id = \"qj40wl5n0t\"\n",
    "    client_secret = \"1xzXEYgwlsbv9RQxd1onUSByiyvtBDPFV9NEY1mv\"\n",
    "\n",
    "    for i in range(len(news_df.title)):\n",
    "        headers = {\n",
    "        \"X-NCP-APIGW-API-KEY-ID\": client_id,\n",
    "        \"X-NCP-APIGW-API-KEY\": client_secret,\n",
    "        \"Content-Type\": \"application/json\"\n",
    "    }\n",
    "        language = \"ko\" # Language of document (ko, ja )\n",
    "        model = \"news\" # Model used for summaries (general, news)\n",
    "        tone = \"2\" # Converts the tone of the summarized result. (0, 1, 2, 3)\n",
    "        summaryCount = \"3\" # This is the number of sentences for the summarized document.\n",
    "        url= \"https://naveropenapi.apigw.ntruss.com/text-summary/v1/summarize\" \n",
    "        title = \"\"\n",
    "        content = news_df.text[i+1]\n",
    "        data = {\n",
    "            \"document\": {\n",
    "            \"title\": title,\n",
    "            \"content\" : content},\n",
    "            \"option\": {\n",
    "            \"language\": language,\n",
    "            \"model\": model,\n",
    "            \"tone\": tone,\n",
    "            \"summaryCount\" : summaryCount\n",
    "            }\n",
    "        }\n",
    "        # print(json.dumps(data, indent=4, sort_keys=True))\n",
    "        response = requests.post(url, data=json.dumps(data), headers=headers)\n",
    "        rescode = response.status_code\n",
    "        if(rescode == 200):\n",
    "            r1=response.text  \n",
    "            print(r1)\n",
    "\n",
    "        else:\n",
    "            print(\"Error : \" + response.text)\n",
    "\n",
    "        r1\n",
    "        site = news_df.url[i+1]\n",
    "\n",
    "        r1d = json.loads(r1)\n",
    "        r1r1 = r1d['summary']\n",
    "    #    r1r1= r1.split('연합뉴스')[1]\n",
    "        r1r1 = '{}번째 뉴스입니다. {} '.format(i+1, r1r1)\n",
    "        news_list.append(r1r1)\n",
    "        news_list.append(site)\n",
    "        print(r1r1)\n",
    "        print(news_list)            \n",
    "    \n",
    "        encText = urllib.parse.quote(r1r1)\n",
    "        data = \"speaker=njihun&volume=0&speed=0&pitch=0&format=mp3&text=\" + encText;\n",
    "        url = \"https://naveropenapi.apigw.ntruss.com/tts-premium/v1/tts\"\n",
    "        request = urllib.request.Request(url)\n",
    "        request.add_header(\"X-NCP-APIGW-API-KEY-ID\",client_id)\n",
    "        request.add_header(\"X-NCP-APIGW-API-KEY\",client_secret)\n",
    "        response = urllib.request.urlopen(request, data=data.encode('utf-8'))\n",
    "        rescode = response.getcode()\n",
    "        if(rescode==200):\n",
    "            response_body = response.read()\n",
    "            fn = 'voice{}.mp3'.format(i)\n",
    "            with open(fn, 'wb') as f:\n",
    "                f.write(response_body)\n",
    "            print(fn)\n",
    "        else:\n",
    "            print(\"Error Code:\" + rescode)\n",
    "            \n",
    "    result = (r1r1, fn)\n",
    "    \n",
    "    return news_list"
   ]
  },
  {
   "cell_type": "code",
   "execution_count": 140,
   "id": "2544b09b",
   "metadata": {},
   "outputs": [
    {
     "name": "stdout",
     "output_type": "stream",
     "text": [
      "{\"summary\":\"지난 27일 오전 서울역 광장에 설치된 코로나19 임시선별 검사소를 찾은 시민들이 검사를 기다리고 있습니다.\\n다음달 3일 현행 사회적 거리두기가 끝나는 가운데 거리두기를 어떻게 조정할지는 다음달 1일 열리는 중대본 회의에서 결정될 것으로 보입니다.\\n정부가 방역과 의료체계 등 상황에 따라 거리두기 완화 조치를 본격 검토하겠다고 밝힌 만큼 이번주 확진자수 추이에 따라 각종 거리두기 지침의 대폭 완화 가능성이 있습니다.\"}\n",
      "1번째 뉴스입니다. 지난 27일 오전 서울역 광장에 설치된 코로나19 임시선별 검사소를 찾은 시민들이 검사를 기다리고 있습니다.\n",
      "다음달 3일 현행 사회적 거리두기가 끝나는 가운데 거리두기를 어떻게 조정할지는 다음달 1일 열리는 중대본 회의에서 결정될 것으로 보입니다.\n",
      "정부가 방역과 의료체계 등 상황에 따라 거리두기 완화 조치를 본격 검토하겠다고 밝힌 만큼 이번주 확진자수 추이에 따라 각종 거리두기 지침의 대폭 완화 가능성이 있습니다. \n",
      "['1번째 뉴스입니다. 지난 27일 오전 서울역 광장에 설치된 코로나19 임시선별 검사소를 찾은 시민들이 검사를 기다리고 있습니다.\\n다음달 3일 현행 사회적 거리두기가 끝나는 가운데 거리두기를 어떻게 조정할지는 다음달 1일 열리는 중대본 회의에서 결정될 것으로 보입니다.\\n정부가 방역과 의료체계 등 상황에 따라 거리두기 완화 조치를 본격 검토하겠다고 밝힌 만큼 이번주 확진자수 추이에 따라 각종 거리두기 지침의 대폭 완화 가능성이 있습니다. ', 'https://news.jtbc.joins.com/article/article.aspx?news_id=NB12052672']\n",
      "voice0.mp3\n",
      "{\"summary\":\"지난 26일 오전 중구 서울역 광장 코로나19 임시 선별검사소를 찾은 시민들이 검사를 기다리고 있습니다.\\n오늘(27일) 질병관리청 중앙방역대책본부는 이날 0시 기준 코로나19 신규 확진자가 31만8130명 발생했다고 밝혔습니다.\\n신규 확진자 가운데 국내 발생 환자는 31만8087명입니다.\"}\n",
      "2번째 뉴스입니다. 지난 26일 오전 중구 서울역 광장 코로나19 임시 선별검사소를 찾은 시민들이 검사를 기다리고 있습니다.\n",
      "오늘(27일) 질병관리청 중앙방역대책본부는 이날 0시 기준 코로나19 신규 확진자가 31만8130명 발생했다고 밝혔습니다.\n",
      "신규 확진자 가운데 국내 발생 환자는 31만8087명입니다. \n",
      "['1번째 뉴스입니다. 지난 27일 오전 서울역 광장에 설치된 코로나19 임시선별 검사소를 찾은 시민들이 검사를 기다리고 있습니다.\\n다음달 3일 현행 사회적 거리두기가 끝나는 가운데 거리두기를 어떻게 조정할지는 다음달 1일 열리는 중대본 회의에서 결정될 것으로 보입니다.\\n정부가 방역과 의료체계 등 상황에 따라 거리두기 완화 조치를 본격 검토하겠다고 밝힌 만큼 이번주 확진자수 추이에 따라 각종 거리두기 지침의 대폭 완화 가능성이 있습니다. ', 'https://news.jtbc.joins.com/article/article.aspx?news_id=NB12052672', '2번째 뉴스입니다. 지난 26일 오전 중구 서울역 광장 코로나19 임시 선별검사소를 찾은 시민들이 검사를 기다리고 있습니다.\\n오늘(27일) 질병관리청 중앙방역대책본부는 이날 0시 기준 코로나19 신규 확진자가 31만8130명 발생했다고 밝혔습니다.\\n신규 확진자 가운데 국내 발생 환자는 31만8087명입니다. ', 'https://news.jtbc.joins.com/article/article.aspx?news_id=NB12052598']\n",
      "voice1.mp3\n",
      "{\"summary\":\"자료사진=JTBC 방송화면 캡처〉 인천에서 신종 코로나바이러스 감염증(코로나19)에 확진된 산모가 수용 가능 병원을 찾지 못해 구급차에서 출산하는 일이 발생했습니다.\\n오늘(25일) 인천소방본부는 인천 서구 청라동에 거주하는 산모 A씨가 어제(24일) 구급차에서 남자아이를 출산했다고 JTBC에 밝혔습니다.\\nA씨는 어제 오후 6시 20분쯤 자택에서 진통이 온다며 119구급대에 신고를 했습니다.\"}\n",
      "3번째 뉴스입니다. 자료사진=JTBC 방송화면 캡처〉 인천에서 신종 코로나바이러스 감염증(코로나19)에 확진된 산모가 수용 가능 병원을 찾지 못해 구급차에서 출산하는 일이 발생했습니다.\n",
      "오늘(25일) 인천소방본부는 인천 서구 청라동에 거주하는 산모 A씨가 어제(24일) 구급차에서 남자아이를 출산했다고 JTBC에 밝혔습니다.\n",
      "A씨는 어제 오후 6시 20분쯤 자택에서 진통이 온다며 119구급대에 신고를 했습니다. \n",
      "['1번째 뉴스입니다. 지난 27일 오전 서울역 광장에 설치된 코로나19 임시선별 검사소를 찾은 시민들이 검사를 기다리고 있습니다.\\n다음달 3일 현행 사회적 거리두기가 끝나는 가운데 거리두기를 어떻게 조정할지는 다음달 1일 열리는 중대본 회의에서 결정될 것으로 보입니다.\\n정부가 방역과 의료체계 등 상황에 따라 거리두기 완화 조치를 본격 검토하겠다고 밝힌 만큼 이번주 확진자수 추이에 따라 각종 거리두기 지침의 대폭 완화 가능성이 있습니다. ', 'https://news.jtbc.joins.com/article/article.aspx?news_id=NB12052672', '2번째 뉴스입니다. 지난 26일 오전 중구 서울역 광장 코로나19 임시 선별검사소를 찾은 시민들이 검사를 기다리고 있습니다.\\n오늘(27일) 질병관리청 중앙방역대책본부는 이날 0시 기준 코로나19 신규 확진자가 31만8130명 발생했다고 밝혔습니다.\\n신규 확진자 가운데 국내 발생 환자는 31만8087명입니다. ', 'https://news.jtbc.joins.com/article/article.aspx?news_id=NB12052598', '3번째 뉴스입니다. 자료사진=JTBC 방송화면 캡처〉 인천에서 신종 코로나바이러스 감염증(코로나19)에 확진된 산모가 수용 가능 병원을 찾지 못해 구급차에서 출산하는 일이 발생했습니다.\\n오늘(25일) 인천소방본부는 인천 서구 청라동에 거주하는 산모 A씨가 어제(24일) 구급차에서 남자아이를 출산했다고 JTBC에 밝혔습니다.\\nA씨는 어제 오후 6시 20분쯤 자택에서 진통이 온다며 119구급대에 신고를 했습니다. ', 'https://news.jtbc.joins.com/article/article.aspx?news_id=NB12052508']\n",
      "voice2.mp3\n"
     ]
    },
    {
     "data": {
      "text/plain": [
       "['1번째 뉴스입니다. 지난 27일 오전 서울역 광장에 설치된 코로나19 임시선별 검사소를 찾은 시민들이 검사를 기다리고 있습니다.\\n다음달 3일 현행 사회적 거리두기가 끝나는 가운데 거리두기를 어떻게 조정할지는 다음달 1일 열리는 중대본 회의에서 결정될 것으로 보입니다.\\n정부가 방역과 의료체계 등 상황에 따라 거리두기 완화 조치를 본격 검토하겠다고 밝힌 만큼 이번주 확진자수 추이에 따라 각종 거리두기 지침의 대폭 완화 가능성이 있습니다. ',\n",
       " 'https://news.jtbc.joins.com/article/article.aspx?news_id=NB12052672',\n",
       " '2번째 뉴스입니다. 지난 26일 오전 중구 서울역 광장 코로나19 임시 선별검사소를 찾은 시민들이 검사를 기다리고 있습니다.\\n오늘(27일) 질병관리청 중앙방역대책본부는 이날 0시 기준 코로나19 신규 확진자가 31만8130명 발생했다고 밝혔습니다.\\n신규 확진자 가운데 국내 발생 환자는 31만8087명입니다. ',\n",
       " 'https://news.jtbc.joins.com/article/article.aspx?news_id=NB12052598',\n",
       " '3번째 뉴스입니다. 자료사진=JTBC 방송화면 캡처〉 인천에서 신종 코로나바이러스 감염증(코로나19)에 확진된 산모가 수용 가능 병원을 찾지 못해 구급차에서 출산하는 일이 발생했습니다.\\n오늘(25일) 인천소방본부는 인천 서구 청라동에 거주하는 산모 A씨가 어제(24일) 구급차에서 남자아이를 출산했다고 JTBC에 밝혔습니다.\\nA씨는 어제 오후 6시 20분쯤 자택에서 진통이 온다며 119구급대에 신고를 했습니다. ',\n",
       " 'https://news.jtbc.joins.com/article/article.aspx?news_id=NB12052508']"
      ]
     },
     "execution_count": 140,
     "metadata": {},
     "output_type": "execute_result"
    }
   ],
   "source": [
    "news_list = process_b(news_df)\n",
    "news_list"
   ]
  },
  {
   "cell_type": "code",
   "execution_count": null,
   "id": "b2f187a7",
   "metadata": {},
   "outputs": [],
   "source": []
  }
 ],
 "metadata": {
  "kernelspec": {
   "display_name": "Python 3 (ipykernel)",
   "language": "python",
   "name": "python3"
  },
  "language_info": {
   "codemirror_mode": {
    "name": "ipython",
    "version": 3
   },
   "file_extension": ".py",
   "mimetype": "text/x-python",
   "name": "python",
   "nbconvert_exporter": "python",
   "pygments_lexer": "ipython3",
   "version": "3.9.7"
  }
 },
 "nbformat": 4,
 "nbformat_minor": 5
}
