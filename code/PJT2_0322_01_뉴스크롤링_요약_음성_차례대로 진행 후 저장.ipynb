{
 "cells": [
  {
   "cell_type": "markdown",
   "id": "d0ab753d",
   "metadata": {},
   "source": [
    "## 언론사별 뉴스 크롤링 하기"
   ]
  },
  {
   "cell_type": "code",
   "execution_count": 6,
   "id": "bd3e8903",
   "metadata": {
    "scrolled": true
   },
   "outputs": [
    {
     "name": "stdout",
     "output_type": "stream",
     "text": [
      "본문 크롤링에 필요한 함수를 로딩하고 있습니다...\n",
      "----------------------------------------------------------------------------------------------------\n",
      "검색할 언론사 : JTBC\n",
      "검색할 키워드  : 코로나\n",
      "수집 뉴스의 수(숫자만 입력) : 3\n",
      "\n",
      "====================================================================================================\n",
      "\n",
      "브라우저를 실행시킵니다(자동 제어)\n",
      "\n"
     ]
    },
    {
     "name": "stderr",
     "output_type": "stream",
     "text": [
      "C:\\Users\\Public\\Documents\\ESTsoft\\CreatorTemp/ipykernel_19080/3928598573.py:83: DeprecationWarning: executable_path has been deprecated, please pass in a Service object\n",
      "  browser = webdriver.Chrome(chrome_path)\n"
     ]
    },
    {
     "name": "stdout",
     "output_type": "stream",
     "text": [
      "설정한 언론사를 선택합니다.\n",
      "\n"
     ]
    },
    {
     "name": "stderr",
     "output_type": "stream",
     "text": [
      "C:\\Users\\Public\\Documents\\ESTsoft\\CreatorTemp/ipykernel_19080/3928598573.py:93: DeprecationWarning: find_element_by_* commands are deprecated. Please use find_element() instead\n",
      "  search_opn_btn = browser.find_element_by_xpath('//a[@class=\"btn_option _search_option_open_btn\"]')\n",
      "C:\\Users\\Public\\Documents\\ESTsoft\\CreatorTemp/ipykernel_19080/3928598573.py:97: DeprecationWarning: find_element_by_* commands are deprecated. Please use find_element() instead\n",
      "  bx_press = browser.find_element_by_xpath('//div[@role=\"listbox\" and @class=\"api_group_option_sort _search_option_detail_wrap\"]//li[@class=\"bx press\"]')\n",
      "C:\\Users\\jhjh3\\anaconda3\\lib\\site-packages\\selenium\\webdriver\\remote\\webelement.py:426: UserWarning: find_elements_by_* commands are deprecated. Please use find_elements() instead\n",
      "  warnings.warn(\"find_elements_by_* commands are deprecated. Please use find_elements() instead\")\n"
     ]
    },
    {
     "name": "stdout",
     "output_type": "stream",
     "text": [
      "<방송/통신> 카테고리에서 <JTBC>를 찾았으므로 탐색을 종료합니다\n",
      "\n",
      "크롤링을 시작합니다.\n"
     ]
    },
    {
     "name": "stderr",
     "output_type": "stream",
     "text": [
      "  0%|                                                                                            | 0/3 [00:00<?, ?it/s]C:\\Users\\Public\\Documents\\ESTsoft\\CreatorTemp/ipykernel_19080/3928598573.py:152: DeprecationWarning: find_element_by_* commands are deprecated. Please use find_element() instead\n",
      "  table = browser.find_element_by_xpath('//ul[@class=\"list_news\"]')\n",
      "C:\\Users\\jhjh3\\anaconda3\\lib\\site-packages\\selenium\\webdriver\\remote\\webelement.py:393: UserWarning: find_element_by_* commands are deprecated. Please use find_element() instead\n",
      "  warnings.warn(\"find_element_by_* commands are deprecated. Please use find_element() instead\")\n",
      "100%|████████████████████████████████████████████████████████████████████████████████████| 3/3 [00:01<00:00,  1.72it/s]\n"
     ]
    },
    {
     "name": "stdout",
     "output_type": "stream",
     "text": [
      "\n",
      "브라우저를 종료합니다.\n",
      "====================================================================================================\n",
      "데이터프레임 변환\n",
      "\n",
      "엑셀 저장 완료 | 경로 : C:\\Users\\jhjh3\\PJT_02\\네이버뉴스_본문_3개_코로나_2022-03-22_11시08분.xlsx\n",
      "\n",
      "====================================================================================================\n",
      "결과물의 일부\n"
     ]
    },
    {
     "data": {
      "text/html": [
       "<div>\n",
       "<style scoped>\n",
       "    .dataframe tbody tr th:only-of-type {\n",
       "        vertical-align: middle;\n",
       "    }\n",
       "\n",
       "    .dataframe tbody tr th {\n",
       "        vertical-align: top;\n",
       "    }\n",
       "\n",
       "    .dataframe thead th {\n",
       "        text-align: right;\n",
       "    }\n",
       "</style>\n",
       "<table border=\"1\" class=\"dataframe\">\n",
       "  <thead>\n",
       "    <tr style=\"text-align: right;\">\n",
       "      <th></th>\n",
       "      <th>title</th>\n",
       "      <th>url</th>\n",
       "      <th>text</th>\n",
       "    </tr>\n",
       "  </thead>\n",
       "  <tbody>\n",
       "    <tr>\n",
       "      <th>1</th>\n",
       "      <td>안철수 \"코로나 방역과 소상공인 보상, 인수위 제1민생과제\"</td>\n",
       "      <td>https://news.jtbc.joins.com/article/article.as...</td>\n",
       "      <td>인수위원장을 겸직하고 있는 안철수 대통령인수위원회 코로나비상대응특별위원장이 오늘(2...</td>\n",
       "    </tr>\n",
       "    <tr>\n",
       "      <th>2</th>\n",
       "      <td>한 번 걸렸으니 슈퍼 항체? '코로나 재감염' 늘고 있다</td>\n",
       "      <td>https://news.jtbc.joins.com/article/article.as...</td>\n",
       "      <td>[앵커]코로나19 소식입니다. 하루 사이, 38만명 넘는 확진자가 쏟아졌습니다. 며...</td>\n",
       "    </tr>\n",
       "    <tr>\n",
       "      <th>3</th>\n",
       "      <td>코로나에 뜬 밀키트 '못 믿을 속살'…비위생 업체 수두룩</td>\n",
       "      <td>https://news.jtbc.joins.com/article/article.as...</td>\n",
       "      <td>[앵커]집에서 편하게 해먹을 수 있는 간편식을 만드는 업체들이 무더기로 적발됐습니다...</td>\n",
       "    </tr>\n",
       "  </tbody>\n",
       "</table>\n",
       "</div>"
      ],
      "text/plain": [
       "                               title  \\\n",
       "1  안철수 \"코로나 방역과 소상공인 보상, 인수위 제1민생과제\"   \n",
       "2    한 번 걸렸으니 슈퍼 항체? '코로나 재감염' 늘고 있다   \n",
       "3    코로나에 뜬 밀키트 '못 믿을 속살'…비위생 업체 수두룩   \n",
       "\n",
       "                                                 url  \\\n",
       "1  https://news.jtbc.joins.com/article/article.as...   \n",
       "2  https://news.jtbc.joins.com/article/article.as...   \n",
       "3  https://news.jtbc.joins.com/article/article.as...   \n",
       "\n",
       "                                                text  \n",
       "1  인수위원장을 겸직하고 있는 안철수 대통령인수위원회 코로나비상대응특별위원장이 오늘(2...  \n",
       "2  [앵커]코로나19 소식입니다. 하루 사이, 38만명 넘는 확진자가 쏟아졌습니다. 며...  \n",
       "3  [앵커]집에서 편하게 해먹을 수 있는 간편식을 만드는 업체들이 무더기로 적발됐습니다...  "
      ]
     },
     "execution_count": 6,
     "metadata": {},
     "output_type": "execute_result"
    }
   ],
   "source": [
    "import sys, os\n",
    "import requests\n",
    "import selenium\n",
    "from selenium import webdriver\n",
    "import requests\n",
    "from pandas import DataFrame\n",
    "from bs4 import BeautifulSoup\n",
    "import re\n",
    "from datetime import datetime\n",
    "import pickle, json, glob, time\n",
    "from tqdm import tqdm\n",
    "\n",
    "\n",
    "\n",
    "###### 날짜 저장 ##########\n",
    "date = str(datetime.now())\n",
    "date = date[:date.rfind(':')].replace(' ', '_')\n",
    "date = date.replace(':','시') + '분'\n",
    "\n",
    "sleep_sec = 0.5\n",
    "\n",
    "\n",
    "####### 언론사별 본문 위치 태그 파싱 함수 ###########\n",
    "print('본문 크롤링에 필요한 함수를 로딩하고 있습니다...\\n' + '-' * 100)\n",
    "def crawling_main_text(url):\n",
    "\n",
    "    req = requests.get(url)\n",
    "    req.encoding = None\n",
    "    soup = BeautifulSoup(req.text, 'html.parser')\n",
    "    \n",
    "    # 연합뉴스\n",
    "    if ('://yna' in url) | ('app.yonhapnews' in url): \n",
    "        main_article = soup.find('article', {'class':'story-news article'})\n",
    "        if main_article == None:\n",
    "            main_article = soup.find('div', {'class' : 'article-txt'})\n",
    "            \n",
    "        text = main_article.text\n",
    "        \n",
    "    # MBC \n",
    "    elif '//imnews.imbc' in url: \n",
    "        text = soup.find('div', {'itemprop' : 'articleBody'}).text\n",
    "        \n",
    "    # 매일경제(미라클), req.encoding = None 설정 필요\n",
    "    elif 'mirakle.mk' in url:\n",
    "        text = soup.find('div', {'class' : 'view_txt'}).text\n",
    "        \n",
    "    # 매일경제, req.encoding = None 설정 필요\n",
    "    elif 'mk.co' in url:\n",
    "        text = soup.find('div', {'class' : 'art_txt'}).text\n",
    "        \n",
    "    # SBS\n",
    "    elif 'news.sbs' in url:\n",
    "        text = soup.find('div', {'itemprop' : 'articleBody'}).text\n",
    "    \n",
    "    # KBS\n",
    "    elif 'news.kbs' in url:\n",
    "        text = soup.find('div', {'id' : 'cont_newstext'}).text\n",
    "        \n",
    "    # JTBC\n",
    "    elif 'news.jtbc' in url:\n",
    "        text = soup.find('div', {'class' : 'article_content'}).text\n",
    "        \n",
    "    # 그 외\n",
    "    else:\n",
    "        text == None\n",
    "        \n",
    "    return text.replace('\\n','').replace('\\r','').replace('<br>','').replace('\\t','')\n",
    "    \n",
    "    \n",
    "press_nm = 'JTBC'\n",
    "\n",
    "print('검색할 언론사 : {}'.format(press_nm))\n",
    "\n",
    "\n",
    "############### 브라우저를 켜고 검색 키워드 입력 ####################\n",
    "query = input('검색할 키워드  : ')\n",
    "news_num = int(input('수집 뉴스의 수(숫자만 입력) : '))\n",
    "\n",
    "print('\\n' + '=' * 100 + '\\n')\n",
    "\n",
    "print('브라우저를 실행시킵니다(자동 제어)\\n')\n",
    "chrome_path = 'C:/Users/jhjh3/chromedriver_win32 (1)/chromedriver.exe'\n",
    "browser = webdriver.Chrome(chrome_path)\n",
    "\n",
    "news_url = 'https://search.naver.com/search.naver?where=news&query={}'.format(query)\n",
    "browser.get(news_url)\n",
    "time.sleep(sleep_sec)\n",
    "\n",
    "\n",
    "######### 언론사 선택 및 confirm #####################\n",
    "print('설정한 언론사를 선택합니다.\\n')\n",
    "\n",
    "search_opn_btn = browser.find_element_by_xpath('//a[@class=\"btn_option _search_option_open_btn\"]')\n",
    "search_opn_btn.click()\n",
    "time.sleep(sleep_sec)\n",
    "\n",
    "bx_press = browser.find_element_by_xpath('//div[@role=\"listbox\" and @class=\"api_group_option_sort _search_option_detail_wrap\"]//li[@class=\"bx press\"]')\n",
    "\n",
    "# 기준 두번 째(언론사 분류순) 클릭하고 오픈하기\n",
    "press_tablist = bx_press.find_elements_by_xpath('.//div[@role=\"tablist\" and @class=\"option\"]/a')\n",
    "press_tablist[1].click()\n",
    "time.sleep(sleep_sec)\n",
    "\n",
    "# 첫 번째 것(언론사 분류선택)\n",
    "bx_group = bx_press.find_elements_by_xpath('.//div[@class=\"api_select_option type_group _category_select_layer\"]/div[@class=\"select_wrap _root\"]')[0]\n",
    "\n",
    "press_kind_bx = bx_group.find_elements_by_xpath('.//div[@class=\"group_select _list_root\"]')[0]\n",
    "press_kind_btn_list = press_kind_bx.find_elements_by_xpath('.//ul[@role=\"tablist\" and @class=\"lst_item _ul\"]/li/a')\n",
    "\n",
    "\n",
    "for press_kind_btn in press_kind_btn_list:\n",
    "    \n",
    "    # 언론사 종류를 순차적으로 클릭(좌측)\n",
    "    press_kind_btn.click()\n",
    "    time.sleep(sleep_sec)\n",
    "    \n",
    "    # 언론사선택(우측)\n",
    "    press_slct_bx = bx_group.find_elements_by_xpath('.//div[@class=\"group_select _list_root\"]')[1]\n",
    "    # 언론사 선택할 수 있는 클릭 버튼\n",
    "    press_slct_btn_list = press_slct_bx.find_elements_by_xpath('.//ul[@role=\"tablist\" and @class=\"lst_item _ul\"]/li/a')\n",
    "    # 언론사 이름들 추출\n",
    "    press_slct_btn_list_nm = [psl.text for psl in press_slct_btn_list]\n",
    "    \n",
    "    # 언론사 이름 : 언론사 클릭 버튼 인 딕셔너리 생성\n",
    "    press_slct_btn_dict = dict(zip(press_slct_btn_list_nm, press_slct_btn_list))\n",
    "    \n",
    "    # 원하는 언론사가 해당 이름 안에 있는 경우\n",
    "    # 1) 클릭하고\n",
    "    # 2) 더이상 언론사분류선택 탐색 중지\n",
    "    if press_nm in press_slct_btn_dict.keys():\n",
    "        print('<{}> 카테고리에서 <{}>를 찾았으므로 탐색을 종료합니다'.format(press_kind_btn.text, press_nm))\n",
    "        \n",
    "        press_slct_btn_dict[press_nm].click()\n",
    "        time.sleep(sleep_sec)\n",
    "        \n",
    "        break\n",
    "\n",
    "\n",
    "\n",
    "################ 뉴스 크롤링 ########################\n",
    "\n",
    "print('\\n크롤링을 시작합니다.')\n",
    "# ####동적 제어로 페이지 넘어가며 크롤링\n",
    "news_dict = {}\n",
    "idx = 1\n",
    "cur_page = 1\n",
    "\n",
    "pbar = tqdm(total=news_num ,leave = True)\n",
    "    \n",
    "while idx < news_num:\n",
    "\n",
    "    table = browser.find_element_by_xpath('//ul[@class=\"list_news\"]')\n",
    "    li_list = table.find_elements_by_xpath('./li[contains(@id, \"sp_nws\")]')\n",
    "    area_list = [li.find_element_by_xpath('.//div[@class=\"news_area\"]') for li in li_list]\n",
    "    a_list = [area.find_element_by_xpath('.//a[@class=\"news_tit\"]') for area in area_list]\n",
    " \n",
    "    for n in a_list[:min(len(a_list), news_num-idx+1)]:\n",
    "        n_url = n.get_attribute('href')\n",
    "        news_dict[idx] = {'title' : n.get_attribute('title'), \n",
    "                          'url' : n_url,\n",
    "                          'text' : crawling_main_text(n_url)}\n",
    "        \n",
    "        idx += 1\n",
    "        pbar.update(1)\n",
    "        \n",
    "    if idx < news_num:\n",
    "        cur_page +=1\n",
    "\n",
    "        pages = browser.find_element_by_xpath('//div[@class=\"sc_page_inner\"]')\n",
    "        next_page_url = [p for p in pages.find_elements_by_xpath('.//a') if p.text == str(cur_page)][0].get_attribute('href')\n",
    "\n",
    "        browser.get(next_page_url)\n",
    "        time.sleep(sleep_sec)\n",
    "    else:\n",
    "        pbar.close()\n",
    "        \n",
    "        print('\\n브라우저를 종료합니다.\\n' + '=' * 100)\n",
    "        time.sleep(0.7)\n",
    "        browser.close()\n",
    "        break\n",
    "\n",
    "#### 데이터 전처리하기 ###################################################### \n",
    "\n",
    "print('데이터프레임 변환\\n')\n",
    "news_df = DataFrame(news_dict).T\n",
    "\n",
    "folder_path = os.getcwd()\n",
    "xlsx_file_name = '네이버뉴스_본문_{}개_{}_{}.xlsx'.format(news_num, query, date)\n",
    "\n",
    "news_df.to_excel(xlsx_file_name)\n",
    "\n",
    "print('엑셀 저장 완료 | 경로 : {}\\\\{}\\n'.format(folder_path, xlsx_file_name))\n",
    "\n",
    "os.startfile(folder_path)\n",
    "\n",
    "print('=' * 100 + '\\n결과물의 일부')\n",
    "news_df"
   ]
  },
  {
   "cell_type": "markdown",
   "id": "06d1cd9f",
   "metadata": {},
   "source": [
    "- Summary에 넣을 수 있도록 적용 방법 찾아보기"
   ]
  },
  {
   "cell_type": "code",
   "execution_count": 7,
   "id": "c73e9cb5",
   "metadata": {},
   "outputs": [
    {
     "name": "stdout",
     "output_type": "stream",
     "text": [
      "안철수 \"코로나 방역과 소상공인 보상, 인수위 제1민생과제\"\n"
     ]
    },
    {
     "data": {
      "text/plain": [
       "str"
      ]
     },
     "execution_count": 7,
     "metadata": {},
     "output_type": "execute_result"
    }
   ],
   "source": [
    "ti = news_df['title']\n",
    "co = news_df['text']\n",
    "print(ti[1])\n",
    "type(ti)\n",
    "\n",
    "ti_list = []\n",
    "\n",
    "for ti_list in news_df['title']:\n",
    "    ti_list = ti.astype('str')\n",
    "        \n",
    "type(ti_list)\n",
    "type(ti[1])"
   ]
  },
  {
   "cell_type": "code",
   "execution_count": 66,
   "id": "758d0d98",
   "metadata": {
    "scrolled": true
   },
   "outputs": [
    {
     "ename": "AttributeError",
     "evalue": "'Series' object has no attribute 'toString'",
     "output_type": "error",
     "traceback": [
      "\u001b[1;31m---------------------------------------------------------------------------\u001b[0m",
      "\u001b[1;31mAttributeError\u001b[0m                            Traceback (most recent call last)",
      "\u001b[1;32mC:\\Users\\Public\\Documents\\ESTsoft\\CreatorTemp/ipykernel_27540/659758101.py\u001b[0m in \u001b[0;36m<module>\u001b[1;34m\u001b[0m\n\u001b[1;32m----> 1\u001b[1;33m \u001b[0mnews_df\u001b[0m\u001b[1;33m[\u001b[0m\u001b[1;34m'title'\u001b[0m\u001b[1;33m]\u001b[0m\u001b[1;33m.\u001b[0m\u001b[0mtoString\u001b[0m\u001b[1;33m(\u001b[0m\u001b[1;33m)\u001b[0m\u001b[1;33m\u001b[0m\u001b[1;33m\u001b[0m\u001b[0m\n\u001b[0m",
      "\u001b[1;32m~\\anaconda3\\lib\\site-packages\\pandas\\core\\generic.py\u001b[0m in \u001b[0;36m__getattr__\u001b[1;34m(self, name)\u001b[0m\n\u001b[0;32m   5485\u001b[0m         ):\n\u001b[0;32m   5486\u001b[0m             \u001b[1;32mreturn\u001b[0m \u001b[0mself\u001b[0m\u001b[1;33m[\u001b[0m\u001b[0mname\u001b[0m\u001b[1;33m]\u001b[0m\u001b[1;33m\u001b[0m\u001b[1;33m\u001b[0m\u001b[0m\n\u001b[1;32m-> 5487\u001b[1;33m         \u001b[1;32mreturn\u001b[0m \u001b[0mobject\u001b[0m\u001b[1;33m.\u001b[0m\u001b[0m__getattribute__\u001b[0m\u001b[1;33m(\u001b[0m\u001b[0mself\u001b[0m\u001b[1;33m,\u001b[0m \u001b[0mname\u001b[0m\u001b[1;33m)\u001b[0m\u001b[1;33m\u001b[0m\u001b[1;33m\u001b[0m\u001b[0m\n\u001b[0m\u001b[0;32m   5488\u001b[0m \u001b[1;33m\u001b[0m\u001b[0m\n\u001b[0;32m   5489\u001b[0m     \u001b[1;32mdef\u001b[0m \u001b[0m__setattr__\u001b[0m\u001b[1;33m(\u001b[0m\u001b[0mself\u001b[0m\u001b[1;33m,\u001b[0m \u001b[0mname\u001b[0m\u001b[1;33m:\u001b[0m \u001b[0mstr\u001b[0m\u001b[1;33m,\u001b[0m \u001b[0mvalue\u001b[0m\u001b[1;33m)\u001b[0m \u001b[1;33m->\u001b[0m \u001b[1;32mNone\u001b[0m\u001b[1;33m:\u001b[0m\u001b[1;33m\u001b[0m\u001b[1;33m\u001b[0m\u001b[0m\n",
      "\u001b[1;31mAttributeError\u001b[0m: 'Series' object has no attribute 'toString'"
     ]
    }
   ],
   "source": [
    "news_df['title'].toString()"
   ]
  },
  {
   "cell_type": "markdown",
   "id": "29832046",
   "metadata": {},
   "source": [
    "### 크롤링한 내용을 요약에 바로 적용해보기"
   ]
  },
  {
   "cell_type": "code",
   "execution_count": 10,
   "id": "19122318",
   "metadata": {
    "scrolled": true
   },
   "outputs": [
    {
     "name": "stdout",
     "output_type": "stream",
     "text": [
      "{\"summary\":\"코로나19 비상대응특위 회의를 주재하고 있는 안철수 인수위원장 〈사진=연합뉴스〉먼저 안 위원장은 문재인 정부의 코로나19 방역 대응을 '무너진 정치 방역'으로 규정하고 \\\"과학 방역의 구체적 내용을 세우는 것이 우리 특위의 첫 번째 임무\\\"라고 강조했습니다.\\n안 위원장은 \\\"손실액 산정을 어떻게 해야 하는지, 보상 방안으로 대출 연장과 세금 감면, 현금 지원에 대해서 어떤 방식으로 접근해야 할지에 대해서 최선의 방법을 찾아야 한다\\\"고 강조했습니다.\\n안 위원장은 \\\"급하다고 해서 충분한 고려 없이 설익은 해법을 내놓는다면 오히려 혼란과 부작용을 초래할 수 있다\\\"며 \\\"향후 다른 감염병 유행 때도 좋은 참고가 될 수 있는 완성도 높은 해법을 국민 앞에 내놓아야 할 것\\\"이라고 당부했습니다.\"}\n"
     ]
    }
   ],
   "source": [
    "import requests\n",
    "import json\n",
    "\n",
    "url = \"https://naveropenapi.apigw.ntruss.com/text-summary/v1/summarize\"\n",
    "\n",
    "\n",
    "\n",
    "document = {\"title\": news_df.title[1],\n",
    "            \"content\": news_df.text[1]}\n",
    "            \n",
    "option =  {\"language\": \"ko\", \n",
    "           \"model\": \"news\",\n",
    "           \"tone\": 2,\n",
    "           \"summaryCount\": 3}\n",
    "\n",
    "msg = {'document':document, 'option':option}\n",
    "\n",
    "payload = json.dumps(msg)\n",
    "\n",
    "\n",
    "headers = {\n",
    "  'X-NCP-APIGW-API-KEY-ID': 'qj40wl5n0t',\n",
    "  'X-NCP-APIGW-API-KEY': '1xzXEYgwlsbv9RQxd1onUSByiyvtBDPFV9NEY1mv',\n",
    "  'Content-Type': 'application/json'\n",
    "}\n",
    "\n",
    "response = requests.request(\"POST\", url, headers=headers, data=payload)\n",
    "\n",
    "print(response.text)\n",
    "\n",
    "# r1=response.text  \n",
    "# r1r1=r1.split('앵커')[1]\n",
    "# print(r1r1)"
   ]
  },
  {
   "cell_type": "markdown",
   "id": "898cf80f",
   "metadata": {},
   "source": [
    "- 앞에 \"summary\" 빼고 내용만 추출"
   ]
  },
  {
   "cell_type": "code",
   "execution_count": 13,
   "id": "fc4699b5",
   "metadata": {},
   "outputs": [
    {
     "name": "stdout",
     "output_type": "stream",
     "text": [
      "\"코로나19 비상대응특위 회의를 주재하고 있는 안철수 인수위원장 〈사진=연합뉴스〉먼저 안 위원장은 문재인 정부의 코로나19 방역 대응을 '무너진 정치 방역'으로 규정하고 \\\"과학 방역의 구체적 내용을 세우는 것이 우리 특위의 첫 번째 임무\\\"라고 강조했습니다.\\n안 위원장은 \\\"손실액 산정을 어떻게 해야 하는지, 보상 방안으로 대출 연장과 세금 감면, 현금 지원에 대해서 어떤 방식으로 접근해야 할지에 대해서 최선의 방법을 찾아야 한다\\\"고 강조했습니다.\\n안 위원장은 \\\"급하다고 해서 충분한 고려 없이 설익은 해법을 내놓는다면 오히려 혼란과 부작용을 초래할 수 있다\\\"며 \\\"향후 다른 감염병 유행 때도 좋은 참고가 될 수 있는 완성도 높은 해법을 국민 앞에 내놓아야 할 것\\\"이라고 당부했습니다.\"}\n"
     ]
    }
   ],
   "source": [
    "import requests\n",
    "import json\n",
    "\n",
    "url = \"https://naveropenapi.apigw.ntruss.com/text-summary/v1/summarize\"\n",
    "\n",
    "document = {\"title\": news_df.title[1],\n",
    "            \"content\": news_df.text[1]}\n",
    "            \n",
    "option =  {\"language\": \"ko\", \n",
    "           \"model\": \"news\",\n",
    "           \"tone\": 2,\n",
    "           \"summaryCount\": 3}\n",
    "\n",
    "msg = {'document':document, 'option':option}\n",
    "\n",
    "payload = json.dumps(msg)\n",
    "\n",
    "\n",
    "headers = {\n",
    "  'X-NCP-APIGW-API-KEY-ID': 'qj40wl5n0t',\n",
    "  'X-NCP-APIGW-API-KEY': '1xzXEYgwlsbv9RQxd1onUSByiyvtBDPFV9NEY1mv',\n",
    "  'Content-Type': 'application/json'\n",
    "}\n",
    "\n",
    "response = requests.request(\"POST\", url, headers=headers, data=payload)\n",
    "\n",
    "# print(response.text)\n",
    "\n",
    "r1=response.text  \n",
    "r1r1=r1.split(':')[1]\n",
    "print(r1r1)"
   ]
  },
  {
   "cell_type": "code",
   "execution_count": 123,
   "id": "cd9d6c09",
   "metadata": {
    "scrolled": true
   },
   "outputs": [
    {
     "name": "stdout",
     "output_type": "stream",
     "text": [
      "코로나19 비상대응특위 회의를 주재하고 있는 안철수 인수위원장 〈사진=연합뉴스〉먼저 안 위원장은 문재인 정부의 코로나19 방역 대응을 '무너진 정치 방역'으로 규정하고 \"과학 방역의 구체적 내용을 세우는 것이 우리 특위의 첫 번째 임무\"라고 강조했습니다.\n",
      "안 위원장은 \"손실액 산정을 어떻게 해야 하는지, 보상 방안으로 대출 연장과 세금 감면, 현금 지원에 대해서 어떤 방식으로 접근해야 할지에 대해서 최선의 방법을 찾아야 한다\"고 강조했습니다.\n",
      "안 위원장은 \"급하다고 해서 충분한 고려 없이 설익은 해법을 내놓는다면 오히려 혼란과 부작용을 초래할 수 있다\"며 \"향후 다른 감염병 유행 때도 좋은 참고가 될 수 있는 완성도 높은 해법을 국민 앞에 내놓아야 할 것\"이라고 당부했습니다.\n"
     ]
    }
   ],
   "source": [
    "import requests\n",
    "import json\n",
    "\n",
    "url = \"https://naveropenapi.apigw.ntruss.com/text-summary/v1/summarize\"\n",
    "\n",
    "document = {\"title\": news_df.title[1],\n",
    "            \"content\": news_df.text[1]}\n",
    "            \n",
    "option =  {\"language\": \"ko\", \n",
    "           \"model\": \"news\",\n",
    "           \"tone\": 2,\n",
    "           \"summaryCount\": 3}\n",
    "\n",
    "msg = {'document':document, 'option':option}\n",
    "\n",
    "payload = json.dumps(msg)\n",
    "\n",
    "\n",
    "headers = {\n",
    "  'X-NCP-APIGW-API-KEY-ID': 'qj40wl5n0t',\n",
    "  'X-NCP-APIGW-API-KEY': '1xzXEYgwlsbv9RQxd1onUSByiyvtBDPFV9NEY1mv',\n",
    "  'Content-Type': 'application/json'\n",
    "}\n",
    "\n",
    "response = requests.request(\"POST\", url, headers=headers, data=payload)\n",
    "\n",
    "# print(response.text)\n",
    "\n",
    "r1=response.text\n",
    "r1 = json.loads(r1)\n",
    "r1r1=r1[\"summary\"]\n",
    "print(r1r1)"
   ]
  },
  {
   "cell_type": "markdown",
   "id": "74dfff2b",
   "metadata": {},
   "source": [
    "- 요약한것 읽어주기"
   ]
  },
  {
   "cell_type": "code",
   "execution_count": 124,
   "id": "c72b84c9",
   "metadata": {
    "scrolled": true
   },
   "outputs": [
    {
     "name": "stdout",
     "output_type": "stream",
     "text": [
      "TTS mp3 저장\n"
     ]
    }
   ],
   "source": [
    "import os\n",
    "import sys\n",
    "import urllib.request\n",
    "client_id = \"qj40wl5n0t\"\n",
    "client_secret = \"1xzXEYgwlsbv9RQxd1onUSByiyvtBDPFV9NEY1mv\"\n",
    "encText = urllib.parse.quote(r1r1)\n",
    "data = \"speaker=njihun&volume=0&speed=0&pitch=0&format=mp3&text=\" + encText;\n",
    "url = \"https://naveropenapi.apigw.ntruss.com/tts-premium/v1/tts\"\n",
    "request = urllib.request.Request(url)\n",
    "request.add_header(\"X-NCP-APIGW-API-KEY-ID\",client_id)\n",
    "request.add_header(\"X-NCP-APIGW-API-KEY\",client_secret)\n",
    "response = urllib.request.urlopen(request, data=data.encode('utf-8'))\n",
    "rescode = response.getcode()\n",
    "if(rescode==200):\n",
    "    print(\"TTS mp3 저장\")\n",
    "    response_body = response.read()\n",
    "    with open('1113.mp3', 'wb') as f:\n",
    "        f.write(response_body)\n",
    "else:\n",
    "    print(\"Error Code:\" + rescode)"
   ]
  },
  {
   "cell_type": "markdown",
   "id": "773e384c",
   "metadata": {},
   "source": [
    "### 본격 크롤링한 뉴스 리스트를 요약리스트에 넣어서 결과 도출하기"
   ]
  },
  {
   "cell_type": "code",
   "execution_count": 125,
   "id": "16a037ae",
   "metadata": {
    "scrolled": false
   },
   "outputs": [
    {
     "name": "stdout",
     "output_type": "stream",
     "text": [
      "인수위원장을 겸직하고 있는 안철수 대통령인수위원회 코로나비상대응특별위원장이 오늘(21일) 통의동 인수위원회에서 코로나비상대응특별위원회 제1차 회의를 열었습니다.\n",
      "코로나19 비상대응특위 회의를 주재하고 있는 안철수 인수위원장 〈사진=연합뉴스〉먼저 안 위원장은 문재인 정부의 코로나19 방역 대응을 '무너진 정치 방역'으로 규정하고 \"과학 방역의 구체적 내용을 세우는 것이 우리 특위의 첫 번째 임무\"라고 강조했습니다.\n",
      "이어 문재인 정부에서 시행했던 방역 정책들을 점검하고 무엇이 잘못됐는지 확인하는 일을 첫 과제로 꼽았습니다.\n",
      "하루 사이, 38만명 넘는 확진자가 쏟아졌습니다.\n",
      "전문가들은 코로나에 다시 걸리지 않는다는 이른바 '슈퍼 항체 보유자'는 없다고 봐야 한다며 완치자도 방역수칙을 철저히 지켜야 한다고 강조합니다.[천은미/이화여대 목동병원 호흡기내과 교수 : 기존에 델타 변이까지 감염됐던 분이면 굉장히 조심합니다.\n",
      "오미크론은 감염이 될 수 있고.]특히 오미크론 변이의 하위 계통인 이른바 스텔스 오미크론 BA2변이의 등장도 재감염 사례를 악화시키는 요인일수 있습니다.\n",
      "앵커]집에서 편하게 해먹을 수 있는 간편식을 만드는 업체들이 무더기로 적발됐습니다.\n",
      "플라스틱 바구니 안엔 진공포장된 각종 고기가 가득 쌓여있습니다.\n",
      "냉동보관 해야 할 고기를 냉장창고에 뒀다가 적발된 겁니다.[축산물가공업소 관계자 : 이게 원료육이어서…원료 냉동…]마트 안에 있는 정육점입니다.\n"
     ]
    }
   ],
   "source": [
    "len(news_df.title)\n",
    "\n",
    "import os\n",
    "import sys\n",
    "import requests\n",
    "import json\n",
    "import urllib.request\n",
    "\n",
    "client_id = \"qj40wl5n0t\"\n",
    "client_secret = \"1xzXEYgwlsbv9RQxd1onUSByiyvtBDPFV9NEY1mv\"\n",
    "\n",
    "for i in range(1, len(news_df.title)+1):\n",
    "    headers = {\n",
    "    \"X-NCP-APIGW-API-KEY-ID\": client_id,\n",
    "    \"X-NCP-APIGW-API-KEY\": client_secret,\n",
    "    \"Content-Type\": \"application/json\"\n",
    "}\n",
    "    language = \"ko\" # Language of document (ko, ja )\n",
    "    model = \"news\" # Model used for summaries (general, news)\n",
    "    tone = \"2\" # Converts the tone of the summarized result. (0, 1, 2, 3)\n",
    "    summaryCount = \"3\" # This is the number of sentences for the summarized document.\n",
    "    url= \"https://naveropenapi.apigw.ntruss.com/text-summary/v1/summarize\" \n",
    "    title= \"\"\n",
    "    content = news_df.text[i]\n",
    "    data = {\n",
    "        \"document\": {\n",
    "        \"title\": title,\n",
    "        \"content\" : content\n",
    "        },\n",
    "        \"option\": {\n",
    "        \"language\": language,\n",
    "        \"model\": model,\n",
    "        \"tone\": tone,\n",
    "        \"summaryCount\" : summaryCount\n",
    "        }\n",
    "    }\n",
    "    # print(json.dumps(data, indent=4, sort_keys=True))\n",
    "    response = requests.post(url, data=json.dumps(data), headers=headers)\n",
    "    rescode = response.status_code\n",
    "    if(rescode == 200):\n",
    "        r1=response.text  \n",
    "        # print(r1)\n",
    "\n",
    "    else:\n",
    "        print(\"Error : \" + response.text)\n",
    "        \n",
    "    r1 = json.loads(r1)\n",
    "    r1r1=r1[\"summary\"]\n",
    "    print(r1r1)\n",
    "\n"
   ]
  },
  {
   "cell_type": "markdown",
   "id": "2f448896",
   "metadata": {},
   "source": [
    "## 뉴스 사이사이 구분 넣어주기 (ex) 1번째 뉴스입니다.)"
   ]
  },
  {
   "cell_type": "code",
   "execution_count": 126,
   "id": "9c88ff39",
   "metadata": {
    "scrolled": true
   },
   "outputs": [
    {
     "name": "stdout",
     "output_type": "stream",
     "text": [
      "['1번째 뉴스입니다.', '인수위원장을 겸직하고 있는 안철수 대통령인수위원회 코로나비상대응특별위원장이 오늘(21일) 통의동 인수위원회에서 코로나비상대응특별위원회 제1차 회의를 열었습니다.\\n코로나19 비상대응특위 회의를 주재하고 있는 안철수 인수위원장 〈사진=연합뉴스〉먼저 안 위원장은 문재인 정부의 코로나19 방역 대응을 \\'무너진 정치 방역\\'으로 규정하고 \"과학 방역의 구체적 내용을 세우는 것이 우리 특위의 첫 번째 임무\"라고 강조했습니다.\\n이어 문재인 정부에서 시행했던 방역 정책들을 점검하고 무엇이 잘못됐는지 확인하는 일을 첫 과제로 꼽았습니다.', '2번째 뉴스입니다.', \"하루 사이, 38만명 넘는 확진자가 쏟아졌습니다.\\n전문가들은 코로나에 다시 걸리지 않는다는 이른바 '슈퍼 항체 보유자'는 없다고 봐야 한다며 완치자도 방역수칙을 철저히 지켜야 한다고 강조합니다.[천은미/이화여대 목동병원 호흡기내과 교수 : 기존에 델타 변이까지 감염됐던 분이면 굉장히 조심합니다.\\n오미크론은 감염이 될 수 있고.]특히 오미크론 변이의 하위 계통인 이른바 스텔스 오미크론 BA2변이의 등장도 재감염 사례를 악화시키는 요인일수 있습니다.\", '3번째 뉴스입니다.', '앵커]집에서 편하게 해먹을 수 있는 간편식을 만드는 업체들이 무더기로 적발됐습니다.\\n플라스틱 바구니 안엔 진공포장된 각종 고기가 가득 쌓여있습니다.\\n냉동보관 해야 할 고기를 냉장창고에 뒀다가 적발된 겁니다.[축산물가공업소 관계자 : 이게 원료육이어서…원료 냉동…]마트 안에 있는 정육점입니다.']\n"
     ]
    }
   ],
   "source": [
    "len(news_df.title)\n",
    "news_list=[]\n",
    "\n",
    "import os\n",
    "import sys\n",
    "import requests\n",
    "import json\n",
    "import urllib.request\n",
    "\n",
    "client_id = \"qj40wl5n0t\"\n",
    "client_secret = \"1xzXEYgwlsbv9RQxd1onUSByiyvtBDPFV9NEY1mv\"\n",
    "\n",
    "for i in range(1, len(news_df.title)+1):\n",
    "    headers = {\n",
    "    \"X-NCP-APIGW-API-KEY-ID\": client_id,\n",
    "    \"X-NCP-APIGW-API-KEY\": client_secret,\n",
    "    \"Content-Type\": \"application/json\"\n",
    "}\n",
    "    language = \"ko\" # Language of document (ko, ja )\n",
    "    model = \"news\" # Model used for summaries (general, news)\n",
    "    tone = \"2\" # Converts the tone of the summarized result. (0, 1, 2, 3)\n",
    "    summaryCount = \"3\" # This is the number of sentences for the summarized document.\n",
    "    url= \"https://naveropenapi.apigw.ntruss.com/text-summary/v1/summarize\" \n",
    "    title= \"\"\n",
    "    #print([i],\"번째 뉴스입니다.\")\n",
    "    content = news_df.text[i]\n",
    "    data = {\n",
    "        \"document\": {\n",
    "        \"title\": title,\n",
    "        \"content\" : content\n",
    "        },\n",
    "        \"option\": {\n",
    "        \"language\": language,\n",
    "        \"model\": model,\n",
    "        \"tone\": tone,\n",
    "        \"summaryCount\" : summaryCount\n",
    "        }\n",
    "    }\n",
    "    # print(json.dumps(data, indent=4, sort_keys=True))\n",
    "    response = requests.post(url, data=json.dumps(data), headers=headers)\n",
    "    rescode = response.status_code\n",
    "    if(rescode == 200):\n",
    "        r1=response.text  \n",
    "        # print(r1)\n",
    "\n",
    "    else:\n",
    "        print(\"Error : \" + response.text)\n",
    "        \n",
    "    r1 = json.loads(r1)\n",
    "    r1r1=r1[\"summary\"]\n",
    "    news_list.append('{}번째 뉴스입니다.'.format(i))\n",
    "    news_list.append(r1r1)\n",
    "    # print(r1r1)\n",
    "\n",
    "print(news_list)\n",
    "#type(news_list)\n"
   ]
  },
  {
   "cell_type": "code",
   "execution_count": 127,
   "id": "01e1f557",
   "metadata": {},
   "outputs": [
    {
     "data": {
      "text/plain": [
       "{'summary': '앵커]집에서 편하게 해먹을 수 있는 간편식을 만드는 업체들이 무더기로 적발됐습니다.\\n플라스틱 바구니 안엔 진공포장된 각종 고기가 가득 쌓여있습니다.\\n냉동보관 해야 할 고기를 냉장창고에 뒀다가 적발된 겁니다.[축산물가공업소 관계자 : 이게 원료육이어서…원료 냉동…]마트 안에 있는 정육점입니다.'}"
      ]
     },
     "execution_count": 127,
     "metadata": {},
     "output_type": "execute_result"
    }
   ],
   "source": [
    "r1"
   ]
  },
  {
   "cell_type": "code",
   "execution_count": 128,
   "id": "ce5c728a",
   "metadata": {},
   "outputs": [
    {
     "data": {
      "text/plain": [
       "['1번째 뉴스입니다.',\n",
       " '인수위원장을 겸직하고 있는 안철수 대통령인수위원회 코로나비상대응특별위원장이 오늘(21일) 통의동 인수위원회에서 코로나비상대응특별위원회 제1차 회의를 열었습니다.\\n코로나19 비상대응특위 회의를 주재하고 있는 안철수 인수위원장 〈사진=연합뉴스〉먼저 안 위원장은 문재인 정부의 코로나19 방역 대응을 \\'무너진 정치 방역\\'으로 규정하고 \"과학 방역의 구체적 내용을 세우는 것이 우리 특위의 첫 번째 임무\"라고 강조했습니다.\\n이어 문재인 정부에서 시행했던 방역 정책들을 점검하고 무엇이 잘못됐는지 확인하는 일을 첫 과제로 꼽았습니다.',\n",
       " '2번째 뉴스입니다.',\n",
       " \"하루 사이, 38만명 넘는 확진자가 쏟아졌습니다.\\n전문가들은 코로나에 다시 걸리지 않는다는 이른바 '슈퍼 항체 보유자'는 없다고 봐야 한다며 완치자도 방역수칙을 철저히 지켜야 한다고 강조합니다.[천은미/이화여대 목동병원 호흡기내과 교수 : 기존에 델타 변이까지 감염됐던 분이면 굉장히 조심합니다.\\n오미크론은 감염이 될 수 있고.]특히 오미크론 변이의 하위 계통인 이른바 스텔스 오미크론 BA2변이의 등장도 재감염 사례를 악화시키는 요인일수 있습니다.\",\n",
       " '3번째 뉴스입니다.',\n",
       " '앵커]집에서 편하게 해먹을 수 있는 간편식을 만드는 업체들이 무더기로 적발됐습니다.\\n플라스틱 바구니 안엔 진공포장된 각종 고기가 가득 쌓여있습니다.\\n냉동보관 해야 할 고기를 냉장창고에 뒀다가 적발된 겁니다.[축산물가공업소 관계자 : 이게 원료육이어서…원료 냉동…]마트 안에 있는 정육점입니다.']"
      ]
     },
     "execution_count": 128,
     "metadata": {},
     "output_type": "execute_result"
    }
   ],
   "source": [
    "news_list"
   ]
  },
  {
   "cell_type": "code",
   "execution_count": 129,
   "id": "a46bc93d",
   "metadata": {},
   "outputs": [
    {
     "data": {
      "text/plain": [
       "3"
      ]
     },
     "execution_count": 129,
     "metadata": {},
     "output_type": "execute_result"
    }
   ],
   "source": [
    "len(news_df.title)"
   ]
  },
  {
   "cell_type": "code",
   "execution_count": 130,
   "id": "4d5b8ea4",
   "metadata": {},
   "outputs": [
    {
     "data": {
      "text/plain": [
       "'안철수 \"코로나 방역과 소상공인 보상, 인수위 제1민생과제\"'"
      ]
     },
     "execution_count": 130,
     "metadata": {},
     "output_type": "execute_result"
    }
   ],
   "source": [
    "news_df.title[1]"
   ]
  },
  {
   "cell_type": "code",
   "execution_count": 131,
   "id": "cc9d639e",
   "metadata": {
    "scrolled": true
   },
   "outputs": [
    {
     "data": {
      "text/plain": [
       "'앵커]집에서 편하게 해먹을 수 있는 간편식을 만드는 업체들이 무더기로 적발됐습니다.\\n플라스틱 바구니 안엔 진공포장된 각종 고기가 가득 쌓여있습니다.\\n냉동보관 해야 할 고기를 냉장창고에 뒀다가 적발된 겁니다.[축산물가공업소 관계자 : 이게 원료육이어서…원료 냉동…]마트 안에 있는 정육점입니다.'"
      ]
     },
     "execution_count": 131,
     "metadata": {},
     "output_type": "execute_result"
    }
   ],
   "source": [
    "r1r1"
   ]
  },
  {
   "cell_type": "markdown",
   "id": "2105eee0",
   "metadata": {},
   "source": [
    "#### 구분한 뉴스를 음성에 넣으려했는데 안된다,, 더 연구해 보자"
   ]
  },
  {
   "cell_type": "code",
   "execution_count": 133,
   "id": "b790127c",
   "metadata": {
    "scrolled": true
   },
   "outputs": [
    {
     "ename": "TypeError",
     "evalue": "quote_from_bytes() expected bytes",
     "output_type": "error",
     "traceback": [
      "\u001b[1;31m---------------------------------------------------------------------------\u001b[0m",
      "\u001b[1;31mTypeError\u001b[0m                                 Traceback (most recent call last)",
      "\u001b[1;32mC:\\Users\\Public\\Documents\\ESTsoft\\CreatorTemp/ipykernel_19080/572378636.py\u001b[0m in \u001b[0;36m<module>\u001b[1;34m\u001b[0m\n\u001b[1;32m----> 1\u001b[1;33m \u001b[0mencText\u001b[0m \u001b[1;33m=\u001b[0m \u001b[0murllib\u001b[0m\u001b[1;33m.\u001b[0m\u001b[0mparse\u001b[0m\u001b[1;33m.\u001b[0m\u001b[0mquote\u001b[0m\u001b[1;33m(\u001b[0m\u001b[0mnews_list\u001b[0m\u001b[1;33m)\u001b[0m\u001b[1;33m\u001b[0m\u001b[1;33m\u001b[0m\u001b[0m\n\u001b[0m\u001b[0;32m      2\u001b[0m \u001b[0mdata\u001b[0m \u001b[1;33m=\u001b[0m \u001b[1;34m\"speaker=nara&volume=0&speed=0&pitch=0&format=mp3&text=\"\u001b[0m \u001b[1;33m+\u001b[0m \u001b[0mencText\u001b[0m\u001b[1;33m;\u001b[0m\u001b[1;33m\u001b[0m\u001b[1;33m\u001b[0m\u001b[0m\n\u001b[0;32m      3\u001b[0m \u001b[0murl\u001b[0m \u001b[1;33m=\u001b[0m \u001b[1;34m\"https://naveropenapi.apigw.ntruss.com/tts-premium/v1/tts\"\u001b[0m\u001b[1;33m\u001b[0m\u001b[1;33m\u001b[0m\u001b[0m\n\u001b[0;32m      4\u001b[0m \u001b[0mrequest\u001b[0m \u001b[1;33m=\u001b[0m \u001b[0murllib\u001b[0m\u001b[1;33m.\u001b[0m\u001b[0mrequest\u001b[0m\u001b[1;33m.\u001b[0m\u001b[0mRequest\u001b[0m\u001b[1;33m(\u001b[0m\u001b[0murl\u001b[0m\u001b[1;33m)\u001b[0m\u001b[1;33m\u001b[0m\u001b[1;33m\u001b[0m\u001b[0m\n\u001b[0;32m      5\u001b[0m \u001b[0mrequest\u001b[0m\u001b[1;33m.\u001b[0m\u001b[0madd_header\u001b[0m\u001b[1;33m(\u001b[0m\u001b[1;34m\"X-NCP-APIGW-API-KEY-ID\"\u001b[0m\u001b[1;33m,\u001b[0m\u001b[0mclient_id\u001b[0m\u001b[1;33m)\u001b[0m\u001b[1;33m\u001b[0m\u001b[1;33m\u001b[0m\u001b[0m\n",
      "\u001b[1;32m~\\anaconda3\\lib\\urllib\\parse.py\u001b[0m in \u001b[0;36mquote\u001b[1;34m(string, safe, encoding, errors)\u001b[0m\n\u001b[0;32m    869\u001b[0m         \u001b[1;32mif\u001b[0m \u001b[0merrors\u001b[0m \u001b[1;32mis\u001b[0m \u001b[1;32mnot\u001b[0m \u001b[1;32mNone\u001b[0m\u001b[1;33m:\u001b[0m\u001b[1;33m\u001b[0m\u001b[1;33m\u001b[0m\u001b[0m\n\u001b[0;32m    870\u001b[0m             \u001b[1;32mraise\u001b[0m \u001b[0mTypeError\u001b[0m\u001b[1;33m(\u001b[0m\u001b[1;34m\"quote() doesn't support 'errors' for bytes\"\u001b[0m\u001b[1;33m)\u001b[0m\u001b[1;33m\u001b[0m\u001b[1;33m\u001b[0m\u001b[0m\n\u001b[1;32m--> 871\u001b[1;33m     \u001b[1;32mreturn\u001b[0m \u001b[0mquote_from_bytes\u001b[0m\u001b[1;33m(\u001b[0m\u001b[0mstring\u001b[0m\u001b[1;33m,\u001b[0m \u001b[0msafe\u001b[0m\u001b[1;33m)\u001b[0m\u001b[1;33m\u001b[0m\u001b[1;33m\u001b[0m\u001b[0m\n\u001b[0m\u001b[0;32m    872\u001b[0m \u001b[1;33m\u001b[0m\u001b[0m\n\u001b[0;32m    873\u001b[0m \u001b[1;32mdef\u001b[0m \u001b[0mquote_plus\u001b[0m\u001b[1;33m(\u001b[0m\u001b[0mstring\u001b[0m\u001b[1;33m,\u001b[0m \u001b[0msafe\u001b[0m\u001b[1;33m=\u001b[0m\u001b[1;34m''\u001b[0m\u001b[1;33m,\u001b[0m \u001b[0mencoding\u001b[0m\u001b[1;33m=\u001b[0m\u001b[1;32mNone\u001b[0m\u001b[1;33m,\u001b[0m \u001b[0merrors\u001b[0m\u001b[1;33m=\u001b[0m\u001b[1;32mNone\u001b[0m\u001b[1;33m)\u001b[0m\u001b[1;33m:\u001b[0m\u001b[1;33m\u001b[0m\u001b[1;33m\u001b[0m\u001b[0m\n",
      "\u001b[1;32m~\\anaconda3\\lib\\urllib\\parse.py\u001b[0m in \u001b[0;36mquote_from_bytes\u001b[1;34m(bs, safe)\u001b[0m\n\u001b[0;32m    894\u001b[0m     \"\"\"\n\u001b[0;32m    895\u001b[0m     \u001b[1;32mif\u001b[0m \u001b[1;32mnot\u001b[0m \u001b[0misinstance\u001b[0m\u001b[1;33m(\u001b[0m\u001b[0mbs\u001b[0m\u001b[1;33m,\u001b[0m \u001b[1;33m(\u001b[0m\u001b[0mbytes\u001b[0m\u001b[1;33m,\u001b[0m \u001b[0mbytearray\u001b[0m\u001b[1;33m)\u001b[0m\u001b[1;33m)\u001b[0m\u001b[1;33m:\u001b[0m\u001b[1;33m\u001b[0m\u001b[1;33m\u001b[0m\u001b[0m\n\u001b[1;32m--> 896\u001b[1;33m         \u001b[1;32mraise\u001b[0m \u001b[0mTypeError\u001b[0m\u001b[1;33m(\u001b[0m\u001b[1;34m\"quote_from_bytes() expected bytes\"\u001b[0m\u001b[1;33m)\u001b[0m\u001b[1;33m\u001b[0m\u001b[1;33m\u001b[0m\u001b[0m\n\u001b[0m\u001b[0;32m    897\u001b[0m     \u001b[1;32mif\u001b[0m \u001b[1;32mnot\u001b[0m \u001b[0mbs\u001b[0m\u001b[1;33m:\u001b[0m\u001b[1;33m\u001b[0m\u001b[1;33m\u001b[0m\u001b[0m\n\u001b[0;32m    898\u001b[0m         \u001b[1;32mreturn\u001b[0m \u001b[1;34m''\u001b[0m\u001b[1;33m\u001b[0m\u001b[1;33m\u001b[0m\u001b[0m\n",
      "\u001b[1;31mTypeError\u001b[0m: quote_from_bytes() expected bytes"
     ]
    }
   ],
   "source": [
    "    encText = urllib.parse.quote(news_list)\n",
    "    data = \"speaker=nara&volume=0&speed=0&pitch=0&format=mp3&text=\" + encText;\n",
    "    url = \"https://naveropenapi.apigw.ntruss.com/tts-premium/v1/tts\"\n",
    "    request = urllib.request.Request(url)\n",
    "    request.add_header(\"X-NCP-APIGW-API-KEY-ID\",client_id)\n",
    "    request.add_header(\"X-NCP-APIGW-API-KEY\",client_secret)\n",
    "    response = urllib.request.urlopen(request, data=data.encode('utf-8'))\n",
    "    rescode = response.getcode()\n",
    "    if(rescode==200):\n",
    "        print(\"TTS mp3 저장\")\n",
    "        response_body = response.read()\n",
    "        with open('1117.mp3', 'wb') as f:\n",
    "            f.write(response_body)\n",
    "    else:\n",
    "        print(\"Error Code:\" + rescode)"
   ]
  },
  {
   "cell_type": "markdown",
   "id": "270baf0e",
   "metadata": {},
   "source": [
    "#### 딕셔너리 즉 news_list[1] 하나를 넣으면 되는데 한번에는 안되네?"
   ]
  },
  {
   "cell_type": "code",
   "execution_count": 87,
   "id": "33314e5c",
   "metadata": {},
   "outputs": [
    {
     "name": "stdout",
     "output_type": "stream",
     "text": [
      "TTS mp3 저장\n"
     ]
    }
   ],
   "source": [
    "import os\n",
    "import sys\n",
    "import urllib.request\n",
    "client_id = \"qj40wl5n0t\"\n",
    "client_secret = \"1xzXEYgwlsbv9RQxd1onUSByiyvtBDPFV9NEY1mv\"\n",
    "encText = urllib.parse.quote(news_list[1])\n",
    "data = \"speaker=njinho&volume=0&speed=0&pitch=0&format=mp3&text=\" + encText;\n",
    "url = \"https://naveropenapi.apigw.ntruss.com/tts-premium/v1/tts\"\n",
    "request = urllib.request.Request(url)\n",
    "request.add_header(\"X-NCP-APIGW-API-KEY-ID\",client_id)\n",
    "request.add_header(\"X-NCP-APIGW-API-KEY\",client_secret)\n",
    "response = urllib.request.urlopen(request, data=data.encode('utf-8'))\n",
    "rescode = response.getcode()\n",
    "if(rescode==200):\n",
    "    print(\"TTS mp3 저장\")\n",
    "    response_body = response.read()\n",
    "    with open('1115.mp3', 'wb') as f:\n",
    "        f.write(response_body)\n",
    "else:\n",
    "    print(\"Error Code:\" + rescode)"
   ]
  },
  {
   "cell_type": "markdown",
   "id": "8c0d457a",
   "metadata": {},
   "source": [
    "## 그럼 음성 파일을 각각 만들어 보자"
   ]
  },
  {
   "cell_type": "code",
   "execution_count": 121,
   "id": "8dfd3dc9",
   "metadata": {
    "scrolled": true
   },
   "outputs": [
    {
     "name": "stdout",
     "output_type": "stream",
     "text": [
      "TTS mp3 저장\n",
      "TTS mp3 저장\n",
      "TTS mp3 저장\n"
     ]
    }
   ],
   "source": [
    "len(news_df.title)\n",
    "# news_list = []\n",
    "\n",
    "import os\n",
    "import sys\n",
    "import requests\n",
    "import json\n",
    "import urllib.request\n",
    "\n",
    "client_id = \"qj40wl5n0t\"\n",
    "client_secret = \"1xzXEYgwlsbv9RQxd1onUSByiyvtBDPFV9NEY1mv\"\n",
    "\n",
    "for i in range(len(news_df.title)):\n",
    "    headers = {\n",
    "    \"X-NCP-APIGW-API-KEY-ID\": client_id,\n",
    "    \"X-NCP-APIGW-API-KEY\": client_secret,\n",
    "    \"Content-Type\": \"application/json\"\n",
    "}\n",
    "    language = \"ko\" # Language of document (ko, ja )\n",
    "    model = \"news\" # Model used for summaries (general, news)\n",
    "    tone = \"2\" # Converts the tone of the summarized result. (0, 1, 2, 3)\n",
    "    summaryCount = \"3\" # This is the number of sentences for the summarized document.\n",
    "    url= \"https://naveropenapi.apigw.ntruss.com/text-summary/v1/summarize\" \n",
    "    title= \"\"\n",
    "    content = news_df.text[i+1]\n",
    "    data = {\n",
    "        \"document\": {\n",
    "        \"title\": title,\n",
    "        \"content\" : content\n",
    "        },\n",
    "        \"option\": {\n",
    "        \"language\": language,\n",
    "        \"model\": model,\n",
    "        \"tone\": tone,\n",
    "        \"summaryCount\" : summaryCount\n",
    "        }\n",
    "    }\n",
    "    # print(json.dumps(data, indent=4, sort_keys=True))\n",
    "    response = requests.post(url, data=json.dumps(data), headers=headers)\n",
    "    rescode = response.status_code\n",
    "    if(rescode == 200):\n",
    "        r1=response.text  \n",
    "        # print(r1)\n",
    "\n",
    "    else:\n",
    "        print(\"Error : \" + response.text)\n",
    "\n",
    "    r1 = json.loads(r1)\n",
    "    r1r1= r1['summary']\n",
    "    r1r1 = '{}번째 뉴스입니다.{}'.format(i+1, r1r1)\n",
    "    \n",
    "\n",
    "#print(news_list)\n",
    "#type(news_list)\n",
    "\n",
    "    ## 읽어줘요\n",
    "\n",
    "    encText = urllib.parse.quote(r1r1)\n",
    "    data = \"speaker=njihun&volume=0&speed=0&pitch=0&format=mp3&text=\" + encText;\n",
    "    url = \"https://naveropenapi.apigw.ntruss.com/tts-premium/v1/tts\"\n",
    "    request = urllib.request.Request(url)\n",
    "    request.add_header(\"X-NCP-APIGW-API-KEY-ID\",client_id)\n",
    "    request.add_header(\"X-NCP-APIGW-API-KEY\",client_secret)\n",
    "    response = urllib.request.urlopen(request, data=data.encode('utf-8'))\n",
    "    rescode = response.getcode()\n",
    "    if(rescode==200):\n",
    "        print(\"TTS mp3 저장\")\n",
    "        response_body = response.read()\n",
    "        fn = 'voice{}.mp3'.format(i)\n",
    "        with open(fn, 'wb') as f:\n",
    "            f.write(response_body)\n",
    "    else:\n",
    "        print(\"Error Code:\" + rescode)"
   ]
  },
  {
   "cell_type": "code",
   "execution_count": null,
   "id": "85eba194",
   "metadata": {},
   "outputs": [],
   "source": []
  },
  {
   "cell_type": "code",
   "execution_count": null,
   "id": "93729240",
   "metadata": {},
   "outputs": [],
   "source": []
  }
 ],
 "metadata": {
  "kernelspec": {
   "display_name": "Python 3 (ipykernel)",
   "language": "python",
   "name": "python3"
  },
  "language_info": {
   "codemirror_mode": {
    "name": "ipython",
    "version": 3
   },
   "file_extension": ".py",
   "mimetype": "text/x-python",
   "name": "python",
   "nbconvert_exporter": "python",
   "pygments_lexer": "ipython3",
   "version": "3.9.7"
  }
 },
 "nbformat": 4,
 "nbformat_minor": 5
}
