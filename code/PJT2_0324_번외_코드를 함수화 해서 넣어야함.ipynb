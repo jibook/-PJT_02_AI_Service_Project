{
 "cells": [
  {
   "cell_type": "code",
   "execution_count": 1,
   "metadata": {
    "id": "AV2ndEPorl-i"
   },
   "outputs": [],
   "source": [
    "import pandas as pd"
   ]
  },
  {
   "cell_type": "code",
   "execution_count": null,
   "metadata": {
    "id": "M7RHhyXUrqZj"
   },
   "outputs": [],
   "source": [
    "query = input()\n",
    ".. = input()\n",
    ".....\n",
    ".....\n",
    ".....\n",
    "news_df = calc(a)\n",
    "\n",
    "print (news_df)"
   ]
  },
  {
   "cell_type": "code",
   "execution_count": null,
   "metadata": {
    "id": "ubZBGgCPsZn7"
   },
   "outputs": [],
   "source": [
    "def process_a(query, news_num):\n",
    "  a = pd.DataFrame(....)\n",
    "  .....\n",
    "  .....\n",
    "  .....\n",
    "  news_df = calc(a)\n",
    "\n",
    "  return news_df"
   ]
  },
  {
   "cell_type": "code",
   "execution_count": null,
   "metadata": {
    "id": "iG-wpHPEsmIw"
   },
   "outputs": [],
   "source": [
    "news_df = process_a(query, news_num)"
   ]
  },
  {
   "cell_type": "code",
   "execution_count": null,
   "metadata": {
    "id": "klXijbQGszkJ"
   },
   "outputs": [],
   "source": [
    "@app.post()\n",
    "def ...():\n",
    "  news_df = process_a(query, news_num)\n",
    "  result = process_b(news_df)\n"
   ]
  }
 ],
 "metadata": {
  "colab": {
   "name": "Untitled123.ipynb",
   "provenance": []
  },
  "kernelspec": {
   "display_name": "Python 3 (ipykernel)",
   "language": "python",
   "name": "python3"
  },
  "language_info": {
   "codemirror_mode": {
    "name": "ipython",
    "version": 3
   },
   "file_extension": ".py",
   "mimetype": "text/x-python",
   "name": "python",
   "nbconvert_exporter": "python",
   "pygments_lexer": "ipython3",
   "version": "3.9.7"
  }
 },
 "nbformat": 4,
 "nbformat_minor": 1
}
