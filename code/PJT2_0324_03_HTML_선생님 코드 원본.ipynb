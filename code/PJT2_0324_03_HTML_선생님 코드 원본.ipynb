{
 "cells": [
  {
   "cell_type": "code",
   "execution_count": 1,
   "metadata": {
    "colab": {
     "base_uri": "https://localhost:8080/"
    },
    "executionInfo": {
     "elapsed": 11882,
     "status": "ok",
     "timestamp": 1648095399529,
     "user": {
      "displayName": "post",
      "photoUrl": "https://lh3.googleusercontent.com/a/default-user=s64",
      "userId": "12690345905451862867"
     },
     "user_tz": -540
    },
    "id": "WbVn8PBTvvgI",
    "outputId": "c34b80f4-aa24-4db6-effe-b1634db11eb1"
   },
   "outputs": [
    {
     "name": "stdout",
     "output_type": "stream",
     "text": [
      "Collecting fastapi\n",
      "  Downloading fastapi-0.75.0-py3-none-any.whl (54 kB)\n",
      "\u001b[K     |████████████████████████████████| 54 kB 373 kB/s \n",
      "\u001b[?25hRequirement already satisfied: nest-asyncio in /usr/local/lib/python3.7/dist-packages (1.5.4)\n",
      "Collecting pyngrok\n",
      "  Downloading pyngrok-5.1.0.tar.gz (745 kB)\n",
      "\u001b[K     |████████████████████████████████| 745 kB 10.5 MB/s \n",
      "\u001b[?25hCollecting uvicorn\n",
      "  Downloading uvicorn-0.17.6-py3-none-any.whl (53 kB)\n",
      "\u001b[K     |████████████████████████████████| 53 kB 1.9 MB/s \n",
      "\u001b[?25hCollecting aiofiles\n",
      "  Downloading aiofiles-0.8.0-py3-none-any.whl (13 kB)\n",
      "Collecting python-multipart\n",
      "  Downloading python-multipart-0.0.5.tar.gz (32 kB)\n",
      "Collecting starlette==0.17.1\n",
      "  Downloading starlette-0.17.1-py3-none-any.whl (58 kB)\n",
      "\u001b[K     |████████████████████████████████| 58 kB 4.7 MB/s \n",
      "\u001b[?25hCollecting pydantic!=1.7,!=1.7.1,!=1.7.2,!=1.7.3,!=1.8,!=1.8.1,<2.0.0,>=1.6.2\n",
      "  Downloading pydantic-1.9.0-cp37-cp37m-manylinux_2_17_x86_64.manylinux2014_x86_64.whl (10.9 MB)\n",
      "\u001b[K     |████████████████████████████████| 10.9 MB 43.0 MB/s \n",
      "\u001b[?25hRequirement already satisfied: typing-extensions in /usr/local/lib/python3.7/dist-packages (from starlette==0.17.1->fastapi) (3.10.0.2)\n",
      "Collecting anyio<4,>=3.0.0\n",
      "  Downloading anyio-3.5.0-py3-none-any.whl (79 kB)\n",
      "\u001b[K     |████████████████████████████████| 79 kB 6.5 MB/s \n",
      "\u001b[?25hCollecting sniffio>=1.1\n",
      "  Downloading sniffio-1.2.0-py3-none-any.whl (10 kB)\n",
      "Requirement already satisfied: idna>=2.8 in /usr/local/lib/python3.7/dist-packages (from anyio<4,>=3.0.0->starlette==0.17.1->fastapi) (2.10)\n",
      "Requirement already satisfied: PyYAML in /usr/local/lib/python3.7/dist-packages (from pyngrok) (3.13)\n",
      "Requirement already satisfied: click>=7.0 in /usr/local/lib/python3.7/dist-packages (from uvicorn) (7.1.2)\n",
      "Collecting h11>=0.8\n",
      "  Downloading h11-0.13.0-py3-none-any.whl (58 kB)\n",
      "\u001b[K     |████████████████████████████████| 58 kB 4.1 MB/s \n",
      "\u001b[?25hCollecting asgiref>=3.4.0\n",
      "  Downloading asgiref-3.5.0-py3-none-any.whl (22 kB)\n",
      "Requirement already satisfied: six>=1.4.0 in /usr/local/lib/python3.7/dist-packages (from python-multipart) (1.15.0)\n",
      "Building wheels for collected packages: pyngrok, python-multipart\n",
      "  Building wheel for pyngrok (setup.py) ... \u001b[?25l\u001b[?25hdone\n",
      "  Created wheel for pyngrok: filename=pyngrok-5.1.0-py3-none-any.whl size=19007 sha256=2934f098e3024240629f380770595a861fe4302c3ab7025156ffca8f3be8f715\n",
      "  Stored in directory: /root/.cache/pip/wheels/bf/e6/af/ccf6598ecefecd44104069371795cb9b3afbcd16987f6ccfb3\n",
      "  Building wheel for python-multipart (setup.py) ... \u001b[?25l\u001b[?25hdone\n",
      "  Created wheel for python-multipart: filename=python_multipart-0.0.5-py3-none-any.whl size=31678 sha256=dcfa50b7148eb55d466d7f9d1e8867817d3f2a7d1f205bb9becda336a02cd146\n",
      "  Stored in directory: /root/.cache/pip/wheels/2c/41/7c/bfd1c180534ffdcc0972f78c5758f89881602175d48a8bcd2c\n",
      "Successfully built pyngrok python-multipart\n",
      "Installing collected packages: sniffio, anyio, starlette, pydantic, h11, asgiref, uvicorn, python-multipart, pyngrok, fastapi, aiofiles\n",
      "Successfully installed aiofiles-0.8.0 anyio-3.5.0 asgiref-3.5.0 fastapi-0.75.0 h11-0.13.0 pydantic-1.9.0 pyngrok-5.1.0 python-multipart-0.0.5 sniffio-1.2.0 starlette-0.17.1 uvicorn-0.17.6\n"
     ]
    }
   ],
   "source": [
    "!pip install fastapi nest-asyncio pyngrok uvicorn aiofiles python-multipart"
   ]
  },
  {
   "cell_type": "code",
   "execution_count": 2,
   "metadata": {
    "executionInfo": {
     "elapsed": 260,
     "status": "ok",
     "timestamp": 1648098288805,
     "user": {
      "displayName": "post",
      "photoUrl": "https://lh3.googleusercontent.com/a/default-user=s64",
      "userId": "12690345905451862867"
     },
     "user_tz": -540
    },
    "id": "TI3U-MKyT_Il",
    "scrolled": true
   },
   "outputs": [
    {
     "name": "stderr",
     "output_type": "stream",
     "text": [
      "하위 디렉터리 또는 파일 templates이(가) 이미 있습니다.\n"
     ]
    }
   ],
   "source": [
    "!mkdir templates"
   ]
  },
  {
   "cell_type": "code",
   "execution_count": 1,
   "metadata": {
    "executionInfo": {
     "elapsed": 921,
     "status": "ok",
     "timestamp": 1648095405923,
     "user": {
      "displayName": "post",
      "photoUrl": "https://lh3.googleusercontent.com/a/default-user=s64",
      "userId": "12690345905451862867"
     },
     "user_tz": -540
    },
    "id": "KD6Kg9xqvS27"
   },
   "outputs": [],
   "source": [
    "from fastapi import FastAPI, Request, Form\n",
    "from fastapi.responses import HTMLResponse\n",
    "from fastapi.staticfiles import StaticFiles\n",
    "from fastapi.templating import Jinja2Templates\n",
    "import nest_asyncio\n",
    "from pyngrok import ngrok\n",
    "\n",
    "import uvicorn"
   ]
  },
  {
   "cell_type": "code",
   "execution_count": 2,
   "metadata": {
    "colab": {
     "base_uri": "https://localhost:8080/"
    },
    "executionInfo": {
     "elapsed": 254,
     "status": "ok",
     "timestamp": 1648098723013,
     "user": {
      "displayName": "post",
      "photoUrl": "https://lh3.googleusercontent.com/a/default-user=s64",
      "userId": "12690345905451862867"
     },
     "user_tz": -540
    },
    "id": "Mr4-CzWHvuLY",
    "outputId": "d00ba0b7-312c-4c3a-c137-e858550f495b"
   },
   "outputs": [
    {
     "name": "stdout",
     "output_type": "stream",
     "text": [
      "Overwriting templates/input2.html\n"
     ]
    }
   ],
   "source": [
    "%%writefile templates/input2.html\n",
    "<!DOCTYPE html>\n",
    "<html>\n",
    "<body>\n",
    "\n",
    "<h2>HTML Forms</h2>\n",
    "\n",
    "<form action=\"/topic\" method = 'post'>\n",
    "  <label for=\"fname\">First name:</label><br>\n",
    "  <input type=\"text\" id=\"fname\" name=\"fname\" value=\"John\"><br>\n",
    "  <label for=\"lname\">Last name:</label><br>\n",
    "  <input type=\"text\" id=\"lname\" name=\"lname\" value=\"Doe\"><br><br>\n",
    "  <input type=\"submit\" value=\"Submit\">\n",
    "</form> \n",
    "\n",
    "<p>If you click the \"Submit\" button, the form-data will be sent to a page called \"/action_page.php\".</p>\n",
    "\n",
    "</body>\n",
    "</html>\n"
   ]
  },
  {
   "cell_type": "code",
   "execution_count": 3,
   "metadata": {
    "colab": {
     "base_uri": "https://localhost:8080/"
    },
    "executionInfo": {
     "elapsed": 304,
     "status": "ok",
     "timestamp": 1648098706900,
     "user": {
      "displayName": "post",
      "photoUrl": "https://lh3.googleusercontent.com/a/default-user=s64",
      "userId": "12690345905451862867"
     },
     "user_tz": -540
    },
    "id": "60XAOgHBzavT",
    "outputId": "b0636979-6433-474a-f590-be6aba0bace3"
   },
   "outputs": [
    {
     "name": "stdout",
     "output_type": "stream",
     "text": [
      "Overwriting templates/result2.html\n"
     ]
    }
   ],
   "source": [
    "%%writefile templates/result2.html\n",
    "<html>\n",
    "<head>\n",
    "<title>Topics</title>\n",
    "</head>\n",
    "<body>\n",
    "    <h1>Userinfo: {{ lname }} {{ fname }}</h1>\n",
    "</body>\n",
    "</html>"
   ]
  },
  {
   "cell_type": "code",
   "execution_count": 4,
   "metadata": {
    "executionInfo": {
     "elapsed": 279,
     "status": "ok",
     "timestamp": 1648098728385,
     "user": {
      "displayName": "post",
      "photoUrl": "https://lh3.googleusercontent.com/a/default-user=s64",
      "userId": "12690345905451862867"
     },
     "user_tz": -540
    },
    "id": "qtiaTV3DvuTB"
   },
   "outputs": [],
   "source": [
    "app=FastAPI()\n",
    "templates = Jinja2Templates(directory=\"templates\")\n",
    "\n",
    "@app.get('/', response_class=HTMLResponse)\n",
    "async def read_topic(request: Request):\n",
    "  return templates.TemplateResponse(\"input2.html\", {\"request\": request})\n",
    "\n",
    "@app.post('/topic', response_class=HTMLResponse)\n",
    "async def get_topic(request: Request, fname: str = Form(...), lname: str = Form(...)):\n",
    "  print (fname)\n",
    "  print (lname)\n",
    "\n",
    "  return templates.TemplateResponse(\"result2.html\", {\"request\": request, 'fname': fname, 'lname':lname})\n"
   ]
  },
  {
   "cell_type": "code",
   "execution_count": 5,
   "metadata": {
    "colab": {
     "base_uri": "https://localhost:8080/"
    },
    "executionInfo": {
     "elapsed": 1152,
     "status": "ok",
     "timestamp": 1648098753073,
     "user": {
      "displayName": "post",
      "photoUrl": "https://lh3.googleusercontent.com/a/default-user=s64",
      "userId": "12690345905451862867"
     },
     "user_tz": -540
    },
    "id": "Xai-ntaMxtYP",
    "outputId": "838d45ce-9fd4-47c5-cae3-324f673f9800"
   },
   "outputs": [
    {
     "name": "stdout",
     "output_type": "stream",
     "text": [
      "Authtoken saved to configuration file: C:\\Users\\jhjh3/.ngrok2/ngrok.yml\n"
     ]
    }
   ],
   "source": [
    "!ngrok authtoken 26P5NSFkUtnURKy9pPsw14XpSaq_4PoTwUvNPG3XmHY3oY3VP"
   ]
  },
  {
   "cell_type": "code",
   "execution_count": 6,
   "metadata": {
    "colab": {
     "base_uri": "https://localhost:8080/"
    },
    "id": "rNsYG9x9vuV-",
    "outputId": "e97fc083-c1b2-4063-a0c6-ad147e803ab0"
   },
   "outputs": [
    {
     "name": "stderr",
     "output_type": "stream",
     "text": [
      "t=2022-03-24T15:02:32+0900 lvl=warn msg=\"can't bind default web address, trying alternatives\" obj=web addr=127.0.0.1:4040\n",
      "t=2022-03-24T15:02:33+0900 lvl=eror msg=\"failed to auth\" obj=tunnels.session err=\"Your account is limited to 1 simultaneous ngrok client session.\\nActive ngrok client sessions in region 'us':\\n  - ts_26osN4ARtu6lEJm3NW2fSrCywoP (211.44.6.54)\\r\\n\\r\\nERR_NGROK_108\\r\\n\"\n",
      "t=2022-03-24T15:02:33+0900 lvl=eror msg=\"failed to reconnect session\" obj=csess id=9088d1dd97b6 err=\"Your account is limited to 1 simultaneous ngrok client session.\\nActive ngrok client sessions in region 'us':\\n  - ts_26osN4ARtu6lEJm3NW2fSrCywoP (211.44.6.54)\\r\\n\\r\\nERR_NGROK_108\\r\\n\"\n",
      "t=2022-03-24T15:02:33+0900 lvl=eror msg=\"session closing\" obj=tunnels.session err=\"Your account is limited to 1 simultaneous ngrok client session.\\nActive ngrok client sessions in region 'us':\\n  - ts_26osN4ARtu6lEJm3NW2fSrCywoP (211.44.6.54)\\r\\n\\r\\nERR_NGROK_108\\r\\n\"\n",
      "t=2022-03-24T15:02:33+0900 lvl=eror msg=\"terminating with error\" obj=app err=\"Your account is limited to 1 simultaneous ngrok client session.\\nActive ngrok client sessions in region 'us':\\n  - ts_26osN4ARtu6lEJm3NW2fSrCywoP (211.44.6.54)\\r\\n\\r\\nERR_NGROK_108\\r\\n\"\n",
      "t=2022-03-24T15:02:33+0900 lvl=warn msg=\"failed to check for update\" obj=updater err=\"Post \\\"https://update.equinox.io/check\\\": context canceled\"\n"
     ]
    },
    {
     "ename": "PyngrokNgrokError",
     "evalue": "The ngrok process errored on start: Your account is limited to 1 simultaneous ngrok client session.\\nActive ngrok client sessions in region 'us':\\n  - ts_26osN4ARtu6lEJm3NW2fSrCywoP (211.44.6.54)\\r\\n\\r\\nERR_NGROK_108\\r\\n.",
     "output_type": "error",
     "traceback": [
      "\u001b[1;31m---------------------------------------------------------------------------\u001b[0m",
      "\u001b[1;31mPyngrokNgrokError\u001b[0m                         Traceback (most recent call last)",
      "\u001b[1;32mC:\\Users\\Public\\Documents\\ESTsoft\\CreatorTemp/ipykernel_13556/3329950451.py\u001b[0m in \u001b[0;36m<module>\u001b[1;34m\u001b[0m\n\u001b[1;32m----> 1\u001b[1;33m \u001b[0mngrok_tunnel\u001b[0m \u001b[1;33m=\u001b[0m \u001b[0mngrok\u001b[0m\u001b[1;33m.\u001b[0m\u001b[0mconnect\u001b[0m\u001b[1;33m(\u001b[0m\u001b[1;36m8000\u001b[0m\u001b[1;33m)\u001b[0m\u001b[1;33m\u001b[0m\u001b[1;33m\u001b[0m\u001b[0m\n\u001b[0m\u001b[0;32m      2\u001b[0m \u001b[0mprint\u001b[0m \u001b[1;33m(\u001b[0m\u001b[1;34m'Public URL:'\u001b[0m\u001b[1;33m,\u001b[0m \u001b[0mngrok_tunnel\u001b[0m\u001b[1;33m.\u001b[0m\u001b[0mpublic_url\u001b[0m\u001b[1;33m)\u001b[0m\u001b[1;33m\u001b[0m\u001b[1;33m\u001b[0m\u001b[0m\n\u001b[0;32m      3\u001b[0m \u001b[0mnest_asyncio\u001b[0m\u001b[1;33m.\u001b[0m\u001b[0mapply\u001b[0m\u001b[1;33m(\u001b[0m\u001b[1;33m)\u001b[0m\u001b[1;33m\u001b[0m\u001b[1;33m\u001b[0m\u001b[0m\n\u001b[0;32m      4\u001b[0m \u001b[0muvicorn\u001b[0m\u001b[1;33m.\u001b[0m\u001b[0mrun\u001b[0m\u001b[1;33m(\u001b[0m\u001b[0mapp\u001b[0m\u001b[1;33m,\u001b[0m \u001b[0mhost\u001b[0m\u001b[1;33m=\u001b[0m\u001b[1;34m'0.0.0.0'\u001b[0m\u001b[1;33m,\u001b[0m \u001b[0mport\u001b[0m\u001b[1;33m=\u001b[0m\u001b[1;36m8000\u001b[0m\u001b[1;33m)\u001b[0m\u001b[1;33m\u001b[0m\u001b[1;33m\u001b[0m\u001b[0m\n",
      "\u001b[1;32m~\\anaconda3\\lib\\site-packages\\pyngrok\\ngrok.py\u001b[0m in \u001b[0;36mconnect\u001b[1;34m(addr, proto, name, pyngrok_config, **options)\u001b[0m\n\u001b[0;32m    249\u001b[0m     \u001b[0moptions\u001b[0m\u001b[1;33m.\u001b[0m\u001b[0mupdate\u001b[0m\u001b[1;33m(\u001b[0m\u001b[0mconfig\u001b[0m\u001b[1;33m)\u001b[0m\u001b[1;33m\u001b[0m\u001b[1;33m\u001b[0m\u001b[0m\n\u001b[0;32m    250\u001b[0m \u001b[1;33m\u001b[0m\u001b[0m\n\u001b[1;32m--> 251\u001b[1;33m     \u001b[0mapi_url\u001b[0m \u001b[1;33m=\u001b[0m \u001b[0mget_ngrok_process\u001b[0m\u001b[1;33m(\u001b[0m\u001b[0mpyngrok_config\u001b[0m\u001b[1;33m)\u001b[0m\u001b[1;33m.\u001b[0m\u001b[0mapi_url\u001b[0m\u001b[1;33m\u001b[0m\u001b[1;33m\u001b[0m\u001b[0m\n\u001b[0m\u001b[0;32m    252\u001b[0m \u001b[1;33m\u001b[0m\u001b[0m\n\u001b[0;32m    253\u001b[0m     \u001b[0mlogger\u001b[0m\u001b[1;33m.\u001b[0m\u001b[0mdebug\u001b[0m\u001b[1;33m(\u001b[0m\u001b[1;34m\"Creating tunnel with options: {}\"\u001b[0m\u001b[1;33m.\u001b[0m\u001b[0mformat\u001b[0m\u001b[1;33m(\u001b[0m\u001b[0moptions\u001b[0m\u001b[1;33m)\u001b[0m\u001b[1;33m)\u001b[0m\u001b[1;33m\u001b[0m\u001b[1;33m\u001b[0m\u001b[0m\n",
      "\u001b[1;32m~\\anaconda3\\lib\\site-packages\\pyngrok\\ngrok.py\u001b[0m in \u001b[0;36mget_ngrok_process\u001b[1;34m(pyngrok_config)\u001b[0m\n\u001b[0;32m    160\u001b[0m     \u001b[0minstall_ngrok\u001b[0m\u001b[1;33m(\u001b[0m\u001b[0mpyngrok_config\u001b[0m\u001b[1;33m)\u001b[0m\u001b[1;33m\u001b[0m\u001b[1;33m\u001b[0m\u001b[0m\n\u001b[0;32m    161\u001b[0m \u001b[1;33m\u001b[0m\u001b[0m\n\u001b[1;32m--> 162\u001b[1;33m     \u001b[1;32mreturn\u001b[0m \u001b[0mprocess\u001b[0m\u001b[1;33m.\u001b[0m\u001b[0mget_process\u001b[0m\u001b[1;33m(\u001b[0m\u001b[0mpyngrok_config\u001b[0m\u001b[1;33m)\u001b[0m\u001b[1;33m\u001b[0m\u001b[1;33m\u001b[0m\u001b[0m\n\u001b[0m\u001b[0;32m    163\u001b[0m \u001b[1;33m\u001b[0m\u001b[0m\n\u001b[0;32m    164\u001b[0m \u001b[1;33m\u001b[0m\u001b[0m\n",
      "\u001b[1;32m~\\anaconda3\\lib\\site-packages\\pyngrok\\process.py\u001b[0m in \u001b[0;36mget_process\u001b[1;34m(pyngrok_config)\u001b[0m\n\u001b[0;32m    293\u001b[0m         \u001b[1;32mreturn\u001b[0m \u001b[0m_current_processes\u001b[0m\u001b[1;33m[\u001b[0m\u001b[0mpyngrok_config\u001b[0m\u001b[1;33m.\u001b[0m\u001b[0mngrok_path\u001b[0m\u001b[1;33m]\u001b[0m\u001b[1;33m\u001b[0m\u001b[1;33m\u001b[0m\u001b[0m\n\u001b[0;32m    294\u001b[0m \u001b[1;33m\u001b[0m\u001b[0m\n\u001b[1;32m--> 295\u001b[1;33m     \u001b[1;32mreturn\u001b[0m \u001b[0m_start_process\u001b[0m\u001b[1;33m(\u001b[0m\u001b[0mpyngrok_config\u001b[0m\u001b[1;33m)\u001b[0m\u001b[1;33m\u001b[0m\u001b[1;33m\u001b[0m\u001b[0m\n\u001b[0m\u001b[0;32m    296\u001b[0m \u001b[1;33m\u001b[0m\u001b[0m\n\u001b[0;32m    297\u001b[0m \u001b[1;33m\u001b[0m\u001b[0m\n",
      "\u001b[1;32m~\\anaconda3\\lib\\site-packages\\pyngrok\\process.py\u001b[0m in \u001b[0;36m_start_process\u001b[1;34m(pyngrok_config)\u001b[0m\n\u001b[0;32m    462\u001b[0m \u001b[1;33m\u001b[0m\u001b[0m\n\u001b[0;32m    463\u001b[0m         \u001b[1;32mif\u001b[0m \u001b[0mngrok_process\u001b[0m\u001b[1;33m.\u001b[0m\u001b[0mstartup_error\u001b[0m \u001b[1;32mis\u001b[0m \u001b[1;32mnot\u001b[0m \u001b[1;32mNone\u001b[0m\u001b[1;33m:\u001b[0m\u001b[1;33m\u001b[0m\u001b[1;33m\u001b[0m\u001b[0m\n\u001b[1;32m--> 464\u001b[1;33m             raise PyngrokNgrokError(\"The ngrok process errored on start: {}.\".format(ngrok_process.startup_error),\n\u001b[0m\u001b[0;32m    465\u001b[0m                                     \u001b[0mngrok_process\u001b[0m\u001b[1;33m.\u001b[0m\u001b[0mlogs\u001b[0m\u001b[1;33m,\u001b[0m\u001b[1;33m\u001b[0m\u001b[1;33m\u001b[0m\u001b[0m\n\u001b[0;32m    466\u001b[0m                                     ngrok_process.startup_error)\n",
      "\u001b[1;31mPyngrokNgrokError\u001b[0m: The ngrok process errored on start: Your account is limited to 1 simultaneous ngrok client session.\\nActive ngrok client sessions in region 'us':\\n  - ts_26osN4ARtu6lEJm3NW2fSrCywoP (211.44.6.54)\\r\\n\\r\\nERR_NGROK_108\\r\\n."
     ]
    }
   ],
   "source": [
    "ngrok_tunnel = ngrok.connect(8000)\n",
    "print ('Public URL:', ngrok_tunnel.public_url) \n",
    "nest_asyncio.apply()\n",
    "uvicorn.run(app, host='0.0.0.0', port=8000)"
   ]
  },
  {
   "cell_type": "code",
   "execution_count": null,
   "metadata": {
    "id": "ZSNIVFh4vuY2"
   },
   "outputs": [],
   "source": []
  },
  {
   "cell_type": "code",
   "execution_count": null,
   "metadata": {
    "id": "4umpiluRvuyN"
   },
   "outputs": [],
   "source": []
  }
 ],
 "metadata": {
  "colab": {
   "collapsed_sections": [],
   "name": "fastapi_template.ipynb",
   "provenance": []
  },
  "kernelspec": {
   "display_name": "Python 3 (ipykernel)",
   "language": "python",
   "name": "python3"
  },
  "language_info": {
   "codemirror_mode": {
    "name": "ipython",
    "version": 3
   },
   "file_extension": ".py",
   "mimetype": "text/x-python",
   "name": "python",
   "nbconvert_exporter": "python",
   "pygments_lexer": "ipython3",
   "version": "3.9.7"
  }
 },
 "nbformat": 4,
 "nbformat_minor": 1
}
