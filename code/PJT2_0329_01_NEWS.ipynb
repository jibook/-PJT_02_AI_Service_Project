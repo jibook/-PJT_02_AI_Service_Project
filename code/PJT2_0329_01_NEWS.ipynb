{
 "cells": [
  {
   "cell_type": "code",
   "execution_count": 1,
   "metadata": {
    "colab": {
     "base_uri": "https://localhost:8080/"
    },
    "id": "WbVn8PBTvvgI",
    "outputId": "f6a5b9b9-628f-4d34-b8dc-de0e7e88c3b1",
    "scrolled": true
   },
   "outputs": [],
   "source": [
    "# !pip install fastapi nest-asyncio pyngrok uvicorn aiofiles python-multipart"
   ]
  },
  {
   "cell_type": "code",
   "execution_count": 2,
   "metadata": {},
   "outputs": [],
   "source": [
    "# !mkdir templates"
   ]
  },
  {
   "cell_type": "code",
   "execution_count": 3,
   "metadata": {},
   "outputs": [],
   "source": [
    "# p install aiofiles python-multipart"
   ]
  },
  {
   "cell_type": "code",
   "execution_count": 4,
   "metadata": {},
   "outputs": [],
   "source": [
    "from fastapi import FastAPI, File, UploadFile\n",
    "from fastapi.responses import FileResponse\n",
    "from typing import List\n",
    "import os\n",
    "import uvicorn"
   ]
  },
  {
   "cell_type": "code",
   "execution_count": 5,
   "metadata": {
    "id": "KD6Kg9xqvS27"
   },
   "outputs": [],
   "source": [
    "from fastapi import FastAPI, Request, Form\n",
    "from fastapi.responses import HTMLResponse\n",
    "from fastapi.staticfiles import StaticFiles\n",
    "from fastapi.templating import Jinja2Templates\n",
    "import nest_asyncio\n",
    "from pyngrok import ngrok\n",
    "\n",
    "import uvicorn\n",
    "# from fastapi.staticfiles import StaticFiles"
   ]
  },
  {
   "cell_type": "code",
   "execution_count": 6,
   "metadata": {
    "colab": {
     "base_uri": "https://localhost:8080/"
    },
    "id": "Mr4-CzWHvuLY",
    "outputId": "3af1e820-a3dd-4926-85dd-f88a352609b3"
   },
   "outputs": [
    {
     "name": "stdout",
     "output_type": "stream",
     "text": [
      "Overwriting templates/inputnews2.html\n"
     ]
    }
   ],
   "source": [
    "%%writefile templates/inputnews2.html\n",
    "<!DOCTYPE html>\n",
    "<html>\n",
    "<head>\n",
    "<meta charset=\"UTF-8\">\n",
    "<title>뉴스 줄넘귀</title>\n",
    "<style>\n",
    "body {background-color: lightblue;}\n",
    ".white {background-color: white;}\n",
    "</style>\n",
    "</head>\n",
    "\n",
    "<body>\n",
    "\n",
    "<h1 style=\"text-align: center;\"><strong>🎧줄넘, 귀!</strong></h1>\n",
    "<p style=\"text-align: center;\">요즘 많이 바쁘신가요?</p>\n",
    "<p style=\"text-align: center;\">줄넘귀는 바쁜 삶을 살고 있는 여러분을 위해 이동 시 빠르게 뉴스를 접할 수 있도록,</p>\n",
    "<p style=\"text-align: center;\">간략히 요약한 뉴스를 보이스를 통해 읽어주는 서비스를 제공합니다.😊</p>\n",
    "<p>&nbsp;</p>\n",
    "\n",
    "<form action=\"/topic\" method = 'post'>\n",
    "  <h3><strong><label for=\"press_nm\">검색할 언론사:</label><br></h3>\n",
    "  <p>현재 연합뉴스, MBC, 매일경제, SBS, KBS, JTBC 검색 기능을 지원합니다.</p>\n",
    "  <input type=\"text\" id=\"press_nm\" name=\"press_nm\" value=\"KBS\"><br>\n",
    "  <h3><strong><label for=\"keyword\">검색할 키워드:</label><br></h3>\n",
    "  <input type=\"text\" id=\"keyword\" name=\"keyword\" value=\"코로나\"><br>\n",
    "  <h3><strong><label for=\"ct\">수집 뉴스의 수(숫자만 입력) :</label><br></h3>\n",
    "  <input type=\"int\" id=\"ct\" name=\"ct\" value=\"3\"><br><br>\n",
    "  <input type=\"submit\" value=\"줄여서 넘겨줘, 귀로!\">\n",
    "</form> \n",
    "\n",
    "<p>&nbsp;</p>\n",
    "<p><strong>주요 서비스<img src=\"https://html-online.com/editor/tiny4_9_11/plugins/emoticons/img/smiley-cool.gif\" alt=\"cool\" /></strong></p>\n",
    "<p>- 맞춤형 뉴스 선택 (언론사, 키워드 등)</p>\n",
    "<p>- 긴 문서를 요약하여 핵심 문장으로 제공</p>\n",
    "<p>- 고품질 음성 합성 기술로 65가지 음성과 한국어를 포함한 5개국 언어 제공</p>\n",
    "\n",
    "\n",
    "</body>\n",
    "</html>\n"
   ]
  },
  {
   "cell_type": "code",
   "execution_count": 7,
   "metadata": {
    "colab": {
     "base_uri": "https://localhost:8080/"
    },
    "id": "60XAOgHBzavT",
    "outputId": "35163009-65ef-413c-bd3d-f95460010ba4"
   },
   "outputs": [
    {
     "name": "stdout",
     "output_type": "stream",
     "text": [
      "Overwriting templates/resultnews2.html\n"
     ]
    }
   ],
   "source": [
    "%%writefile templates/resultnews2.html\n",
    "<html>\n",
    "<head>\n",
    "<title>NEWS</title>\n",
    "<style>\n",
    "body {background-color: rgba(255, 255, 128, .5);}\n",
    ".white {background-color: white;}\n",
    "</style>\n",
    "</head>\n",
    "<body>\n",
    "    <h1 style=\"text-align: center;\"><strong>🎧줄넘, 귀!</strong></h1>\n",
    "    <h3 style=\"text-align: center;\">뉴스를 읽어드립니다😊</h3>\n",
    "    <p>&nbsp;</p>\n",
    "    <h3><strong>검색할 언론사 : {{ press_nm }}</strong></h3>\n",
    "    <p>&nbsp;</p>\n",
    "    <h3><strong>검색할 키워드 : {{ keyword }}</strong></h3>\n",
    "    <p>&nbsp;</p>\n",
    "    <h3><strong>수집할 뉴스 개수 : {{ ct }}</strong></h3>\n",
    "    <p>&nbsp;</p>\n",
    "    <h3>뉴스</h3>\n",
    "    <audio style=\"display: block; margin-left: auto; margin-right: auto;\" controls autoplay>\n",
    "    <source src= {{ fn }} type=\"audio/mpeg\">\n",
    "        Your browser does not support the audio element.\n",
    "    </audio>\n",
    "    <h3><strong>요약 내용 : </strong></h3>\n",
    "    <p>상세한 기사 내용은 하단 링크를 참조하세요.</p>\n",
    "    <p>&nbsp;</p>\n",
    "    <p>{{ news_list[0].replace('\\n','') }}</p>\n",
    "    <p>{{ news_list[1].replace('\\n','') }}</p>    \n",
    "    <p>{{ news_list[2].replace('\\n','') }}</p>\n",
    "    <p>{{ news_list[3].replace('\\n','') }}</p>    \n",
    "    <p>{{ news_list[4].replace('\\n','') }}</p>    \n",
    "    <p>{{ news_list[5].replace('\\n','') }}</p>   \n",
    "\n",
    "</body>\n",
    "</html>\n"
   ]
  },
  {
   "cell_type": "code",
   "execution_count": 8,
   "metadata": {},
   "outputs": [],
   "source": [
    "import sys, os\n",
    "import requests\n",
    "import selenium\n",
    "from selenium import webdriver\n",
    "import requests\n",
    "from pandas import DataFrame\n",
    "from bs4 import BeautifulSoup\n",
    "import re\n",
    "from datetime import datetime\n",
    "import pickle, json, glob, time\n",
    "from tqdm import tqdm\n",
    "\n",
    "def process_a(press_nm, keyword, ct):\n",
    "    ###### 날짜 저장 ##########\n",
    "    date = str(datetime.now())\n",
    "    date = date[:date.rfind(':')].replace(' ', '_')\n",
    "    date = date.replace(':','시') + '분'\n",
    "    sleep_sec = 0.5\n",
    "\n",
    "    ####### 언론사별 본문 위치 태그 파싱 함수 ###########\n",
    "    print('본문 크롤링에 필요한 함수를 로딩하고 있습니다...\\n' + '-' * 100)\n",
    "    def crawling_main_text(url):\n",
    "        req = requests.get(url)\n",
    "        req.encoding = None\n",
    "        soup = BeautifulSoup(req.text, 'html.parser')\n",
    "        \n",
    "        # 연합뉴스\n",
    "        if ('://yna' in url) | ('app.yonhapnews' in url):\n",
    "            main_article = soup.find('article', {'class':'story-news article'})\n",
    "            if main_article == None:\n",
    "                main_article = soup.find('div', {'class' : 'article-txt'})\n",
    "        \n",
    "            text = main_article.text\n",
    "        \n",
    "        # MBC \n",
    "        elif '//imnews.imbc' in url: \n",
    "            text = soup.find('div', {'itemprop' : 'articleBody'}).text\n",
    "        \n",
    "        # 매일경제(미라클), req.encoding = None 설정 필요\n",
    "        elif 'mirakle.mk' in url:\n",
    "            text = soup.find('div', {'class' : 'view_txt'}).text\n",
    "        \n",
    "        # 매일경제, req.encoding = None 설정 필요\n",
    "        elif 'mk.co' in url:\n",
    "            text = soup.find('div', {'class' : 'art_txt'}).text\n",
    "        \n",
    "        # SBS\n",
    "        elif 'news.sbs' in url:\n",
    "            text = soup.find('div', {'itemprop' : 'articleBody'}).text\n",
    "    \n",
    "        # KBS\n",
    "        elif 'news.kbs' in url:\n",
    "            text = soup.find('div', {'id' : 'cont_newstext'}).text\n",
    "        \n",
    "        # JTBC\n",
    "        elif 'news.jtbc' in url:\n",
    "            text = soup.find('div', {'class' : 'article_content'}).text\n",
    "        \n",
    "        # 그 외\n",
    "        else:\n",
    "            text == None\n",
    "        \n",
    "        return text.replace('\\n','').replace('\\r','').replace('<br>','').replace('\\t','')\n",
    "    \n",
    "    \n",
    "    press_nm = '{}'.format(press_nm)\n",
    "\n",
    "    print('검색할 언론사 : {}'.format(press_nm))\n",
    "\n",
    "\n",
    "############### 브라우저를 켜고 검색 키워드 입력 ####################\n",
    "   # query = input('검색할 키워드  : ')\n",
    "   # news_num = int(input('수집 뉴스의 수(숫자만 입력) : '))\n",
    "\n",
    "    print('\\n' + '=' * 100 + '\\n')\n",
    "\n",
    "    print('브라우저를 실행시킵니다(자동 제어)\\n')\n",
    "    chrome_path = 'C:/Users/jhjh3/chromedriver_win32 (1)/chromedriver.exe'\n",
    "    browser = webdriver.Chrome(chrome_path)\n",
    "\n",
    "    news_url = 'https://search.naver.com/search.naver?where=news&query={}'.format(keyword)\n",
    "    browser.get(news_url)\n",
    "    time.sleep(sleep_sec)\n",
    "\n",
    "\n",
    "######### 언론사 선택 및 confirm #####################\n",
    "    print('설정한 언론사를 선택합니다.\\n')\n",
    "\n",
    "    search_opn_btn = browser.find_element_by_xpath('//a[@class=\"btn_option _search_option_open_btn\"]')\n",
    "    search_opn_btn.click()\n",
    "    time.sleep(sleep_sec)\n",
    "\n",
    "    bx_press = browser.find_element_by_xpath('//div[@role=\"listbox\" and @class=\"api_group_option_sort _search_option_detail_wrap\"]//li[@class=\"bx press\"]')\n",
    "\n",
    "# 기준 두번 째(언론사 분류순) 클릭하고 오픈하기\n",
    "    press_tablist = bx_press.find_elements_by_xpath('.//div[@role=\"tablist\" and @class=\"option\"]/a')\n",
    "    press_tablist[1].click()\n",
    "    time.sleep(sleep_sec)\n",
    "\n",
    "# 첫 번째 것(언론사 분류선택)\n",
    "    bx_group = bx_press.find_elements_by_xpath('.//div[@class=\"api_select_option type_group _category_select_layer\"]/div[@class=\"select_wrap _root\"]')[0]\n",
    "\n",
    "    press_kind_bx = bx_group.find_elements_by_xpath('.//div[@class=\"group_select _list_root\"]')[0]\n",
    "    press_kind_btn_list = press_kind_bx.find_elements_by_xpath('.//ul[@role=\"tablist\" and @class=\"lst_item _ul\"]/li/a')\n",
    "\n",
    "\n",
    "    for press_kind_btn in press_kind_btn_list:\n",
    "    \n",
    "        # 언론사 종류를 순차적으로 클릭(좌측)\n",
    "        press_kind_btn.click()\n",
    "        time.sleep(sleep_sec)\n",
    "    \n",
    "        # 언론사선택(우측)\n",
    "        press_slct_bx = bx_group.find_elements_by_xpath('.//div[@class=\"group_select _list_root\"]')[1]\n",
    "        # 언론사 선택할 수 있는 클릭 버튼\n",
    "        press_slct_btn_list = press_slct_bx.find_elements_by_xpath('.//ul[@role=\"tablist\" and @class=\"lst_item _ul\"]/li/a')\n",
    "        # 언론사 이름들 추출\n",
    "        press_slct_btn_list_nm = [psl.text for psl in press_slct_btn_list]\n",
    "    \n",
    "        # 언론사 이름 : 언론사 클릭 버튼 인 딕셔너리 생성\n",
    "        press_slct_btn_dict = dict(zip(press_slct_btn_list_nm, press_slct_btn_list))\n",
    "    \n",
    "        # 원하는 언론사가 해당 이름 안에 있는 경우\n",
    "        # 1) 클릭하고\n",
    "        # 2) 더이상 언론사분류선택 탐색 중지\n",
    "        if press_nm in press_slct_btn_dict.keys():\n",
    "            print('<{}> 카테고리에서 <{}>를 찾았으므로 탐색을 종료합니다'.format(press_kind_btn.text, press_nm))\n",
    "        \n",
    "            press_slct_btn_dict[press_nm].click()\n",
    "            time.sleep(sleep_sec)\n",
    "            \n",
    "            break\n",
    "\n",
    "\n",
    "\n",
    "################ 뉴스 크롤링 ########################\n",
    "    print('\\n크롤링을 시작합니다.')\n",
    "    news_dict = {}\n",
    "    idx = 1\n",
    "    cur_page = 1\n",
    "\n",
    "    pbar = tqdm(total=ct ,leave = True)\n",
    "    \n",
    "    while idx < ct:\n",
    "\n",
    "        table = browser.find_element_by_xpath('//ul[@class=\"list_news\"]')\n",
    "        li_list = table.find_elements_by_xpath('./li[contains(@id, \"sp_nws\")]')\n",
    "        area_list = [li.find_element_by_xpath('.//div[@class=\"news_area\"]') for li in li_list]\n",
    "        a_list = [area.find_element_by_xpath('.//a[@class=\"news_tit\"]') for area in area_list]\n",
    " \n",
    "        for n in a_list[:min(len(a_list), ct-idx+1)]:\n",
    "            n_url = n.get_attribute('href')\n",
    "            news_dict[idx] = {'title' : n.get_attribute('title'), \n",
    "                              'url' : n_url,\n",
    "                              'text' : crawling_main_text(n_url)}\n",
    "        \n",
    "            idx += 1\n",
    "            pbar.update(1)\n",
    "        \n",
    "        if idx < ct:\n",
    "            cur_page +=1\n",
    "\n",
    "            pages = browser.find_element_by_xpath('//div[@class=\"sc_page_inner\"]')\n",
    "            next_page_url = [p for p in pages.find_elements_by_xpath('.//a') if p.text == str(cur_page)][0].get_attribute('href')\n",
    "\n",
    "            browser.get(next_page_url)\n",
    "            time.sleep(sleep_sec)\n",
    "        else:\n",
    "            pbar.close()\n",
    "        \n",
    "            print('\\n브라우저를 종료합니다.\\n' + '=' * 100)\n",
    "            time.sleep(0.7)\n",
    "            browser.close()\n",
    "            break\n",
    "\n",
    "#### 데이터 전처리하기 ###################################################### \n",
    "\n",
    "    print('데이터프레임 변환\\n')\n",
    "    news_df = DataFrame(news_dict).T\n",
    "\n",
    "    folder_path = os.getcwd()\n",
    "    xlsx_file_name = '네이버뉴스_본문_{}개_{}_{}.xlsx'.format(ct, keyword, date)\n",
    "\n",
    "    news_df.to_excel(xlsx_file_name)\n",
    "\n",
    "    print('엑셀 저장 완료 | 경로 : {}\\\\{}\\n'.format(folder_path, xlsx_file_name))\n",
    "\n",
    "    os.startfile(folder_path)\n",
    "\n",
    "    # print('=' * 100 + '\\n결과물의 일부')\n",
    "    news_df\n",
    "    \n",
    "    return news_df"
   ]
  },
  {
   "cell_type": "code",
   "execution_count": 9,
   "metadata": {},
   "outputs": [],
   "source": [
    "import os\n",
    "import sys\n",
    "import requests\n",
    "import json\n",
    "import urllib.request\n",
    "# import pandas as pd\n",
    "# news_df = pd.read_excel('./news_df.xlsx')\n",
    "news_list=[]\n",
    "site = []\n",
    "\n",
    "def process_b(news_df):\n",
    "    len(news_df.title)\n",
    "    client_id = \"qj40wl5n0t\"\n",
    "    client_secret = \"1xzXEYgwlsbv9RQxd1onUSByiyvtBDPFV9NEY1mv\"\n",
    "\n",
    "    for i in range(len(news_df.title)):\n",
    "        headers = {\n",
    "        \"X-NCP-APIGW-API-KEY-ID\": client_id,\n",
    "        \"X-NCP-APIGW-API-KEY\": client_secret,\n",
    "        \"Content-Type\": \"application/json\"\n",
    "    }\n",
    "        language = \"ko\" # Language of document (ko, ja )\n",
    "        model = \"news\" # Model used for summaries (general, news)\n",
    "        tone = \"2\" # Converts the tone of the summarized result. (0, 1, 2, 3)\n",
    "        summaryCount = \"3\" # This is the number of sentences for the summarized document.\n",
    "        url= \"https://naveropenapi.apigw.ntruss.com/text-summary/v1/summarize\" \n",
    "        title = \"\"\n",
    "        content = news_df.text[i+1]\n",
    "        data = {\n",
    "            \"document\": {\n",
    "            \"title\": title,\n",
    "            \"content\" : content},\n",
    "            \"option\": {\n",
    "            \"language\": language,\n",
    "            \"model\": model,\n",
    "            \"tone\": tone,\n",
    "            \"summaryCount\" : summaryCount\n",
    "            }\n",
    "        }\n",
    "        # print(json.dumps(data, indent=4, sort_keys=True))\n",
    "        response = requests.post(url, data=json.dumps(data), headers=headers)\n",
    "        rescode = response.status_code\n",
    "        if(rescode == 200):\n",
    "            r1=response.text  \n",
    "            print(r1)\n",
    "\n",
    "        else:\n",
    "            print(\"Error : \" + response.text)\n",
    "\n",
    "        r1\n",
    "        site = news_df.url[i+1]\n",
    "\n",
    "        r1d = json.loads(r1)\n",
    "        r1r1 = r1d['summary']\n",
    "    #    r1r1= r1.split('연합뉴스')[1]\n",
    "        r1r1 = '{}번째 뉴스입니다. {} '.format(i+1, r1r1)\n",
    "        news_list.append(r1r1)\n",
    "        news_list.append(site)\n",
    "        print(r1r1)\n",
    "        print(news_list)            \n",
    "    \n",
    "        encText = urllib.parse.quote(r1r1)\n",
    "        data = \"speaker=njihun&volume=0&speed=0&pitch=0&format=mp3&text=\" + encText;\n",
    "        url = \"https://naveropenapi.apigw.ntruss.com/tts-premium/v1/tts\"\n",
    "        request = urllib.request.Request(url)\n",
    "        request.add_header(\"X-NCP-APIGW-API-KEY-ID\",client_id)\n",
    "        request.add_header(\"X-NCP-APIGW-API-KEY\",client_secret)\n",
    "        response = urllib.request.urlopen(request, data=data.encode('utf-8'))\n",
    "        rescode = response.getcode()\n",
    "        if(rescode==200):\n",
    "            response_body = response.read()\n",
    "            fn = 'voice{}.mp3'.format(i)\n",
    "            with open(fn, 'wb') as f:\n",
    "                f.write(response_body)\n",
    "            print(fn)\n",
    "        else:\n",
    "            print(\"Error Code:\" + rescode)\n",
    "            \n",
    "    result = (r1r1, fn)\n",
    "    \n",
    "    return news_list"
   ]
  },
  {
   "cell_type": "code",
   "execution_count": 10,
   "metadata": {},
   "outputs": [],
   "source": [
    "### 요약부분 수정하는 함수 \n",
    "def clean_news(news_list):\n",
    "    remove = ['\\n', '\\\\', '[사진 제공: 연합뉴스]', '앵커]', '[','사진=REUTERS 연합뉴스〉','사진 제공:연합뉴스','사진 제공: 연합뉴스]','사진=EPA 연합뉴스',' 〉']\n",
    "    for t in remove:\n",
    "        for i, o in enumerate(news_list):\n",
    "            news_list[i] = o.replace(t, \" \")\n",
    "   \n",
    "    return news_list "
   ]
  },
  {
   "cell_type": "code",
   "execution_count": 11,
   "metadata": {
    "id": "qtiaTV3DvuTB"
   },
   "outputs": [],
   "source": [
    "app=FastAPI()\n",
    "templates = Jinja2Templates(directory=\"templates\")\n",
    "app.mount('/static', StaticFiles(directory='static'), name='static')\n",
    "\n",
    "@app.get('/', response_class=HTMLResponse)\n",
    "async def read_topic(request: Request):\n",
    "    return templates.TemplateResponse(\"inputnews2.html\", {\"request\": request})\n",
    "\n",
    "@app.post('/topic', response_class=HTMLResponse)\n",
    "async def get_topic(request: Request, press_nm: str = Form(...), keyword: str = Form(...), ct: int = Form(...)):\n",
    "    news_df = process_a(press_nm, keyword, ct)\n",
    "    news_list = process_b(news_df)\n",
    "    news_list = clean_news(news_list) \n",
    "    audio1 = open(\"voice0.mp3\", \"rb\").read()\n",
    "    audio2 = open(\"voice1.mp3\", \"rb\").read()\n",
    "    audio3 = open(\"voice2.mp3\", \"rb\").read()\n",
    "    audioJoin = audio1 + audio2 + audio3 \n",
    "    audioFinal = open(\"./static/audioFinal.mp3\", \"wb\").write(audioJoin)\n",
    "\n",
    "    return templates.TemplateResponse(\"resultnews2.html\", {\"request\": request,'press_nm': press_nm, 'keyword': keyword, 'ct':ct, 'news_list': news_list, 'fn': \"/static/audioFinal.mp3\"})\n"
   ]
  },
  {
   "cell_type": "code",
   "execution_count": 12,
   "metadata": {
    "scrolled": true
   },
   "outputs": [
    {
     "data": {
      "text/plain": [
       "'/static/audioFinal.mp3'"
      ]
     },
     "execution_count": 12,
     "metadata": {},
     "output_type": "execute_result"
    }
   ],
   "source": [
    "app.url_path_for('static', path='/audioFinal.mp3')"
   ]
  },
  {
   "cell_type": "code",
   "execution_count": 13,
   "metadata": {
    "colab": {
     "base_uri": "https://localhost:8080/"
    },
    "id": "Xai-ntaMxtYP",
    "outputId": "e2b9c645-fc33-4b41-bace-4555da91e4b3",
    "scrolled": false
   },
   "outputs": [
    {
     "name": "stdout",
     "output_type": "stream",
     "text": [
      "Authtoken saved to configuration file: C:\\Users\\jhjh3/.ngrok2/ngrok.yml\n"
     ]
    }
   ],
   "source": [
    "!ngrok authtoken 26P5NSFkUtnURKy9pPsw14XpSaq_4PoTwUvNPG3XmHY3oY3VP"
   ]
  },
  {
   "cell_type": "code",
   "execution_count": 14,
   "metadata": {
    "colab": {
     "base_uri": "https://localhost:8080/"
    },
    "id": "rNsYG9x9vuV-",
    "outputId": "7a1d7ab1-c0b8-4aa3-da66-34540d661600",
    "scrolled": true
   },
   "outputs": [
    {
     "name": "stderr",
     "output_type": "stream",
     "text": [
      "INFO:     Started server process [27360]\n",
      "INFO:     Waiting for application startup.\n",
      "INFO:     Application startup complete.\n",
      "INFO:     Uvicorn running on http://0.0.0.0:8000 (Press CTRL+C to quit)\n"
     ]
    },
    {
     "name": "stdout",
     "output_type": "stream",
     "text": [
      "Public URL: http://6470-211-44-6-54.ngrok.io\n",
      "INFO:     211.44.6.54:0 - \"GET / HTTP/1.1\" 200 OK\n",
      "INFO:     211.117.24.132:0 - \"GET / HTTP/1.1\" 200 OK\n",
      "INFO:     211.44.6.54:0 - \"GET / HTTP/1.1\" 200 OK\n",
      "INFO:     211.44.6.54:0 - \"GET /favicon.ico HTTP/1.1\" 404 Not Found\n",
      "INFO:     211.44.6.54:0 - \"GET / HTTP/1.1\" 200 OK\n",
      "본문 크롤링에 필요한 함수를 로딩하고 있습니다...\n",
      "----------------------------------------------------------------------------------------------------\n",
      "검색할 언론사 : MBC\n",
      "\n",
      "====================================================================================================\n",
      "\n",
      "브라우저를 실행시킵니다(자동 제어)\n",
      "\n"
     ]
    },
    {
     "name": "stderr",
     "output_type": "stream",
     "text": [
      "C:\\Users\\Public\\Documents\\ESTsoft\\CreatorTemp/ipykernel_27360/4216336124.py:79: DeprecationWarning: executable_path has been deprecated, please pass in a Service object\n",
      "  browser = webdriver.Chrome(chrome_path)\n"
     ]
    },
    {
     "name": "stdout",
     "output_type": "stream",
     "text": [
      "설정한 언론사를 선택합니다.\n",
      "\n"
     ]
    },
    {
     "name": "stderr",
     "output_type": "stream",
     "text": [
      "C:\\Users\\Public\\Documents\\ESTsoft\\CreatorTemp/ipykernel_27360/4216336124.py:89: DeprecationWarning: find_element_by_* commands are deprecated. Please use find_element() instead\n",
      "  search_opn_btn = browser.find_element_by_xpath('//a[@class=\"btn_option _search_option_open_btn\"]')\n",
      "C:\\Users\\Public\\Documents\\ESTsoft\\CreatorTemp/ipykernel_27360/4216336124.py:93: DeprecationWarning: find_element_by_* commands are deprecated. Please use find_element() instead\n",
      "  bx_press = browser.find_element_by_xpath('//div[@role=\"listbox\" and @class=\"api_group_option_sort _search_option_detail_wrap\"]//li[@class=\"bx press\"]')\n",
      "C:\\Users\\jhjh3\\anaconda3\\lib\\site-packages\\selenium\\webdriver\\remote\\webelement.py:426: UserWarning: find_elements_by_* commands are deprecated. Please use find_elements() instead\n",
      "  warnings.warn(\"find_elements_by_* commands are deprecated. Please use find_elements() instead\")\n"
     ]
    },
    {
     "name": "stdout",
     "output_type": "stream",
     "text": [
      "<방송/통신> 카테고리에서 <MBC>를 찾았으므로 탐색을 종료합니다\n",
      "\n",
      "크롤링을 시작합니다.\n"
     ]
    },
    {
     "name": "stderr",
     "output_type": "stream",
     "text": [
      "  0%|                                                                                            | 0/3 [00:00<?, ?it/s]C:\\Users\\Public\\Documents\\ESTsoft\\CreatorTemp/ipykernel_27360/4216336124.py:146: DeprecationWarning: find_element_by_* commands are deprecated. Please use find_element() instead\n",
      "  table = browser.find_element_by_xpath('//ul[@class=\"list_news\"]')\n",
      "C:\\Users\\jhjh3\\anaconda3\\lib\\site-packages\\selenium\\webdriver\\remote\\webelement.py:393: UserWarning: find_element_by_* commands are deprecated. Please use find_element() instead\n",
      "  warnings.warn(\"find_element_by_* commands are deprecated. Please use find_element() instead\")\n",
      "100%|████████████████████████████████████████████████████████████████████████████████████| 3/3 [00:00<00:00,  3.47it/s]\n"
     ]
    },
    {
     "name": "stdout",
     "output_type": "stream",
     "text": [
      "\n",
      "브라우저를 종료합니다.\n",
      "====================================================================================================\n",
      "데이터프레임 변환\n",
      "\n",
      "엑셀 저장 완료 | 경로 : C:\\Users\\jhjh3\\PJT_02\\네이버뉴스_본문_3개_대통령_2022-03-31_10시31분.xlsx\n",
      "\n",
      "{\"summary\":\"문재인 대통령이 대한불교조계종 제15대 종정인 성파스님을 만나 \\\"남은 기간 최선을 다하고 자연으로 돌아가 잊혀진 삶, 자유로운 삶을 살겠다\\\"고 말했다고 청와대가 밝혔습니다.\\n조계종 종정으로 추대된 성파스님은 이에 대해 \\\"법회에 참석해 줘 감사하고 불교계의 배려에도 감사하다\\\"며 \\\"문 대통령이 임기를 잘 마무리할 수 있도록 종교계가 협조하겠다\\\"고 답했다고 청와대는 전했습니다.\\n조계종 총무원장인 원행스님도 \\\"종정의 뜻을 받들어 불교 종단을 잘 화합하게 이끌도록 노력하겠다\\\"며 \\\"대통령 부부의 참석에 진심으로 감사드린다\\\"고 말했다고 청와대는 덧붙였습니다.\"}\n",
      "1번째 뉴스입니다. 문재인 대통령이 대한불교조계종 제15대 종정인 성파스님을 만나 \"남은 기간 최선을 다하고 자연으로 돌아가 잊혀진 삶, 자유로운 삶을 살겠다\"고 말했다고 청와대가 밝혔습니다.\n",
      "조계종 종정으로 추대된 성파스님은 이에 대해 \"법회에 참석해 줘 감사하고 불교계의 배려에도 감사하다\"며 \"문 대통령이 임기를 잘 마무리할 수 있도록 종교계가 협조하겠다\"고 답했다고 청와대는 전했습니다.\n",
      "조계종 총무원장인 원행스님도 \"종정의 뜻을 받들어 불교 종단을 잘 화합하게 이끌도록 노력하겠다\"며 \"대통령 부부의 참석에 진심으로 감사드린다\"고 말했다고 청와대는 덧붙였습니다. \n",
      "['1번째 뉴스입니다. 문재인 대통령이 대한불교조계종 제15대 종정인 성파스님을 만나 \"남은 기간 최선을 다하고 자연으로 돌아가 잊혀진 삶, 자유로운 삶을 살겠다\"고 말했다고 청와대가 밝혔습니다.\\n조계종 종정으로 추대된 성파스님은 이에 대해 \"법회에 참석해 줘 감사하고 불교계의 배려에도 감사하다\"며 \"문 대통령이 임기를 잘 마무리할 수 있도록 종교계가 협조하겠다\"고 답했다고 청와대는 전했습니다.\\n조계종 총무원장인 원행스님도 \"종정의 뜻을 받들어 불교 종단을 잘 화합하게 이끌도록 노력하겠다\"며 \"대통령 부부의 참석에 진심으로 감사드린다\"고 말했다고 청와대는 덧붙였습니다. ', 'https://imnews.imbc.com/news/2022/politics/article/6354768_35666.html']\n",
      "voice0.mp3\n",
      "{\"summary\":\"사진 제공: 연합뉴스윤석열 대통령 당선인이 오늘 오후 5시 볼로디미르 젤렌스키 우크라이나 대통령과 전화통화를 했다고 당선인 대변인실이 밝혔습니다.\\n젤렌스키 대통령은 우크라이나 국민들의 대러시아 항전을 이끄며 국제 사회에 반향을 일으키고 있는 지도자로, 한국 차기 정부의 지지와 지원을 요청했을 것으로 보입니다.\\n윤 당선인은 후보 시절이던 지난 2일에는 드미트로 포노마렌코 주한 우크라이나 대사와 만나 \\\"우크라이나가 일치단결해 러시아에 결사 항전하는 것을 지지하고 응원한다\\\"면서 \\\"어떤 물자나 생필품이 필요한지 말씀을 해주시면 최선을 다하겠다\\\"고 말했습니다.\"}\n",
      "2번째 뉴스입니다. 사진 제공: 연합뉴스윤석열 대통령 당선인이 오늘 오후 5시 볼로디미르 젤렌스키 우크라이나 대통령과 전화통화를 했다고 당선인 대변인실이 밝혔습니다.\n",
      "젤렌스키 대통령은 우크라이나 국민들의 대러시아 항전을 이끄며 국제 사회에 반향을 일으키고 있는 지도자로, 한국 차기 정부의 지지와 지원을 요청했을 것으로 보입니다.\n",
      "윤 당선인은 후보 시절이던 지난 2일에는 드미트로 포노마렌코 주한 우크라이나 대사와 만나 \"우크라이나가 일치단결해 러시아에 결사 항전하는 것을 지지하고 응원한다\"면서 \"어떤 물자나 생필품이 필요한지 말씀을 해주시면 최선을 다하겠다\"고 말했습니다. \n",
      "['1번째 뉴스입니다. 문재인 대통령이 대한불교조계종 제15대 종정인 성파스님을 만나 \"남은 기간 최선을 다하고 자연으로 돌아가 잊혀진 삶, 자유로운 삶을 살겠다\"고 말했다고 청와대가 밝혔습니다.\\n조계종 종정으로 추대된 성파스님은 이에 대해 \"법회에 참석해 줘 감사하고 불교계의 배려에도 감사하다\"며 \"문 대통령이 임기를 잘 마무리할 수 있도록 종교계가 협조하겠다\"고 답했다고 청와대는 전했습니다.\\n조계종 총무원장인 원행스님도 \"종정의 뜻을 받들어 불교 종단을 잘 화합하게 이끌도록 노력하겠다\"며 \"대통령 부부의 참석에 진심으로 감사드린다\"고 말했다고 청와대는 덧붙였습니다. ', 'https://imnews.imbc.com/news/2022/politics/article/6354768_35666.html', '2번째 뉴스입니다. 사진 제공: 연합뉴스윤석열 대통령 당선인이 오늘 오후 5시 볼로디미르 젤렌스키 우크라이나 대통령과 전화통화를 했다고 당선인 대변인실이 밝혔습니다.\\n젤렌스키 대통령은 우크라이나 국민들의 대러시아 항전을 이끄며 국제 사회에 반향을 일으키고 있는 지도자로, 한국 차기 정부의 지지와 지원을 요청했을 것으로 보입니다.\\n윤 당선인은 후보 시절이던 지난 2일에는 드미트로 포노마렌코 주한 우크라이나 대사와 만나 \"우크라이나가 일치단결해 러시아에 결사 항전하는 것을 지지하고 응원한다\"면서 \"어떤 물자나 생필품이 필요한지 말씀을 해주시면 최선을 다하겠다\"고 말했습니다. ', 'https://imnews.imbc.com/news/2022/politics/article/6354455_35666.html']\n",
      "voice1.mp3\n",
      "{\"summary\":\"강정마을 주민들에게 인사말 하는 문 대통령 2018.10.11 [자료사진: 연합뉴스 제공]문재인 대통령이 지난 2018년 국제 관함식 개최를 놓고 정부와 마찰을 빚었던 제주 강정마을 회장에게 SNS를 통해 감사의 뜻을 전했습니다.\\n제주 강정마을 강희봉 회장이 앞서 퇴임 소감을 담아 보낸 서신에 대한 답장으로, 강 회장은 국제 관함식 개최에 대해 \\\"문 대통령의 강한 의지로 주민들을 설득했고 성공적으로 행사가 마무리돼 정부와 소통이 이뤄졌다\\\"고 적었습니다.\\n또 강정마을 해군기지 건설에 반대하던 주민들에 대한 경찰의 인권 침해 행위를 조사해 경찰청장이 사과한 것을 두고도 \\\"주민들이 한을 푸는 계기가 됐다\\\"고 밝혔습니다.\"}\n",
      "3번째 뉴스입니다. 강정마을 주민들에게 인사말 하는 문 대통령 2018.10.11 [자료사진: 연합뉴스 제공]문재인 대통령이 지난 2018년 국제 관함식 개최를 놓고 정부와 마찰을 빚었던 제주 강정마을 회장에게 SNS를 통해 감사의 뜻을 전했습니다.\n",
      "제주 강정마을 강희봉 회장이 앞서 퇴임 소감을 담아 보낸 서신에 대한 답장으로, 강 회장은 국제 관함식 개최에 대해 \"문 대통령의 강한 의지로 주민들을 설득했고 성공적으로 행사가 마무리돼 정부와 소통이 이뤄졌다\"고 적었습니다.\n",
      "또 강정마을 해군기지 건설에 반대하던 주민들에 대한 경찰의 인권 침해 행위를 조사해 경찰청장이 사과한 것을 두고도 \"주민들이 한을 푸는 계기가 됐다\"고 밝혔습니다. \n",
      "['1번째 뉴스입니다. 문재인 대통령이 대한불교조계종 제15대 종정인 성파스님을 만나 \"남은 기간 최선을 다하고 자연으로 돌아가 잊혀진 삶, 자유로운 삶을 살겠다\"고 말했다고 청와대가 밝혔습니다.\\n조계종 종정으로 추대된 성파스님은 이에 대해 \"법회에 참석해 줘 감사하고 불교계의 배려에도 감사하다\"며 \"문 대통령이 임기를 잘 마무리할 수 있도록 종교계가 협조하겠다\"고 답했다고 청와대는 전했습니다.\\n조계종 총무원장인 원행스님도 \"종정의 뜻을 받들어 불교 종단을 잘 화합하게 이끌도록 노력하겠다\"며 \"대통령 부부의 참석에 진심으로 감사드린다\"고 말했다고 청와대는 덧붙였습니다. ', 'https://imnews.imbc.com/news/2022/politics/article/6354768_35666.html', '2번째 뉴스입니다. 사진 제공: 연합뉴스윤석열 대통령 당선인이 오늘 오후 5시 볼로디미르 젤렌스키 우크라이나 대통령과 전화통화를 했다고 당선인 대변인실이 밝혔습니다.\\n젤렌스키 대통령은 우크라이나 국민들의 대러시아 항전을 이끄며 국제 사회에 반향을 일으키고 있는 지도자로, 한국 차기 정부의 지지와 지원을 요청했을 것으로 보입니다.\\n윤 당선인은 후보 시절이던 지난 2일에는 드미트로 포노마렌코 주한 우크라이나 대사와 만나 \"우크라이나가 일치단결해 러시아에 결사 항전하는 것을 지지하고 응원한다\"면서 \"어떤 물자나 생필품이 필요한지 말씀을 해주시면 최선을 다하겠다\"고 말했습니다. ', 'https://imnews.imbc.com/news/2022/politics/article/6354455_35666.html', '3번째 뉴스입니다. 강정마을 주민들에게 인사말 하는 문 대통령 2018.10.11 [자료사진: 연합뉴스 제공]문재인 대통령이 지난 2018년 국제 관함식 개최를 놓고 정부와 마찰을 빚었던 제주 강정마을 회장에게 SNS를 통해 감사의 뜻을 전했습니다.\\n제주 강정마을 강희봉 회장이 앞서 퇴임 소감을 담아 보낸 서신에 대한 답장으로, 강 회장은 국제 관함식 개최에 대해 \"문 대통령의 강한 의지로 주민들을 설득했고 성공적으로 행사가 마무리돼 정부와 소통이 이뤄졌다\"고 적었습니다.\\n또 강정마을 해군기지 건설에 반대하던 주민들에 대한 경찰의 인권 침해 행위를 조사해 경찰청장이 사과한 것을 두고도 \"주민들이 한을 푸는 계기가 됐다\"고 밝혔습니다. ', 'https://imnews.imbc.com/news/2022/politics/article/6354723_35666.html']\n",
      "voice2.mp3\n",
      "INFO:     211.44.6.54:0 - \"POST /topic HTTP/1.1\" 200 OK\n",
      "INFO:     1.225.35.100:0 - \"GET /topic HTTP/1.1\" 405 Method Not Allowed\n",
      "INFO:     211.44.6.54:0 - \"GET /audioFinal.mp3 HTTP/1.1\" 200 OK\n",
      "INFO:     211.44.6.54:0 - \"GET /favicon.ico HTTP/1.1\" 404 Not Found\n"
     ]
    },
    {
     "name": "stderr",
     "output_type": "stream",
     "text": [
      "INFO:     Shutting down\n",
      "INFO:     Waiting for application shutdown.\n",
      "INFO:     Application shutdown complete.\n",
      "INFO:     Finished server process [27360]\n"
     ]
    }
   ],
   "source": [
    "ngrok_tunnel = ngrok.connect(8000)\n",
    "print ('Public URL:', ngrok_tunnel.public_url) \n",
    "nest_asyncio.apply()\n",
    "uvicorn.run(app, host='0.0.0.0', port=8000)\n"
   ]
  },
  {
   "cell_type": "code",
   "execution_count": null,
   "metadata": {},
   "outputs": [],
   "source": []
  },
  {
   "cell_type": "code",
   "execution_count": null,
   "metadata": {},
   "outputs": [],
   "source": []
  },
  {
   "cell_type": "code",
   "execution_count": null,
   "metadata": {},
   "outputs": [],
   "source": []
  },
  {
   "cell_type": "code",
   "execution_count": null,
   "metadata": {},
   "outputs": [],
   "source": []
  }
 ],
 "metadata": {
  "colab": {
   "collapsed_sections": [],
   "name": "fastapi_template.ipynb",
   "provenance": []
  },
  "kernelspec": {
   "display_name": "Python 3 (ipykernel)",
   "language": "python",
   "name": "python3"
  },
  "language_info": {
   "codemirror_mode": {
    "name": "ipython",
    "version": 3
   },
   "file_extension": ".py",
   "mimetype": "text/x-python",
   "name": "python",
   "nbconvert_exporter": "python",
   "pygments_lexer": "ipython3",
   "version": "3.9.7"
  }
 },
 "nbformat": 4,
 "nbformat_minor": 1
}
