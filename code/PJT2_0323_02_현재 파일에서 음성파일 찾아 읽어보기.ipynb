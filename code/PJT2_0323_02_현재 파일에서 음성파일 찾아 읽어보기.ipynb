{
 "cells": [
  {
   "cell_type": "code",
   "execution_count": 8,
   "id": "ae91693a",
   "metadata": {},
   "outputs": [],
   "source": [
    "import os \n",
    "\n",
    "# 확장자 파일을 특정 폴더에서 전부 찾기 \n",
    "fileDir = r\"./\"\n",
    "fileExt = r\".txt\"\n",
    "#path_list = [os.path.join(fileDir, _) for _ in os.listdir(fileDir) if _.endswith(fileExt)]\n",
    "\n",
    "## 경로 생성 \n",
    "def path_gen(f_name):\n",
    "    path = os.path.join(os.getcwd(), f_name)\n",
    "    return path \n",
    "\n",
    "## 현재폴더 mp3 확장자 파일 찾아줌. \n",
    "def find_file():\n",
    "    fileDir = os.getcwd()\n",
    "    fileExt = r\".mp3\"\n",
    "    list = [os.path.join(fileDir, _) for _ in os.listdir(fileDir) if _.endswith(fileExt)]\n",
    "    path_list = []\n",
    "    for path in list:\n",
    "        path = path.replace('\\\\', '/')\n",
    "        path_list.append(path)\n",
    "    return path_list \n",
    "\n",
    "## 소리 재생 , 0누르면 종료 \n",
    "def play(path_list):\n",
    "    for path in path_list :\n",
    "        playsound.playsound(path, False)\n",
    "        k = int(input('Press 0 if you want to stop'))\n",
    "        if k == 0: \n",
    "            playsound(None)\n",
    "\n",
    "          "
   ]
  },
  {
   "cell_type": "code",
   "execution_count": 2,
   "id": "808ca888",
   "metadata": {},
   "outputs": [
    {
     "data": {
      "text/plain": [
       "['C:/Users/jhjh3/PJT_02/1111.mp3',\n",
       " 'C:/Users/jhjh3/PJT_02/1112.mp3',\n",
       " 'C:/Users/jhjh3/PJT_02/1113.mp3',\n",
       " 'C:/Users/jhjh3/PJT_02/1115.mp3',\n",
       " 'C:/Users/jhjh3/PJT_02/audioFinal.mp3',\n",
       " 'C:/Users/jhjh3/PJT_02/audioFinal_1.mp3',\n",
       " 'C:/Users/jhjh3/PJT_02/audioFinal_2.mp3',\n",
       " 'C:/Users/jhjh3/PJT_02/voice0.mp3',\n",
       " 'C:/Users/jhjh3/PJT_02/voice1.mp3',\n",
       " 'C:/Users/jhjh3/PJT_02/voice2.mp3']"
      ]
     },
     "execution_count": 2,
     "metadata": {},
     "output_type": "execute_result"
    }
   ],
   "source": [
    "find_file()"
   ]
  },
  {
   "cell_type": "code",
   "execution_count": 5,
   "id": "d2dd8164",
   "metadata": {},
   "outputs": [
    {
     "name": "stdout",
     "output_type": "stream",
     "text": [
      "Requirement already satisfied: playsound in c:\\users\\jhjh3\\anaconda3\\lib\\site-packages (1.3.0)\n"
     ]
    }
   ],
   "source": [
    "!pip install playsound"
   ]
  },
  {
   "cell_type": "code",
   "execution_count": 12,
   "id": "91657ea9",
   "metadata": {},
   "outputs": [
    {
     "ename": "TypeError",
     "evalue": "'module' object is not callable",
     "output_type": "error",
     "traceback": [
      "\u001b[1;31m---------------------------------------------------------------------------\u001b[0m",
      "\u001b[1;31mTypeError\u001b[0m                                 Traceback (most recent call last)",
      "\u001b[1;32mC:\\Users\\Public\\Documents\\ESTsoft\\CreatorTemp/ipykernel_17124/2486452315.py\u001b[0m in \u001b[0;36m<module>\u001b[1;34m\u001b[0m\n\u001b[0;32m      1\u001b[0m \u001b[1;32mimport\u001b[0m \u001b[0mplaysound\u001b[0m\u001b[1;33m\u001b[0m\u001b[1;33m\u001b[0m\u001b[0m\n\u001b[0;32m      2\u001b[0m \u001b[1;33m\u001b[0m\u001b[0m\n\u001b[1;32m----> 3\u001b[1;33m \u001b[0mplaysound\u001b[0m\u001b[1;33m(\u001b[0m\u001b[0mfind_file\u001b[0m\u001b[1;33m)\u001b[0m\u001b[1;33m\u001b[0m\u001b[1;33m\u001b[0m\u001b[0m\n\u001b[0m",
      "\u001b[1;31mTypeError\u001b[0m: 'module' object is not callable"
     ]
    }
   ],
   "source": [
    "import playsound\n",
    "\n",
    "playsound(find_file)"
   ]
  },
  {
   "cell_type": "markdown",
   "id": "d62cda8d",
   "metadata": {},
   "source": [
    "### 이건 창 띄워서 키로 조절하기"
   ]
  },
  {
   "cell_type": "code",
   "execution_count": null,
   "id": "8d2eda3e",
   "metadata": {},
   "outputs": [],
   "source": [
    "# import pygame\n",
    "\n",
    "\n",
    "# 스크린 전체 크기 지정\n",
    "SCREEN_WIDTH = 400\n",
    "SCREEN_HEIGHT  = 500\n",
    " \n",
    "pygame.init()\n",
    "\n",
    "# 스크린 객체 저장\n",
    "SCREEN = pygame.display.set_mode((SCREEN_WIDTH, SCREEN_HEIGHT))\n",
    "pygame.display.set_caption(\"news 줄 넘 귀 test\")\n",
    "\n",
    " \n",
    "# FPS를 위한 Clock 생성\n",
    "clock = pygame.time.Clock()\n",
    "\n",
    " \n",
    "# wav, mp3, ogg 가능\n",
    "pygame.mixer.music.load('voice0.mp3')\n",
    "\n",
    "\n",
    "# Music stream 무한 반복\n",
    "pygame.mixer.music.play()\n",
    "\n",
    " \n",
    "playing = True\n",
    "while playing:\n",
    "    for event in pygame.event.get():\n",
    "\n",
    "        if event.type == pygame.QUIT:\n",
    "            playing = False\n",
    "            pygame.quit()\n",
    "\n",
    "\n",
    "        if event.type == pygame.KEYDOWN:\n",
    "\n",
    " \n",
    "\n",
    "            if event.key == pygame.K_UP:\n",
    "                v = pygame.mixer.music.get_volume()\n",
    "                pygame.mixer.music.set_volume(v + 0.1)\n",
    "                print(\"volume up\")\n",
    "\n",
    " \n",
    "\n",
    "            if event.key == pygame.K_DOWN:\n",
    "                v = pygame.mixer.music.get_volume()\n",
    "                pygame.mixer.music.set_volume(v - 0.1)\n",
    "                print(\"volume down\")\n",
    "\n",
    " \n",
    "\n",
    "            if event.key == pygame.K_LEFT:\n",
    "                pygame.mixer.music.pause()\n",
    "                print(\"일시 멈춤\")\n",
    "\n",
    " \n",
    "\n",
    "            if event.key == pygame.K_RIGHT:\n",
    "                pygame.mixer.music.unpause()\n",
    "                print(\"다시 재생\")\n",
    "              \n",
    "            \n",
    "            if event.key == pygame.K_a:\n",
    "                pygame.quit()\n",
    "                print(\"종료\")\n",
    "                \n",
    "\n",
    "\n",
    "    # 1초에 60번의 빈도로 순환하기\n",
    "    # clock.tick(60)"
   ]
  }
 ],
 "metadata": {
  "kernelspec": {
   "display_name": "Python 3 (ipykernel)",
   "language": "python",
   "name": "python3"
  },
  "language_info": {
   "codemirror_mode": {
    "name": "ipython",
    "version": 3
   },
   "file_extension": ".py",
   "mimetype": "text/x-python",
   "name": "python",
   "nbconvert_exporter": "python",
   "pygments_lexer": "ipython3",
   "version": "3.9.7"
  }
 },
 "nbformat": 4,
 "nbformat_minor": 5
}
