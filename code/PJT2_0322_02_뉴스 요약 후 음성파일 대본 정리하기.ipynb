{
 "cells": [
  {
   "cell_type": "markdown",
   "id": "c2c15bc7",
   "metadata": {},
   "source": [
    "## 뉴스 크롤링 후 저장 "
   ]
  },
  {
   "cell_type": "code",
   "execution_count": 31,
   "id": "43398a5c",
   "metadata": {
    "scrolled": true
   },
   "outputs": [
    {
     "name": "stdout",
     "output_type": "stream",
     "text": [
      "본문 크롤링에 필요한 함수를 로딩하고 있습니다...\n",
      "----------------------------------------------------------------------------------------------------\n",
      "검색할 언론사 : MBC\n",
      "검색할 키워드  : 코로나\n",
      "수집 뉴스의 수(숫자만 입력) : 3\n",
      "\n",
      "====================================================================================================\n",
      "\n",
      "브라우저를 실행시킵니다(자동 제어)\n",
      "\n"
     ]
    },
    {
     "name": "stderr",
     "output_type": "stream",
     "text": [
      "C:\\Users\\Public\\Documents\\ESTsoft\\CreatorTemp/ipykernel_20648/1155766905.py:83: DeprecationWarning: executable_path has been deprecated, please pass in a Service object\n",
      "  browser = webdriver.Chrome(chrome_path)\n"
     ]
    },
    {
     "name": "stdout",
     "output_type": "stream",
     "text": [
      "설정한 언론사를 선택합니다.\n",
      "\n"
     ]
    },
    {
     "name": "stderr",
     "output_type": "stream",
     "text": [
      "C:\\Users\\Public\\Documents\\ESTsoft\\CreatorTemp/ipykernel_20648/1155766905.py:93: DeprecationWarning: find_element_by_* commands are deprecated. Please use find_element() instead\n",
      "  search_opn_btn = browser.find_element_by_xpath('//a[@class=\"btn_option _search_option_open_btn\"]')\n",
      "C:\\Users\\Public\\Documents\\ESTsoft\\CreatorTemp/ipykernel_20648/1155766905.py:97: DeprecationWarning: find_element_by_* commands are deprecated. Please use find_element() instead\n",
      "  bx_press = browser.find_element_by_xpath('//div[@role=\"listbox\" and @class=\"api_group_option_sort _search_option_detail_wrap\"]//li[@class=\"bx press\"]')\n"
     ]
    },
    {
     "name": "stdout",
     "output_type": "stream",
     "text": [
      "<방송/통신> 카테고리에서 <MBC>를 찾았으므로 탐색을 종료합니다\n",
      "\n",
      "크롤링을 시작합니다.\n"
     ]
    },
    {
     "name": "stderr",
     "output_type": "stream",
     "text": [
      "  0%|                                                                                            | 0/3 [00:00<?, ?it/s]C:\\Users\\Public\\Documents\\ESTsoft\\CreatorTemp/ipykernel_20648/1155766905.py:152: DeprecationWarning: find_element_by_* commands are deprecated. Please use find_element() instead\n",
      "  table = browser.find_element_by_xpath('//ul[@class=\"list_news\"]')\n",
      "C:\\Users\\jhjh3\\anaconda3\\lib\\site-packages\\selenium\\webdriver\\remote\\webelement.py:393: UserWarning: find_element_by_* commands are deprecated. Please use find_element() instead\n",
      "  warnings.warn(\"find_element_by_* commands are deprecated. Please use find_element() instead\")\n",
      "100%|████████████████████████████████████████████████████████████████████████████████████| 3/3 [00:03<00:00,  1.06s/it]\n"
     ]
    },
    {
     "name": "stdout",
     "output_type": "stream",
     "text": [
      "\n",
      "브라우저를 종료합니다.\n",
      "====================================================================================================\n",
      "데이터프레임 변환\n",
      "\n",
      "엑셀 저장 완료 | 경로 : C:\\Users\\jhjh3\\PJT_02\\네이버뉴스_본문_3개_코로나_2022-03-22_16시19분.xlsx\n",
      "\n",
      "====================================================================================================\n",
      "결과물의 일부\n"
     ]
    },
    {
     "data": {
      "text/html": [
       "<div>\n",
       "<style scoped>\n",
       "    .dataframe tbody tr th:only-of-type {\n",
       "        vertical-align: middle;\n",
       "    }\n",
       "\n",
       "    .dataframe tbody tr th {\n",
       "        vertical-align: top;\n",
       "    }\n",
       "\n",
       "    .dataframe thead th {\n",
       "        text-align: right;\n",
       "    }\n",
       "</style>\n",
       "<table border=\"1\" class=\"dataframe\">\n",
       "  <thead>\n",
       "    <tr style=\"text-align: right;\">\n",
       "      <th></th>\n",
       "      <th>title</th>\n",
       "      <th>url</th>\n",
       "      <th>text</th>\n",
       "    </tr>\n",
       "  </thead>\n",
       "  <tbody>\n",
       "    <tr>\n",
       "      <th>1</th>\n",
       "      <td>코로나19 신규 확진 35만3,980명‥사망 384명</td>\n",
       "      <td>https://imnews.imbc.com/news/2022/society/arti...</td>\n",
       "      <td>사진 제공: 연합뉴스중앙방역대책본부는 오늘 0시 기준 코로나19 신규 확진자가 35...</td>\n",
       "    </tr>\n",
       "    <tr>\n",
       "      <th>2</th>\n",
       "      <td>\"코로나19 사태 속 저소득층 물가부담, 고소득층 1.4배\"</td>\n",
       "      <td>https://imnews.imbc.com/news/2022/econo/articl...</td>\n",
       "      <td>사진 제공: 연합뉴스코로나19 사태 속에서 물가 상승에 따른 부담이상대적으로 저소득...</td>\n",
       "    </tr>\n",
       "    <tr>\n",
       "      <th>3</th>\n",
       "      <td>축구대표팀 소집된 백승호, 코로나19 확진‥원두재 대체 발탁</td>\n",
       "      <td>https://imnews.imbc.com/news/2022/sports/artic...</td>\n",
       "      <td>사진 제공:연합뉴스이란과의 월드컵 최종예선을 앞둔 축구대표팀에 코로나19 비상이 걸...</td>\n",
       "    </tr>\n",
       "  </tbody>\n",
       "</table>\n",
       "</div>"
      ],
      "text/plain": [
       "                               title  \\\n",
       "1      코로나19 신규 확진 35만3,980명‥사망 384명   \n",
       "2  \"코로나19 사태 속 저소득층 물가부담, 고소득층 1.4배\"   \n",
       "3  축구대표팀 소집된 백승호, 코로나19 확진‥원두재 대체 발탁   \n",
       "\n",
       "                                                 url  \\\n",
       "1  https://imnews.imbc.com/news/2022/society/arti...   \n",
       "2  https://imnews.imbc.com/news/2022/econo/articl...   \n",
       "3  https://imnews.imbc.com/news/2022/sports/artic...   \n",
       "\n",
       "                                                text  \n",
       "1  사진 제공: 연합뉴스중앙방역대책본부는 오늘 0시 기준 코로나19 신규 확진자가 35...  \n",
       "2  사진 제공: 연합뉴스코로나19 사태 속에서 물가 상승에 따른 부담이상대적으로 저소득...  \n",
       "3  사진 제공:연합뉴스이란과의 월드컵 최종예선을 앞둔 축구대표팀에 코로나19 비상이 걸...  "
      ]
     },
     "execution_count": 31,
     "metadata": {},
     "output_type": "execute_result"
    }
   ],
   "source": [
    "import sys, os\n",
    "import requests\n",
    "import selenium\n",
    "from selenium import webdriver\n",
    "import requests\n",
    "from pandas import DataFrame\n",
    "from bs4 import BeautifulSoup\n",
    "import re\n",
    "from datetime import datetime\n",
    "import pickle, json, glob, time\n",
    "from tqdm import tqdm\n",
    "\n",
    "\n",
    "\n",
    "###### 날짜 저장 ##########\n",
    "date = str(datetime.now())\n",
    "date = date[:date.rfind(':')].replace(' ', '_')\n",
    "date = date.replace(':','시') + '분'\n",
    "\n",
    "sleep_sec = 0.5\n",
    "\n",
    "\n",
    "####### 언론사별 본문 위치 태그 파싱 함수 ###########\n",
    "print('본문 크롤링에 필요한 함수를 로딩하고 있습니다...\\n' + '-' * 100)\n",
    "def crawling_main_text(url):\n",
    "\n",
    "    req = requests.get(url)\n",
    "    req.encoding = None\n",
    "    soup = BeautifulSoup(req.text, 'html.parser')\n",
    "    \n",
    "    # 연합뉴스\n",
    "    if ('://yna' in url) | ('app.yonhapnews' in url): \n",
    "        main_article = soup.find('article', {'class':'story-news article'})\n",
    "        if main_article == None:\n",
    "            main_article = soup.find('div', {'class' : 'article-txt'})\n",
    "            \n",
    "        text = main_article.text\n",
    "        \n",
    "    # MBC \n",
    "    elif '//imnews.imbc' in url: \n",
    "        text = soup.find('div', {'itemprop' : 'articleBody'}).text\n",
    "        \n",
    "    # 매일경제(미라클), req.encoding = None 설정 필요\n",
    "    elif 'mirakle.mk' in url:\n",
    "        text = soup.find('div', {'class' : 'view_txt'}).text\n",
    "        \n",
    "    # 매일경제, req.encoding = None 설정 필요\n",
    "    elif 'mk.co' in url:\n",
    "        text = soup.find('div', {'class' : 'art_txt'}).text\n",
    "        \n",
    "    # SBS\n",
    "    elif 'news.sbs' in url:\n",
    "        text = soup.find('div', {'itemprop' : 'articleBody'}).text\n",
    "    \n",
    "    # KBS\n",
    "    elif 'news.kbs' in url:\n",
    "        text = soup.find('div', {'id' : 'cont_newstext'}).text\n",
    "        \n",
    "    # JTBC\n",
    "    elif 'news.jtbc' in url:\n",
    "        text = soup.find('div', {'class' : 'article_content'}).text\n",
    "        \n",
    "    # 그 외\n",
    "    else:\n",
    "        text == None\n",
    "        \n",
    "    return text.replace('\\n','').replace('\\r','').replace('<br>','').replace('\\t','')\n",
    "    \n",
    "    \n",
    "press_nm = 'MBC'\n",
    "\n",
    "print('검색할 언론사 : {}'.format(press_nm))\n",
    "\n",
    "\n",
    "############### 브라우저를 켜고 검색 키워드 입력 ####################\n",
    "query = input('검색할 키워드  : ')\n",
    "news_num = int(input('수집 뉴스의 수(숫자만 입력) : '))\n",
    "\n",
    "print('\\n' + '=' * 100 + '\\n')\n",
    "\n",
    "print('브라우저를 실행시킵니다(자동 제어)\\n')\n",
    "chrome_path = 'C:/Users/jhjh3/chromedriver_win32 (1)/chromedriver.exe'\n",
    "browser = webdriver.Chrome(chrome_path)\n",
    "\n",
    "news_url = 'https://search.naver.com/search.naver?where=news&query={}'.format(query)\n",
    "browser.get(news_url)\n",
    "time.sleep(sleep_sec)\n",
    "\n",
    "\n",
    "######### 언론사 선택 및 confirm #####################\n",
    "print('설정한 언론사를 선택합니다.\\n')\n",
    "\n",
    "search_opn_btn = browser.find_element_by_xpath('//a[@class=\"btn_option _search_option_open_btn\"]')\n",
    "search_opn_btn.click()\n",
    "time.sleep(sleep_sec)\n",
    "\n",
    "bx_press = browser.find_element_by_xpath('//div[@role=\"listbox\" and @class=\"api_group_option_sort _search_option_detail_wrap\"]//li[@class=\"bx press\"]')\n",
    "\n",
    "# 기준 두번 째(언론사 분류순) 클릭하고 오픈하기\n",
    "press_tablist = bx_press.find_elements_by_xpath('.//div[@role=\"tablist\" and @class=\"option\"]/a')\n",
    "press_tablist[1].click()\n",
    "time.sleep(sleep_sec)\n",
    "\n",
    "# 첫 번째 것(언론사 분류선택)\n",
    "bx_group = bx_press.find_elements_by_xpath('.//div[@class=\"api_select_option type_group _category_select_layer\"]/div[@class=\"select_wrap _root\"]')[0]\n",
    "\n",
    "press_kind_bx = bx_group.find_elements_by_xpath('.//div[@class=\"group_select _list_root\"]')[0]\n",
    "press_kind_btn_list = press_kind_bx.find_elements_by_xpath('.//ul[@role=\"tablist\" and @class=\"lst_item _ul\"]/li/a')\n",
    "\n",
    "\n",
    "for press_kind_btn in press_kind_btn_list:\n",
    "    \n",
    "    # 언론사 종류를 순차적으로 클릭(좌측)\n",
    "    press_kind_btn.click()\n",
    "    time.sleep(sleep_sec)\n",
    "    \n",
    "    # 언론사선택(우측)\n",
    "    press_slct_bx = bx_group.find_elements_by_xpath('.//div[@class=\"group_select _list_root\"]')[1]\n",
    "    # 언론사 선택할 수 있는 클릭 버튼\n",
    "    press_slct_btn_list = press_slct_bx.find_elements_by_xpath('.//ul[@role=\"tablist\" and @class=\"lst_item _ul\"]/li/a')\n",
    "    # 언론사 이름들 추출\n",
    "    press_slct_btn_list_nm = [psl.text for psl in press_slct_btn_list]\n",
    "    \n",
    "    # 언론사 이름 : 언론사 클릭 버튼 인 딕셔너리 생성\n",
    "    press_slct_btn_dict = dict(zip(press_slct_btn_list_nm, press_slct_btn_list))\n",
    "    \n",
    "    # 원하는 언론사가 해당 이름 안에 있는 경우\n",
    "    # 1) 클릭하고\n",
    "    # 2) 더이상 언론사분류선택 탐색 중지\n",
    "    if press_nm in press_slct_btn_dict.keys():\n",
    "        print('<{}> 카테고리에서 <{}>를 찾았으므로 탐색을 종료합니다'.format(press_kind_btn.text, press_nm))\n",
    "        \n",
    "        press_slct_btn_dict[press_nm].click()\n",
    "        time.sleep(sleep_sec)\n",
    "        \n",
    "        break\n",
    "\n",
    "\n",
    "\n",
    "################ 뉴스 크롤링 ########################\n",
    "\n",
    "print('\\n크롤링을 시작합니다.')\n",
    "# ####동적 제어로 페이지 넘어가며 크롤링\n",
    "news_dict = {}\n",
    "idx = 1\n",
    "cur_page = 1\n",
    "\n",
    "pbar = tqdm(total=news_num ,leave = True)\n",
    "    \n",
    "while idx < news_num:\n",
    "\n",
    "    table = browser.find_element_by_xpath('//ul[@class=\"list_news\"]')\n",
    "    li_list = table.find_elements_by_xpath('./li[contains(@id, \"sp_nws\")]')\n",
    "    area_list = [li.find_element_by_xpath('.//div[@class=\"news_area\"]') for li in li_list]\n",
    "    a_list = [area.find_element_by_xpath('.//a[@class=\"news_tit\"]') for area in area_list]\n",
    " \n",
    "    for n in a_list[:min(len(a_list), news_num-idx+1)]:\n",
    "        n_url = n.get_attribute('href')\n",
    "        news_dict[idx] = {'title' : n.get_attribute('title'), \n",
    "                          'url' : n_url,\n",
    "                          'text' : crawling_main_text(n_url)}\n",
    "        \n",
    "        idx += 1\n",
    "        pbar.update(1)\n",
    "        \n",
    "    if idx < news_num:\n",
    "        cur_page +=1\n",
    "\n",
    "        pages = browser.find_element_by_xpath('//div[@class=\"sc_page_inner\"]')\n",
    "        next_page_url = [p for p in pages.find_elements_by_xpath('.//a') if p.text == str(cur_page)][0].get_attribute('href')\n",
    "\n",
    "        browser.get(next_page_url)\n",
    "        time.sleep(sleep_sec)\n",
    "    else:\n",
    "        pbar.close()\n",
    "        \n",
    "        print('\\n브라우저를 종료합니다.\\n' + '=' * 100)\n",
    "        time.sleep(0.7)\n",
    "        browser.close()\n",
    "        break\n",
    "\n",
    "#### 데이터 전처리하기 ###################################################### \n",
    "\n",
    "print('데이터프레임 변환\\n')\n",
    "news_df = DataFrame(news_dict).T\n",
    "\n",
    "folder_path = os.getcwd()\n",
    "xlsx_file_name = '네이버뉴스_본문_{}개_{}_{}.xlsx'.format(news_num, query, date)\n",
    "\n",
    "news_df.to_excel(xlsx_file_name)\n",
    "\n",
    "print('엑셀 저장 완료 | 경로 : {}\\\\{}\\n'.format(folder_path, xlsx_file_name))\n",
    "\n",
    "os.startfile(folder_path)\n",
    "\n",
    "print('=' * 100 + '\\n결과물의 일부')\n",
    "news_df"
   ]
  },
  {
   "cell_type": "code",
   "execution_count": 15,
   "id": "b2c04f83",
   "metadata": {},
   "outputs": [
    {
     "data": {
      "text/plain": [
       "'김잔디 기자기자 페이지식약처, 지난해 11월 질병청 요청 후 긴급사용승인 여부 검토\"안전성 우려에 따라 임부나 소아 사용 제한하는 방향으로 검토 중\" (서울=연합뉴스) 김잔디 기자 = 정부가 미국 머크앤드컴퍼니(MSD)의 먹는 코로나19 치료제 \\'라게브리오\\'(성분명 몰누피라비르)를 이번 주에 도입한다고 공식화한 가운데 식품의약품안전처가 늦어도 목요일인 24일까지는 이 약의 긴급사용승인 여부를 결정키로 했다. 식약처는 \"긴급사용승인 여부는 식약처의 검토 이후에 공중보건 위기대응 의료제품위원회 심의를 거쳐 식약처장이 결정하는 사안\"이라며 \"엄중한 상황임을 고려해 신속히 위원회를 개최하고 늦어도 이번 주 목요일(24일)까지 라게브리오의 긴급사용승인 여부를 발표하겠다\"고 21일 밝혔다.  이어 식약처는 \"비임상시험에서 제기된 안전성 우려와 관련해 임부나 소아의 사용을 제한하는 방향으로 검토 중\"이라고 덧붙였다. 광고 긴급사용승인은 감염병 대유행 등 공중보건 위기 상황에 적절히 대응하기 위해 제조·수입자가 국내에 허가되지 않은 의료제품을 공급하는 제도다. 질병관리청은 지난해 11월 17일 식약처에 라게브리오의 긴급사용승인을 요청했다.  현재 식약처는 코로나19 환자가 폭증함에 따라 \\'팍스로비드\\'나 \\'렘데시비르\\'를 사용하기 어려운 고위험 경증∼중등증 환자들을 위한 추가 선택지로서 라게브리오의 긴급사용승인 필요성을 검토 중이다. 안전성 및 유효성에 대한 자료, 외국의 허가·승인 및 사용 현황, 대체치료제 현황 등을 종합적으로 살펴보고 있다. 라게브리오는 지난해 12월 미국 식품의약국(FDA)의 긴급사용승인을 획득했다. FDA는 고위험군의 경증 코로나19 환자 중에서 다른 치료제가 없거나 의학적으로 적합한 경우에 몰누피라비르(라게브리오의 성분명)를 쓸 수 있도록 허용했다. 단 18세 이하 환자는 성장에 영향을 미칠 수 있다는 이유로 사용을 금지했다. 가임기 여성 환자는 약 복용 후 일정 기간 피임해야 하고, 남성은 마지막 복용 후 세달은 피임해야 한다고 봤다. 최근 세계보건기구(WHO)에서도 코로나19 치료 가이드라인에 몰누피라비르를 추가했다. WHO 역시 어린이와 임산부, 수유부는 몰누피라비르를 투여해선 안 된다는 조건을 달았다. 코로나19 치료 알약 \\'몰누피라비르\\' (PG)[박은주 제작] 사진합성·일러스트 jandi@yna.co.kr제보는 카카오톡 okjebo<저작권자(c) 연합뉴스,무단 전재-재배포 금지>2022/03/21 14:02 송고'"
      ]
     },
     "execution_count": 15,
     "metadata": {},
     "output_type": "execute_result"
    }
   ],
   "source": [
    "news_df.text[1]"
   ]
  },
  {
   "cell_type": "code",
   "execution_count": 14,
   "id": "fdfb01c0",
   "metadata": {
    "scrolled": true
   },
   "outputs": [
    {
     "data": {
      "text/plain": [
       "'{\"summary\":\"김잔디 기자기자 페이지식약처, 지난해 11월 질병청 요청 후 긴급사용승인 여부 검토\\\\\"안전성 우려에 따라 임부나 소아 사용 제한하는 방향으로 검토 중\\\\\" (서울=연합뉴스) 김잔디 기자 = 정부가 미국 머크앤드컴퍼니(MSD)의 먹는 코로나19 치료제 \\'라게브리오\\'(성분명 몰누피라비르)를 이번 주에 도입한다고 공식화한 가운데 식품의약품안전처가 늦어도 목요일인 24일까지는 이 약의 긴급사용승인 여부를 결정키로 했습니다.\\\\n질병관리청은 지난해 11월 17일 식약처에 라게브리오의 긴급사용승인을 요청했습니다.\\\\n현재 식약처는 코로나19 환자가 폭증함에 따라 \\'팍스로비드\\'나 \\'렘데시비르\\'를 사용하기 어려운 고위험 경증∼중등증 환자들을 위한 추가 선택지로서 라게브리오의 긴급사용승인 필요성을 검토 중입니다.\"}'"
      ]
     },
     "execution_count": 14,
     "metadata": {},
     "output_type": "execute_result"
    }
   ],
   "source": [
    "response.text "
   ]
  },
  {
   "cell_type": "code",
   "execution_count": 19,
   "id": "94dbfcc8",
   "metadata": {
    "scrolled": true
   },
   "outputs": [
    {
     "name": "stdout",
     "output_type": "stream",
     "text": [
      "식약처, 지난해 11월 질병청 요청 후 긴급사용승인 여부 검토\\\"안전성 우려에 따라 임부나 소아 사용 제한하는 방향으로 검토 중\\\" (서울=연합뉴스) 김잔디 기자 = 정부가 미국 머크앤드컴퍼니(MSD)의 먹는 코로나19 치료제 '라게브리오'(성분명 몰누피라비르)를 이번 주에 도입한다고 공식화한 가운데 식품의약품안전처가 늦어도 목요일인 24일까지는 이 약의 긴급사용승인 여부를 결정키로 했습니다.\\n질병관리청은 지난해 11월 17일 식약처에 라게브리오의 긴급사용승인을 요청했습니다.\\n현재 식약처는 코로나19 환자가 폭증함에 따라 '팍스로비드'나 '렘데시비르'를 사용하기 어려운 고위험 경증∼중등증 환자들을 위한 추가 선택지로서 라게브리오의 긴급사용승인 필요성을 검토 중입니다.\"}\n"
     ]
    }
   ],
   "source": [
    "import requests\n",
    "import json\n",
    "\n",
    "url = \"https://naveropenapi.apigw.ntruss.com/text-summary/v1/summarize\"\n",
    "\n",
    "document = {\"title\": news_df.title[1],\n",
    "            \"content\": news_df.text[1]}\n",
    "            \n",
    "option =  {\"language\": \"ko\", \n",
    "           \"model\": \"news\",\n",
    "           \"tone\": 2,\n",
    "           \"summaryCount\": 3}\n",
    "\n",
    "msg = {'document':document, 'option':option}\n",
    "\n",
    "payload = json.dumps(msg)\n",
    "\n",
    "\n",
    "headers = {\n",
    "  'X-NCP-APIGW-API-KEY-ID': 'qj40wl5n0t',\n",
    "  'X-NCP-APIGW-API-KEY': '1xzXEYgwlsbv9RQxd1onUSByiyvtBDPFV9NEY1mv',\n",
    "  'Content-Type': 'application/json'\n",
    "}\n",
    "\n",
    "response = requests.request(\"POST\", url, headers=headers, data=payload)\n",
    "\n",
    "# print(response.text)\n",
    "\n",
    "r1=response.text  \n",
    "r1r1=r1.split('페이지')[1]\n",
    "print(r1r1)"
   ]
  },
  {
   "cell_type": "code",
   "execution_count": 19,
   "id": "c1832f82",
   "metadata": {
    "scrolled": true
   },
   "outputs": [
    {
     "name": "stdout",
     "output_type": "stream",
     "text": [
      "식약처, 지난해 11월 질병청 요청 후 긴급사용승인 여부 검토\\\"안전성 우려에 따라 임부나 소아 사용 제한하는 방향으로 검토 중\\\" (서울=연합뉴스) 김잔디 기자 = 정부가 미국 머크앤드컴퍼니(MSD)의 먹는 코로나19 치료제 '라게브리오'(성분명 몰누피라비르)를 이번 주에 도입한다고 공식화한 가운데 식품의약품안전처가 늦어도 목요일인 24일까지는 이 약의 긴급사용승인 여부를 결정키로 했습니다.\\n질병관리청은 지난해 11월 17일 식약처에 라게브리오의 긴급사용승인을 요청했습니다.\\n현재 식약처는 코로나19 환자가 폭증함에 따라 '팍스로비드'나 '렘데시비르'를 사용하기 어려운 고위험 경증∼중등증 환자들을 위한 추가 선택지로서 라게브리오의 긴급사용승인 필요성을 검토 중입니다.\"}\n"
     ]
    }
   ],
   "source": [
    "url = \"https://naveropenapi.apigw.ntruss.com/text-summary/v1/summarize\"\n",
    "document = {\"title\": news_df.title[1],\n",
    "            \"content\": news_df.text[1]}            \n",
    "option =  {\"language\": \"ko\", \n",
    "           \"model\": \"news\",\n",
    "           \"tone\": 2,\n",
    "           \"summaryCount\": 3}\n",
    "msg = {'document':document, 'option':option}\n",
    "payload = json.dumps(msg)\n",
    "headers = {\n",
    "  'X-NCP-APIGW-API-KEY-ID': '*',\n",
    "  'X-NCP-APIGW-API-KEY': '*',\n",
    "  'Content-Type': 'application/json'\n",
    "}\n",
    "response = requests.request(\"POST\", url, headers=headers, data=payload)\n",
    "\n",
    "print(response.text)\n",
    "\n",
    "r1=response.text  \n",
    "r1r1=r1.split('페이지')[1]\n",
    "print(r1r1)"
   ]
  },
  {
   "cell_type": "code",
   "execution_count": 25,
   "id": "00bd5c59",
   "metadata": {
    "scrolled": true
   },
   "outputs": [
    {
     "name": "stdout",
     "output_type": "stream",
     "text": [
      "식약처, 지난해 11월 질병청 요청 후 긴급사용승인 여부 검토\\\"안전성 우려에 따라 임부나 소아 사용 제한하는 방향으로 검토 중\\\" (서울=연합뉴스) 김잔디 기자 = 정부가 미국 머크앤드컴퍼니(MSD)의 먹는 코로나19 치료제 '라게브리오'(성분명 몰누피라비르)를 이번 주에 도입한다고 공식화한 가운데 식품의약품안전처가 늦어도 목요일인 24일까지는 이 약의 긴급사용승인 여부를 결정키로 했습니다.\\n질병관리청은 지난해 11월 17일 식약처에 라게브리오의 긴급사용승인을 요청했습니다.\\n현재 식약처는 코로나19 환자가 폭증함에 따라 '팍스로비드'나 '렘데시비르'를 사용하기 어려운 고위험 경증∼중등증 환자들을 위한 추가 선택지로서 라게브리오의 긴급사용승인 필요성을 검토 중입니다.\"}\n",
      "Error : {\"status\":400,\"error\":{\"errorCode\":\"E003\",\"message\":\"Text quota Exceeded\"}}\n",
      "식약처, 지난해 11월 질병청 요청 후 긴급사용승인 여부 검토\\\"안전성 우려에 따라 임부나 소아 사용 제한하는 방향으로 검토 중\\\" (서울=연합뉴스) 김잔디 기자 = 정부가 미국 머크앤드컴퍼니(MSD)의 먹는 코로나19 치료제 '라게브리오'(성분명 몰누피라비르)를 이번 주에 도입한다고 공식화한 가운데 식품의약품안전처가 늦어도 목요일인 24일까지는 이 약의 긴급사용승인 여부를 결정키로 했습니다.\\n질병관리청은 지난해 11월 17일 식약처에 라게브리오의 긴급사용승인을 요청했습니다.\\n현재 식약처는 코로나19 환자가 폭증함에 따라 '팍스로비드'나 '렘데시비르'를 사용하기 어려운 고위험 경증∼중등증 환자들을 위한 추가 선택지로서 라게브리오의 긴급사용승인 필요성을 검토 중입니다.\"}\n",
      "\\\"지표변동은 일단 긍정적…이런 경향 반복된다면 지난주 정점\\\"한의원서도 전문가용 신속항원검사 요청에 \\\"관련내용 검토중\\\"코로나19 신속항원검사 결과 대기(서울=연합뉴스) 강민지 기자 = 21일 오전 서울역 선별진료소에서 시민들이 신속항원검사 결과를 기다리고 있습니다.\\n2022.3.21 mjkang@yna.co.kr (서울=연합뉴스) 신선미 박규리 기자 = 지난 17일 60만명대로 치솟았던 코로나19 신규 확진자 수가 나흘만인 21일 20만명대로 떨어진 가운데, 정부는 유행이 누그러졌는지 여부는 상황을 더 지켜본 뒤 판단할 수 있다고 평가했습니다.\\n손영래 중앙사고수습본부(중수본) 사회전략반장은 이날 백브리핑에서 유행 정점을 이미 지난 게 아니냐는 질의에 \\\"지금 단언하는 것은 이르다\\\"며 \\\"주말 영향이 사라지면서 수요일부터 확진자가 급증하는 현상이 나타나기 때문에 수요일, 목요일까지 보면서 평가할 필요가 있다\\\"고 답변했습니다.\"}\n"
     ]
    }
   ],
   "source": [
    "len(news_df.title)\n",
    "\n",
    "import os\n",
    "import sys\n",
    "import requests\n",
    "import json\n",
    "import urllib.request\n",
    "\n",
    "client_id = \"qj40wl5n0t\"\n",
    "client_secret = \"1xzXEYgwlsbv9RQxd1onUSByiyvtBDPFV9NEY1mv\"\n",
    "\n",
    "for i in range(1, len(news_df.title)+1):\n",
    "    headers = {\n",
    "    \"X-NCP-APIGW-API-KEY-ID\": client_id,\n",
    "    \"X-NCP-APIGW-API-KEY\": client_secret,\n",
    "    \"Content-Type\": \"application/json\"\n",
    "}\n",
    "    language = \"ko\" # Language of document (ko, ja )\n",
    "    model = \"news\" # Model used for summaries (general, news)\n",
    "    tone = \"2\" # Converts the tone of the summarized result. (0, 1, 2, 3)\n",
    "    summaryCount = \"3\" # This is the number of sentences for the summarized document.\n",
    "    url= \"https://naveropenapi.apigw.ntruss.com/text-summary/v1/summarize\" \n",
    "    title= \"\"\n",
    "    content = news_df.text[i]\n",
    "    data = {\n",
    "        \"document\": {\n",
    "        \"title\": title,\n",
    "        \"content\" : content\n",
    "        },\n",
    "        \"option\": {\n",
    "        \"language\": language,\n",
    "        \"model\": model,\n",
    "        \"tone\": tone,\n",
    "        \"summaryCount\" : summaryCount\n",
    "        }\n",
    "    }\n",
    "    # print(json.dumps(data, indent=4, sort_keys=True))\n",
    "    response = requests.post(url, data=json.dumps(data), headers=headers)\n",
    "    rescode = response.status_code\n",
    "    if(rescode == 200):\n",
    "        r1=response.text  \n",
    "        # print(r1)\n",
    "\n",
    "    else:\n",
    "        print(\"Error : \" + response.text)\n",
    "\n",
    "    r1r1=r1.split('페이지')[1]\n",
    "    print(r1r1)\n"
   ]
  },
  {
   "cell_type": "markdown",
   "id": "fd50ef5e",
   "metadata": {},
   "source": [
    "#### 요약 후 음성파일에 넣는데 뉴스 기사 구성마다 차이가 있어서 오류가 나는 뉴스도 확인된다..."
   ]
  },
  {
   "cell_type": "code",
   "execution_count": 26,
   "id": "2ab5eb85",
   "metadata": {},
   "outputs": [
    {
     "name": "stdout",
     "output_type": "stream",
     "text": [
      "식약처, 지난해 11월 질병청 요청 후 긴급사용승인 여부 검토\\\"안전성 우려에 따라 임부나 소아 사용 제한하는 방향으로 검토 중\\\" (서울=연합뉴스) 김잔디 기자 = 정부가 미국 머크앤드컴퍼니(MSD)의 먹는 코로나19 치료제 '라게브리오'(성분명 몰누피라비르)를 이번 주에 도입한다고 공식화한 가운데 식품의약품안전처가 늦어도 목요일인 24일까지는 이 약의 긴급사용승인 여부를 결정키로 했습니다.\\n질병관리청은 지난해 11월 17일 식약처에 라게브리오의 긴급사용승인을 요청했습니다.\\n현재 식약처는 코로나19 환자가 폭증함에 따라 '팍스로비드'나 '렘데시비르'를 사용하기 어려운 고위험 경증∼중등증 환자들을 위한 추가 선택지로서 라게브리오의 긴급사용승인 필요성을 검토 중입니다.\"}\n",
      "TTS mp3 저장\n",
      "Error : {\"status\":400,\"error\":{\"errorCode\":\"E003\",\"message\":\"Text quota Exceeded\"}}\n",
      "식약처, 지난해 11월 질병청 요청 후 긴급사용승인 여부 검토\\\"안전성 우려에 따라 임부나 소아 사용 제한하는 방향으로 검토 중\\\" (서울=연합뉴스) 김잔디 기자 = 정부가 미국 머크앤드컴퍼니(MSD)의 먹는 코로나19 치료제 '라게브리오'(성분명 몰누피라비르)를 이번 주에 도입한다고 공식화한 가운데 식품의약품안전처가 늦어도 목요일인 24일까지는 이 약의 긴급사용승인 여부를 결정키로 했습니다.\\n질병관리청은 지난해 11월 17일 식약처에 라게브리오의 긴급사용승인을 요청했습니다.\\n현재 식약처는 코로나19 환자가 폭증함에 따라 '팍스로비드'나 '렘데시비르'를 사용하기 어려운 고위험 경증∼중등증 환자들을 위한 추가 선택지로서 라게브리오의 긴급사용승인 필요성을 검토 중입니다.\"}\n",
      "TTS mp3 저장\n",
      "\\\"지표변동은 일단 긍정적…이런 경향 반복된다면 지난주 정점\\\"한의원서도 전문가용 신속항원검사 요청에 \\\"관련내용 검토중\\\"코로나19 신속항원검사 결과 대기(서울=연합뉴스) 강민지 기자 = 21일 오전 서울역 선별진료소에서 시민들이 신속항원검사 결과를 기다리고 있습니다.\\n2022.3.21 mjkang@yna.co.kr (서울=연합뉴스) 신선미 박규리 기자 = 지난 17일 60만명대로 치솟았던 코로나19 신규 확진자 수가 나흘만인 21일 20만명대로 떨어진 가운데, 정부는 유행이 누그러졌는지 여부는 상황을 더 지켜본 뒤 판단할 수 있다고 평가했습니다.\\n손영래 중앙사고수습본부(중수본) 사회전략반장은 이날 백브리핑에서 유행 정점을 이미 지난 게 아니냐는 질의에 \\\"지금 단언하는 것은 이르다\\\"며 \\\"주말 영향이 사라지면서 수요일부터 확진자가 급증하는 현상이 나타나기 때문에 수요일, 목요일까지 보면서 평가할 필요가 있다\\\"고 답변했습니다.\"}\n",
      "TTS mp3 저장\n"
     ]
    }
   ],
   "source": [
    "len(news_df.title)\n",
    "\n",
    "import os\n",
    "import sys\n",
    "import requests\n",
    "import json\n",
    "import urllib.request\n",
    "\n",
    "client_id = \"qj40wl5n0t\"\n",
    "client_secret = \"1xzXEYgwlsbv9RQxd1onUSByiyvtBDPFV9NEY1mv\"\n",
    "\n",
    "for i in range(1, len(news_df.title)+1):\n",
    "    headers = {\n",
    "    \"X-NCP-APIGW-API-KEY-ID\": client_id,\n",
    "    \"X-NCP-APIGW-API-KEY\": client_secret,\n",
    "    \"Content-Type\": \"application/json\"\n",
    "}\n",
    "    language = \"ko\" # Language of document (ko, ja )\n",
    "    model = \"news\" # Model used for summaries (general, news)\n",
    "    tone = \"2\" # Converts the tone of the summarized result. (0, 1, 2, 3)\n",
    "    summaryCount = \"3\" # This is the number of sentences for the summarized document.\n",
    "    url= \"https://naveropenapi.apigw.ntruss.com/text-summary/v1/summarize\" \n",
    "    title= \"\"\n",
    "    content = news_df.text[i]\n",
    "    data = {\n",
    "        \"document\": {\n",
    "        \"title\": title,\n",
    "        \"content\" : content\n",
    "        },\n",
    "        \"option\": {\n",
    "        \"language\": language,\n",
    "        \"model\": model,\n",
    "        \"tone\": tone,\n",
    "        \"summaryCount\" : summaryCount\n",
    "        }\n",
    "    }\n",
    "    # print(json.dumps(data, indent=4, sort_keys=True))\n",
    "    response = requests.post(url, data=json.dumps(data), headers=headers)\n",
    "    rescode = response.status_code\n",
    "    if(rescode == 200):\n",
    "        r1=response.text  \n",
    "        # print(r1)\n",
    "\n",
    "    else:\n",
    "        print(\"Error : \" + response.text)\n",
    "\n",
    "    r1r1=r1.split('페이지')[1]\n",
    "    print(r1r1)\n",
    "\n",
    "\n",
    "    ## 읽어줘요\n",
    "\n",
    "    encText = urllib.parse.quote(r1r1)\n",
    "    data = \"speaker=nara&volume=0&speed=0&pitch=0&format=mp3&text=\" + encText;\n",
    "    url = \"https://naveropenapi.apigw.ntruss.com/tts-premium/v1/tts\"\n",
    "    request = urllib.request.Request(url)\n",
    "    request.add_header(\"X-NCP-APIGW-API-KEY-ID\",client_id)\n",
    "    request.add_header(\"X-NCP-APIGW-API-KEY\",client_secret)\n",
    "    response = urllib.request.urlopen(request, data=data.encode('utf-8'))\n",
    "    rescode = response.getcode()\n",
    "    if(rescode==200):\n",
    "        print(\"TTS mp3 저장\")\n",
    "        response_body = response.read()\n",
    "        with open('1111.mp3', 'wb') as f:\n",
    "            f.write(response_body)\n",
    "    else:\n",
    "        print(\"Error Code:\" + rescode)"
   ]
  },
  {
   "cell_type": "code",
   "execution_count": 28,
   "id": "343cdcd1",
   "metadata": {
    "scrolled": true
   },
   "outputs": [
    {
     "ename": "TypeError",
     "evalue": "quote_from_bytes() expected bytes",
     "output_type": "error",
     "traceback": [
      "\u001b[1;31m---------------------------------------------------------------------------\u001b[0m",
      "\u001b[1;31mTypeError\u001b[0m                                 Traceback (most recent call last)",
      "\u001b[1;32mC:\\Users\\Public\\Documents\\ESTsoft\\CreatorTemp/ipykernel_20648/3375050022.py\u001b[0m in \u001b[0;36m<module>\u001b[1;34m\u001b[0m\n\u001b[0;32m      4\u001b[0m \u001b[0mclient_id\u001b[0m \u001b[1;33m=\u001b[0m \u001b[1;34m\"qj40wl5n0t\"\u001b[0m\u001b[1;33m\u001b[0m\u001b[1;33m\u001b[0m\u001b[0m\n\u001b[0;32m      5\u001b[0m \u001b[0mclient_secret\u001b[0m \u001b[1;33m=\u001b[0m \u001b[1;34m\"1xzXEYgwlsbv9RQxd1onUSByiyvtBDPFV9NEY1mv\"\u001b[0m\u001b[1;33m\u001b[0m\u001b[1;33m\u001b[0m\u001b[0m\n\u001b[1;32m----> 6\u001b[1;33m \u001b[0mencText\u001b[0m \u001b[1;33m=\u001b[0m \u001b[0murllib\u001b[0m\u001b[1;33m.\u001b[0m\u001b[0mparse\u001b[0m\u001b[1;33m.\u001b[0m\u001b[0mquote\u001b[0m\u001b[1;33m(\u001b[0m\u001b[0mnews_list\u001b[0m\u001b[1;33m)\u001b[0m\u001b[1;33m\u001b[0m\u001b[1;33m\u001b[0m\u001b[0m\n\u001b[0m\u001b[0;32m      7\u001b[0m \u001b[0mdata\u001b[0m \u001b[1;33m=\u001b[0m \u001b[1;34m\"speaker=njinho&volume=0&speed=0&pitch=0&format=mp3&text=\"\u001b[0m \u001b[1;33m+\u001b[0m \u001b[0mencText\u001b[0m\u001b[1;33m;\u001b[0m\u001b[1;33m\u001b[0m\u001b[1;33m\u001b[0m\u001b[0m\n\u001b[0;32m      8\u001b[0m \u001b[0murl\u001b[0m \u001b[1;33m=\u001b[0m \u001b[1;34m\"https://naveropenapi.apigw.ntruss.com/tts-premium/v1/tts\"\u001b[0m\u001b[1;33m\u001b[0m\u001b[1;33m\u001b[0m\u001b[0m\n",
      "\u001b[1;32m~\\anaconda3\\lib\\urllib\\parse.py\u001b[0m in \u001b[0;36mquote\u001b[1;34m(string, safe, encoding, errors)\u001b[0m\n\u001b[0;32m    869\u001b[0m         \u001b[1;32mif\u001b[0m \u001b[0merrors\u001b[0m \u001b[1;32mis\u001b[0m \u001b[1;32mnot\u001b[0m \u001b[1;32mNone\u001b[0m\u001b[1;33m:\u001b[0m\u001b[1;33m\u001b[0m\u001b[1;33m\u001b[0m\u001b[0m\n\u001b[0;32m    870\u001b[0m             \u001b[1;32mraise\u001b[0m \u001b[0mTypeError\u001b[0m\u001b[1;33m(\u001b[0m\u001b[1;34m\"quote() doesn't support 'errors' for bytes\"\u001b[0m\u001b[1;33m)\u001b[0m\u001b[1;33m\u001b[0m\u001b[1;33m\u001b[0m\u001b[0m\n\u001b[1;32m--> 871\u001b[1;33m     \u001b[1;32mreturn\u001b[0m \u001b[0mquote_from_bytes\u001b[0m\u001b[1;33m(\u001b[0m\u001b[0mstring\u001b[0m\u001b[1;33m,\u001b[0m \u001b[0msafe\u001b[0m\u001b[1;33m)\u001b[0m\u001b[1;33m\u001b[0m\u001b[1;33m\u001b[0m\u001b[0m\n\u001b[0m\u001b[0;32m    872\u001b[0m \u001b[1;33m\u001b[0m\u001b[0m\n\u001b[0;32m    873\u001b[0m \u001b[1;32mdef\u001b[0m \u001b[0mquote_plus\u001b[0m\u001b[1;33m(\u001b[0m\u001b[0mstring\u001b[0m\u001b[1;33m,\u001b[0m \u001b[0msafe\u001b[0m\u001b[1;33m=\u001b[0m\u001b[1;34m''\u001b[0m\u001b[1;33m,\u001b[0m \u001b[0mencoding\u001b[0m\u001b[1;33m=\u001b[0m\u001b[1;32mNone\u001b[0m\u001b[1;33m,\u001b[0m \u001b[0merrors\u001b[0m\u001b[1;33m=\u001b[0m\u001b[1;32mNone\u001b[0m\u001b[1;33m)\u001b[0m\u001b[1;33m:\u001b[0m\u001b[1;33m\u001b[0m\u001b[1;33m\u001b[0m\u001b[0m\n",
      "\u001b[1;32m~\\anaconda3\\lib\\urllib\\parse.py\u001b[0m in \u001b[0;36mquote_from_bytes\u001b[1;34m(bs, safe)\u001b[0m\n\u001b[0;32m    894\u001b[0m     \"\"\"\n\u001b[0;32m    895\u001b[0m     \u001b[1;32mif\u001b[0m \u001b[1;32mnot\u001b[0m \u001b[0misinstance\u001b[0m\u001b[1;33m(\u001b[0m\u001b[0mbs\u001b[0m\u001b[1;33m,\u001b[0m \u001b[1;33m(\u001b[0m\u001b[0mbytes\u001b[0m\u001b[1;33m,\u001b[0m \u001b[0mbytearray\u001b[0m\u001b[1;33m)\u001b[0m\u001b[1;33m)\u001b[0m\u001b[1;33m:\u001b[0m\u001b[1;33m\u001b[0m\u001b[1;33m\u001b[0m\u001b[0m\n\u001b[1;32m--> 896\u001b[1;33m         \u001b[1;32mraise\u001b[0m \u001b[0mTypeError\u001b[0m\u001b[1;33m(\u001b[0m\u001b[1;34m\"quote_from_bytes() expected bytes\"\u001b[0m\u001b[1;33m)\u001b[0m\u001b[1;33m\u001b[0m\u001b[1;33m\u001b[0m\u001b[0m\n\u001b[0m\u001b[0;32m    897\u001b[0m     \u001b[1;32mif\u001b[0m \u001b[1;32mnot\u001b[0m \u001b[0mbs\u001b[0m\u001b[1;33m:\u001b[0m\u001b[1;33m\u001b[0m\u001b[1;33m\u001b[0m\u001b[0m\n\u001b[0;32m    898\u001b[0m         \u001b[1;32mreturn\u001b[0m \u001b[1;34m''\u001b[0m\u001b[1;33m\u001b[0m\u001b[1;33m\u001b[0m\u001b[0m\n",
      "\u001b[1;31mTypeError\u001b[0m: quote_from_bytes() expected bytes"
     ]
    }
   ],
   "source": [
    "import os\n",
    "import sys\n",
    "import urllib.request\n",
    "client_id = \"qj40wl5n0t\"\n",
    "client_secret = \"1xzXEYgwlsbv9RQxd1onUSByiyvtBDPFV9NEY1mv\"\n",
    "encText = urllib.parse.quote(news_list)\n",
    "data = \"speaker=njinho&volume=0&speed=0&pitch=0&format=mp3&text=\" + encText;\n",
    "url = \"https://naveropenapi.apigw.ntruss.com/tts-premium/v1/tts\"\n",
    "request = urllib.request.Request(url)\n",
    "request.add_header(\"X-NCP-APIGW-API-KEY-ID\",client_id)\n",
    "request.add_header(\"X-NCP-APIGW-API-KEY\",client_secret)\n",
    "response = urllib.request.urlopen(request, data=data.encode('utf-8'))\n",
    "rescode = response.getcode()\n",
    "if(rescode==200):\n",
    "    print(\"TTS mp3 저장\")\n",
    "    response_body = response.read()\n",
    "    with open('1115.mp3', 'wb') as f:\n",
    "        f.write(response_body)\n",
    "else:\n",
    "    print(\"Error Code:\" + rescode)"
   ]
  },
  {
   "cell_type": "markdown",
   "id": "2775c180",
   "metadata": {},
   "source": [
    "## 뉴스 구분 넣고, 음성파일 voice{}.mp3로 각각 만들기"
   ]
  },
  {
   "cell_type": "code",
   "execution_count": 74,
   "id": "92d7546e",
   "metadata": {},
   "outputs": [
    {
     "name": "stdout",
     "output_type": "stream",
     "text": [
      "1번째 뉴스입니다.사진 제공: 연합뉴스중앙방역대책본부는 오늘 0시 기준 코로나19 신규 확진자가 35만3,980명으로 집계됐다고 밝혔습니다.\n",
      "지역별로는 경기 96,257명, 서울 65,033명 등 수도권에서 17만8,859명이 확진됐고, 비수도권에서는 17만5,121명이 양성 판정을 받았습니다.\n",
      "위중증 환자는 26명이 줄어 1천104명이고, 어제 하루 코로나로 인한 사망자는 384명으로 코로나19 사태 발생 이후 역대 두번째로 많았습니다.\n",
      "TTS mp3 저장\n",
      "2번째 뉴스입니다.사진 제공: 연합뉴스코로나19 사태 속에서 물가 상승에 따른 부담이상대적으로 저소득층에 집중됐다는 분석이 나왔습니다.\n",
      "한경연은 이같은 결과에 대해 저소득층 지출 비중이 높은 품목의 물가가 상대적으로 크게 상승했기 때문이라고 설명했습니다.\n",
      "저소득층인 소득 1분위 지출 비중이 5분위보다 높은 <주거·수도·광열>, <식료품>, <보건> 물가는 평균 3.7% 상승한 반면 5분위의 지출 비중이 1분위보다 더 높은 <교육>, <교통>, <음식·숙박> 물가는 평균 0.7% 상승하는 데 그쳤습니다.\n",
      "TTS mp3 저장\n",
      "3번째 뉴스입니다.사진 제공:연합뉴스이란과의 월드컵 최종예선을 앞둔 축구대표팀에 코로나19 비상이 걸렸습니다.\n",
      "백승호는 대표팀 소집 첫날인 어제 15명의 선수 대상으로 실시한 신속항원검사에서 양성 반응을 보였고 이어진 PCR 검사에서도 확진 판정을 받았습니다.\n",
      "대표팀은 해외파를 포함해 오늘 25명이 모두 모일 예정인 가운데, 경기 48시간 전인 오늘 저녁 전원 코로나19 검사를 실시할 예정입니다.\n",
      "TTS mp3 저장\n"
     ]
    }
   ],
   "source": [
    "len(news_df.title)\n",
    "# news_list = []\n",
    "\n",
    "import os\n",
    "import sys\n",
    "import requests\n",
    "import json\n",
    "import urllib.request\n",
    "\n",
    "client_id = \"qj40wl5n0t\"\n",
    "client_secret = \"1xzXEYgwlsbv9RQxd1onUSByiyvtBDPFV9NEY1mv\"\n",
    "\n",
    "for i in range(len(news_df.title)):\n",
    "    headers = {\n",
    "    \"X-NCP-APIGW-API-KEY-ID\": client_id,\n",
    "    \"X-NCP-APIGW-API-KEY\": client_secret,\n",
    "    \"Content-Type\": \"application/json\"\n",
    "}\n",
    "    language = \"ko\" # Language of document (ko, ja )\n",
    "    model = \"news\" # Model used for summaries (general, news)\n",
    "    tone = \"2\" # Converts the tone of the summarized result. (0, 1, 2, 3)\n",
    "    summaryCount = \"3\" # This is the number of sentences for the summarized document.\n",
    "    url= \"https://naveropenapi.apigw.ntruss.com/text-summary/v1/summarize\" \n",
    "    title= \"\"\n",
    "    content = news_df.text[i+1]\n",
    "    data = {\n",
    "        \"document\": {\n",
    "        \"title\": title,\n",
    "        \"content\" : content\n",
    "        },\n",
    "        \"option\": {\n",
    "        \"language\": language,\n",
    "        \"model\": model,\n",
    "        \"tone\": tone,\n",
    "        \"summaryCount\" : summaryCount\n",
    "        }\n",
    "    }\n",
    "    # print(json.dumps(data, indent=4, sort_keys=True))\n",
    "    response = requests.post(url, data=json.dumps(data), headers=headers)\n",
    "    rescode = response.status_code\n",
    "    if(rescode == 200):\n",
    "        r1=response.text  \n",
    "        # print(r1)\n",
    "\n",
    "    else:\n",
    "        print(\"Error : \" + response.text)\n",
    "\n",
    "    r1 = json.loads(r1)\n",
    "    r1r1= r1['summary']\n",
    "#    r1r1= r1.split('연합뉴스')   \n",
    "    r1r1 = '{}번째 뉴스입니다.{}'.format(i+1, r1r1)\n",
    "    print(r1r1)\n",
    "    \n",
    "\n",
    "#print(news_list)\n",
    "#type(news_list)\n",
    "\n",
    "    ## 읽어줘요\n",
    "\n",
    "    encText = urllib.parse.quote(r1r1)\n",
    "    data = \"speaker=njihun&volume=0&speed=0&pitch=0&format=mp3&text=\" + encText;\n",
    "    url = \"https://naveropenapi.apigw.ntruss.com/tts-premium/v1/tts\"\n",
    "    request = urllib.request.Request(url)\n",
    "    request.add_header(\"X-NCP-APIGW-API-KEY-ID\",client_id)\n",
    "    request.add_header(\"X-NCP-APIGW-API-KEY\",client_secret)\n",
    "    response = urllib.request.urlopen(request, data=data.encode('utf-8'))\n",
    "    rescode = response.getcode()\n",
    "    if(rescode==200):\n",
    "        print(\"TTS mp3 저장\")\n",
    "        response_body = response.read()\n",
    "        fn = 'voice{}.mp3'.format(i+1,fn)\n",
    "        \n",
    "        with open(fn, 'wb') as f:\n",
    "            f.write(response_body)\n",
    "    else:\n",
    "        print(\"Error Code:\" + rescode)\n",
    "        \n",
    "#playsound('voice1.mp3')\n",
    "#playsound.playsound('voice1.mp3')\n"
   ]
  },
  {
   "cell_type": "code",
   "execution_count": 42,
   "id": "9b6cdf5b",
   "metadata": {},
   "outputs": [
    {
     "name": "stdout",
     "output_type": "stream",
     "text": [
      "Collecting playsound\n",
      "  Downloading playsound-1.3.0.tar.gz (7.7 kB)\n",
      "Building wheels for collected packages: playsound\n",
      "  Building wheel for playsound (setup.py): started\n",
      "  Building wheel for playsound (setup.py): finished with status 'done'\n",
      "  Created wheel for playsound: filename=playsound-1.3.0-py3-none-any.whl size=7037 sha256=f492506833b817cdb4b4a3a5ba83515f0f5551145edd0e1ef487056c53f00a9b\n",
      "  Stored in directory: c:\\users\\jhjh3\\appdata\\local\\pip\\cache\\wheels\\ba\\39\\54\\c8f7ff9a88a644d3c58b4dec802d90b79a2e0fb2a6b884bf82\n",
      "Successfully built playsound\n",
      "Installing collected packages: playsound\n",
      "Successfully installed playsound-1.3.0\n"
     ]
    }
   ],
   "source": [
    "!pip install playsound"
   ]
  },
  {
   "cell_type": "code",
   "execution_count": 48,
   "id": "e200af25",
   "metadata": {},
   "outputs": [],
   "source": [
    "from playsound import playsound"
   ]
  },
  {
   "cell_type": "code",
   "execution_count": 70,
   "id": "01b5f043",
   "metadata": {},
   "outputs": [],
   "source": [
    "playsound('./voice1.mp3')\n",
    "playsound('./voice2.mp3')\n",
    "playsound('./voice3.mp3')"
   ]
  },
  {
   "cell_type": "code",
   "execution_count": 71,
   "id": "4b398b4d",
   "metadata": {},
   "outputs": [],
   "source": [
    "audio1 = open(\"voice1.mp3\", \"rb\").read()\n",
    "audio2 = open(\"voice2.mp3\", \"rb\").read()\n",
    "audio3 = open(\"voice3.mp3\", \"rb\").read()\n",
    "audioJoin = audio1 + audio2 + audio3\n",
    "audioFinal = open(\"audioFinal.mp3\", \"wb\").write(audioJoin)"
   ]
  },
  {
   "cell_type": "code",
   "execution_count": 73,
   "id": "0214fd8b",
   "metadata": {},
   "outputs": [],
   "source": [
    "playsound('./audioFinal.mp3')"
   ]
  },
  {
   "cell_type": "code",
   "execution_count": null,
   "id": "b35bc104",
   "metadata": {},
   "outputs": [],
   "source": []
  }
 ],
 "metadata": {
  "kernelspec": {
   "display_name": "Python 3 (ipykernel)",
   "language": "python",
   "name": "python3"
  },
  "language_info": {
   "codemirror_mode": {
    "name": "ipython",
    "version": 3
   },
   "file_extension": ".py",
   "mimetype": "text/x-python",
   "name": "python",
   "nbconvert_exporter": "python",
   "pygments_lexer": "ipython3",
   "version": "3.9.7"
  }
 },
 "nbformat": 4,
 "nbformat_minor": 5
}
