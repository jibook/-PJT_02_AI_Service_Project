{
 "cells": [
  {
   "cell_type": "markdown",
   "id": "5891ace0",
   "metadata": {},
   "source": [
    "## 유명인 얼굴 바꾸기"
   ]
  },
  {
   "cell_type": "code",
   "execution_count": 2,
   "id": "70ef09bf",
   "metadata": {},
   "outputs": [
    {
     "name": "stdout",
     "output_type": "stream",
     "text": [
      "{\"info\":{\"size\":{\"width\":354,\"height\":472},\"faceCount\":1},\"faces\":[{\"celebrity\":{\"value\":\"홍수아\",\"confidence\":0.344471}}]}\n"
     ]
    }
   ],
   "source": [
    "import os\n",
    "import sys\n",
    "import requests\n",
    "\n",
    "\n",
    "client_id = \"qj40wl5n0t\"\n",
    "client_secret = \"1xzXEYgwlsbv9RQxd1onUSByiyvtBDPFV9NEY1mv\"\n",
    "url = \"https://naveropenapi.apigw.ntruss.com/vision/v1/celebrity\" # // 유명인 얼굴인식\n",
    "files = {'image': open('C:/Users/jhjh3/Desktop/LEEJIHYUN_B.jpg', 'rb')}\n",
    "headers = {'X-NCP-APIGW-API-KEY-ID': client_id, 'X-NCP-APIGW-API-KEY': client_secret }\n",
    "response = requests.post(url,  files=files, headers=headers)\n",
    "rescode = response.status_code\n",
    "if(rescode==200):\n",
    "    print (response.text)\n",
    "else:\n",
    "    print(\"Error Code:\" + rescode)"
   ]
  },
  {
   "cell_type": "markdown",
   "id": "68c145ee",
   "metadata": {},
   "source": [
    "## Translation"
   ]
  },
  {
   "cell_type": "code",
   "execution_count": 1,
   "id": "dbfcf550",
   "metadata": {},
   "outputs": [
    {
     "name": "stdout",
     "output_type": "stream",
     "text": [
      "{\"message\":{\"@type\":\"response\",\"@service\":\"naverservice.nmt.proxy\",\"@version\":\"1.0.0\",\"result\":{\"srcLangType\":\"ko\",\"tarLangType\":\"ja\",\"translatedText\":\"ありがとうございます。ごめんなさい。 どうぞよろしくお願いします。\"}}}\n"
     ]
    }
   ],
   "source": [
    "# // 네이버 Papago Text Translation API 예제\n",
    "import os\n",
    "import sys\n",
    "import urllib.request\n",
    "client_id = \"z5ursfnn8t\"\n",
    "client_secret = \"0dojSb2BLkmdVMjxkLg8ZmAzQPOHmOCOvkDahaAn\"\n",
    "encText = urllib.parse.quote(\"감사합니다. 미안합니다. 잘부탁드립니다.\")\n",
    "data = \"source=ko&target=ja&text=\" + encText\n",
    "url = \"https://naveropenapi.apigw.ntruss.com/nmt/v1/translation\"\n",
    "request = urllib.request.Request(url)\n",
    "request.add_header(\"X-NCP-APIGW-API-KEY-ID\",client_id)\n",
    "request.add_header(\"X-NCP-APIGW-API-KEY\",client_secret)\n",
    "response = urllib.request.urlopen(request, data=data.encode('utf-8'))\n",
    "rescode = response.getcode()\n",
    "if(rescode==200):\n",
    "    response_body = response.read()\n",
    "    print(response_body.decode('utf-8'))\n",
    "else:\n",
    "    print(\"Error Code:\" + rescode)"
   ]
  },
  {
   "cell_type": "markdown",
   "id": "9bf6053e",
   "metadata": {},
   "source": [
    "## AI Voice Service 해보기"
   ]
  },
  {
   "cell_type": "code",
   "execution_count": 3,
   "id": "14ec6e27",
   "metadata": {},
   "outputs": [
    {
     "name": "stdout",
     "output_type": "stream",
     "text": [
      "TTS mp3 저장\n"
     ]
    }
   ],
   "source": [
    "import os\n",
    "import sys\n",
    "import urllib.request\n",
    "client_id = \"qj40wl5n0t\"\n",
    "client_secret = \"1xzXEYgwlsbv9RQxd1onUSByiyvtBDPFV9NEY1mv\"\n",
    "encText = urllib.parse.quote(\"ありがとうございます。ごめんなさい。 どうぞよろしくお願いします。\")\n",
    "data = \"speaker=dayumu&volume=0&speed=0&pitch=0&format=mp3&text=\" + encText;\n",
    "url = \"https://naveropenapi.apigw.ntruss.com/tts-premium/v1/tts\"\n",
    "request = urllib.request.Request(url)\n",
    "request.add_header(\"X-NCP-APIGW-API-KEY-ID\",client_id)\n",
    "request.add_header(\"X-NCP-APIGW-API-KEY\",client_secret)\n",
    "response = urllib.request.urlopen(request, data=data.encode('utf-8'))\n",
    "rescode = response.getcode()\n",
    "if(rescode==200):\n",
    "    print(\"TTS mp3 저장\")\n",
    "    response_body = response.read()\n",
    "    with open('1111.mp3', 'wb') as f:\n",
    "        f.write(response_body)\n",
    "else:\n",
    "    print(\"Error Code:\" + rescode)"
   ]
  },
  {
   "cell_type": "markdown",
   "id": "82c8f6e2",
   "metadata": {},
   "source": [
    "## NEWS API 가져오기"
   ]
  },
  {
   "cell_type": "code",
   "execution_count": 4,
   "id": "bc7665d6",
   "metadata": {},
   "outputs": [
    {
     "name": "stdout",
     "output_type": "stream",
     "text": [
      "{\n",
      "\"lastBuildDate\": \"Mon, 21 Mar 2022 10:41:56 +0900\",\n",
      "\"total\": 367991,\n",
      "\"start\": 1,\n",
      "\"display\": 10,\n",
      "\"items\": [\n",
      "{\n",
      "\"title\": \"러 출신 배우 &quot;러 아티스트, 우크라 침공 비판 안한다고 피해봐선 안돼&quot;\",\n",
      "\"originallink\": \"http://news.mk.co.kr/newsRead.php?no=255259&year=2022\",\n",
      "\"link\": \"https://news.naver.com/main/read.naver?mode=LSD&mid=sec&sid1=104&oid=009&aid=0004937435\",\n",
      "\"description\": \"아티스트들이 <b>우크라이나</b> 침공을 비판하지 않는다는 이유로 비난 받아선 안된다는 소신을 밝혔다. 미하일... 러시아가 <b>우크라이나</b>를 침공하면서 국제 사회에서 러시아와 우방국 벨라루스에 대한 비판이 거세지고 있는... \",\n",
      "\"pubDate\": \"Mon, 21 Mar 2022 10:40:00 +0900\"\n",
      "\n",
      "},\n",
      "{\n",
      "\"title\": \"금리 못 따라가는 성장… 장단기 금리역전 눈 앞\",\n",
      "\"originallink\": \"https://biz.newdaily.co.kr/site/data/html/2022/03/21/2022032100037.html\",\n",
      "\"link\": \"https://biz.newdaily.co.kr/site/data/html/2022/03/21/2022032100037.html\",\n",
      "\"description\": \"러시아의 <b>우크라이나</b> 침공이 세계 경제 성장 발목을 잡을 것이라면서 한국의 경제성장률을 3.0%에서 2.7%로 0.3%p 낮췄다. 스탠다드앤드푸어스(S&amp;P)도 2.7% 성장률 전망을 제시했다. 전문가들은 <b>우크라이나</b> 사태가... \",\n",
      "\"pubDate\": \"Mon, 21 Mar 2022 10:40:00 +0900\"\n",
      "\n",
      "},\n",
      "{\n",
      "\"title\": \"예스24, DRX 2022 LCK 스프링 플레이오프 진출 기념 이벤트 진행\",\n",
      "\"originallink\": \"http://ch.yes24.com/Article/View/48267\",\n",
      "\"link\": \"http://ch.yes24.com/Article/View/48267\",\n",
      "\"description\": \"(2022.03.17)예스24, <b>우크라이나</b> 어린이 긴급 구호 위한 'YES포인트 기부 캠페인' 실시 | YES24 채널예스보유한 YES포인트로 기부 금액 입력 후 응원 메시지 작성하면 기부 완료 (2022.03.15) ‘대한민국 No.1 문화웹진’... \",\n",
      "\"pubDate\": \"Mon, 21 Mar 2022 10:40:00 +0900\"\n",
      "\n",
      "},\n",
      "{\n",
      "\"title\": \"예스24, 김초엽 『지구 끝의 온실』 단독 리커버 예약 판매 오픈\",\n",
      "\"originallink\": \"http://ch.yes24.com/Article/View/48266\",\n",
      "\"link\": \"http://ch.yes24.com/Article/View/48266\",\n",
      "\"description\": \"(2022.03.17)예스24, <b>우크라이나</b> 어린이 긴급 구호 위한 'YES포인트 기부 캠페인' 실시 | YES24 채널예스보유한 YES포인트로 기부 금액 입력 후 응원 메시지 작성하면 기부 완료 (2022.03.15)故이어령 인터뷰집 『이어령의... \",\n",
      "\"pubDate\": \"Mon, 21 Mar 2022 10:40:00 +0900\"\n",
      "\n",
      "},\n",
      "{\n",
      "\"title\": \"도봉구, 음향장비 필요 없는 야외음악당 '평화울림터' 개관\",\n",
      "\"originallink\": \"http://yna.kr/AKR20220321053200004?did=1195m\",\n",
      "\"link\": \"https://news.naver.com/main/read.naver?mode=LSD&mid=sec&sid1=102&oid=001&aid=0013062254\",\n",
      "\"description\": \"26일 오후 2시에는 <b>우크라이나</b>의 평화를 기원하는 개관 기념콘서트가 열린다. 도봉구는 공연장 사용을 원하는 개인이나 단체의 신청이 있으면 공원 관련 규정에 의거, 공공성 여부 등을 확인한 후 허가할 예정이다.... \",\n",
      "\"pubDate\": \"Mon, 21 Mar 2022 10:40:00 +0900\"\n",
      "\n",
      "},\n",
      "{\n",
      "\"title\": \"[코로나 현황] 신규 확진자 20만9169명…&quot;열흘 만에 20만명대&quot;\",\n",
      "\"originallink\": \"http://www.newsworks.co.kr/news/articleView.html?idxno=593497\",\n",
      "\"link\": \"http://www.newsworks.co.kr/news/articleView.html?idxno=593497\",\n",
      "\"description\": \"코로나 19 백신접종을 마친 해외입국자들은 7일간의 자가격리를 하지 않아도 된다. 단 격리 면제가 제외된 국가는 파키스탄, 우즈베키스탄, <b>우크라이나</b>, 미얀마 등 4개국이다.\",\n",
      "\"pubDate\": \"Mon, 21 Mar 2022 10:40:00 +0900\"\n",
      "\n",
      "},\n",
      "{\n",
      "\"title\": \"국방부 &quot;北 탄도미사일 위협, 사이버 영역 확대 우려&quot;\",\n",
      "\"originallink\": \"http://www.newsis.com/view/?id=NISX20220321_0001800791&cID=10301&pID=10300\",\n",
      "\"link\": \"https://news.naver.com/main/read.naver?mode=LSD&mid=sec&sid1=100&oid=003&aid=0011073014\",\n",
      "\"description\": \"국방부는 &quot;이번 조치는 러시아와 <b>우크라이나</b>의 전쟁 간 사이버공간에서의 충돌이 지속되는 사태와 최근 반복된 북한의 탄도미사일 추정 발사체 위협이 사이버 영역으로 확대될 우려에 따라 이뤄졌다&quot;고 배경을... \",\n",
      "\"pubDate\": \"Mon, 21 Mar 2022 10:39:00 +0900\"\n",
      "\n",
      "},\n",
      "{\n",
      "\"title\": \"&quot;푸틴, 자신만의 세계에 갇혀 있어…궁지 몰리면 극단적 결정할 수도&quot;\",\n",
      "\"originallink\": \"https://news.jtbc.joins.com/article/article.aspx?news_id=NB12051732\",\n",
      "\"link\": \"https://news.naver.com/main/read.naver?mode=LSD&mid=sec&sid1=104&oid=437&aid=0000293082\",\n",
      "\"description\": \"러시아의 <b>우크라이나</b> 침공이 한 달 가까이 계속되는 가운데, 블라디미르 푸틴 러시아 대통령이 스스로 만든... 실제로 푸틴 대통령은 최근 에마뉘엘 마크롱 프랑스 대통령과 만났을 때와 <b>우크라이나</b> 침공 전날... \",\n",
      "\"pubDate\": \"Mon, 21 Mar 2022 10:39:00 +0900\"\n",
      "\n",
      "},\n",
      "{\n",
      "\"title\": \"윤석열 당선인, 경제6단체장과 도시락 오찬 “민간 주도 경제 첫걸음”(종합)\",\n",
      "\"originallink\": \"https://www.sedaily.com/NewsView/263I4IOHR8\",\n",
      "\"link\": \"https://news.naver.com/main/read.naver?mode=LSD&mid=sec&sid1=100&oid=011&aid=0004031983\",\n",
      "\"description\": \"김은혜 당선인 대변인은 이날 서울 종로구 삼청동 한국금융연수원 별관에 마련된 인수위 기자회견장에서 열린 브리핑에서 “코로나19 사태뿐만 아니라 러시아의 <b>우크라이나</b> 침공으로 우리가 직면한 대내외적 어려움이... \",\n",
      "\"pubDate\": \"Mon, 21 Mar 2022 10:38:00 +0900\"\n",
      "\n",
      "},\n",
      "{\n",
      "\"title\": \"건설 사라진 '포트나이트', 챕터3 시즌2 오픈\",\n",
      "\"originallink\": \"https://www.inven.co.kr/webzine/news/?news=269653\",\n",
      "\"link\": \"https://sports.news.naver.com/news.nhn?oid=442&aid=0000147259\",\n",
      "\"description\": \"한편, 에픽게임즈는 ‘<b>우크라이나</b> 인도적 구호를 위한 지원’을 결정하고 20일부터 오는 4월 3일까지 보름간의 포트나이트 수익 전액을 러시아의 <b>우크라이나</b> 침공에 영향받은 시민들을 위해 기부할 방침이다. V-Bucks 팩... \",\n",
      "\"pubDate\": \"Mon, 21 Mar 2022 10:38:00 +0900\"\n",
      "\n",
      "}\n",
      "]\n",
      "}\n",
      "\n"
     ]
    }
   ],
   "source": [
    "import os\n",
    "import sys\n",
    "import urllib.request\n",
    "client_id = \"7chUvZTlfEgXCX1cRtqt\"\n",
    "client_secret = \"aTszwltPPR\"\n",
    "encText = urllib.parse.quote(\"우크라이나\")\n",
    "url = \"https://openapi.naver.com/v1/search/news?query=\" + encText # json 결과\n",
    "# url = \"https://openapi.naver.com/v1/search/news.xml?query=\" + encText # xml 결과\n",
    "request = urllib.request.Request(url)\n",
    "request.add_header(\"X-Naver-Client-Id\",client_id)\n",
    "request.add_header(\"X-Naver-Client-Secret\",client_secret)\n",
    "response = urllib.request.urlopen(request)\n",
    "rescode = response.getcode()\n",
    "if(rescode==200):\n",
    "    response_body = response.read()\n",
    "    print(response_body.decode('utf-8'))\n",
    "else:\n",
    "    print(\"Error Code:\" + rescode)"
   ]
  },
  {
   "cell_type": "code",
   "execution_count": 5,
   "id": "318ba220",
   "metadata": {},
   "outputs": [
    {
     "name": "stdout",
     "output_type": "stream",
     "text": [
      "{\n",
      "\"lastBuildDate\": \"Mon, 21 Mar 2022 10:42:13 +0900\",\n",
      "\"total\": 272320,\n",
      "\"start\": 1,\n",
      "\"display\": 10,\n",
      "\"items\": [\n",
      "{\n",
      "\"title\": \"코리아 펫 모델 패션쇼 2022 (Korea Pet Model Fashion Show 2022) 성황리 성...\",\n",
      "\"originallink\": \"https://www.job-post.co.kr/news/articleView.html?idxno=49246\",\n",
      "\"link\": \"https://www.job-post.co.kr/news/articleView.html?idxno=49246\",\n",
      "\"description\": \"<b>반려동물</b> 1,500만 시대에 가족으로 여겨지는 <b>반려동물</b>을 위한 펫 패션쇼가 20일 경기도 파주시 성현안길 106 다빈치종합촬영센터에서 제5회 국제<b>반려동물</b>문화축제와 함께하는 코리아 펫 모델 패션쇼 2022 (Korea Pet... \",\n",
      "\"pubDate\": \"Mon, 21 Mar 2022 10:40:00 +0900\"\n",
      "\n",
      "},\n",
      "{\n",
      "\"title\": \"실내공기 관리 '에어솔루션 가전' 인기\",\n",
      "\"originallink\": \"http://www.todayenergy.kr/news/articleView.html?idxno=246403\",\n",
      "\"link\": \"http://www.todayenergy.kr/news/articleView.html?idxno=246403\",\n",
      "\"description\": \"최근에는 펫 전용 공기청정기를 출시해 환기가 어렵거나 불가한 상황에서도 실내 <b>반려동물</b> 털 및 배변 냄새를 흡입해 실내공기질 관리를 돕는다. 또 <b>반려동물</b>의 알러지 물질을 나노이 입자가 세균을 감지해 세균과... \",\n",
      "\"pubDate\": \"Mon, 21 Mar 2022 10:38:00 +0900\"\n",
      "\n",
      "},\n",
      "{\n",
      "\"title\": \"임정엽 전 완주군수, '직주 결합형 청년디딤돌 주택' 공급 공약\",\n",
      "\"originallink\": \"https://www.nocutnews.co.kr/news/5726075\",\n",
      "\"link\": \"https://news.naver.com/main/read.naver?mode=LSD&mid=sec&sid1=100&oid=079&aid=0003622363\",\n",
      "\"description\": \"임 전 군수는 전주에 사는 청년들이 취업에 머물지 않고 창업에 뛰어들도록 청년보부상 협동조합 결성과 미래콘텐츠산업센터 건립도 추진해 수제 맥주와 목공예품, <b>반려동물</b> 간식업계 창업을 비롯 AI, AR, VR, XR기반의... \",\n",
      "\"pubDate\": \"Mon, 21 Mar 2022 10:34:00 +0900\"\n",
      "\n",
      "},\n",
      "{\n",
      "\"title\": \"쿠첸, '화이트 3구 인덕션 더 블랑' 출시\",\n",
      "\"originallink\": \"http://www.fnnews.com/news/202203211028429559\",\n",
      "\"link\": \"https://news.naver.com/main/read.naver?mode=LSD&mid=sec&sid1=101&oid=014&aid=0004806260\",\n",
      "\"description\": \"특히 인덕션 오작동을 방지하는 '2중 안전장치 잠금 차일드 락 플러스 시스템'으로 아이나 <b>반려동물</b>이 있는 가정에서도 안심하고 사용할 수 있다. 화이트 3구 인덕션 더 블랑은 오는 27일까지 진행되는 네이버... \",\n",
      "\"pubDate\": \"Mon, 21 Mar 2022 10:32:00 +0900\"\n",
      "\n",
      "},\n",
      "{\n",
      "\"title\": \"[<b>반려동물</b> 건강이야기] 개가 유난히 스트레스에 민감하다? 애디슨병 의심하세...\",\n",
      "\"originallink\": \"http://www.k-health.com/news/articleView.html?idxno=58588\",\n",
      "\"link\": \"http://www.k-health.com/news/articleView.html?idxno=58588\",\n",
      "\"description\": \"특히 오진은 <b>반려동물</b>의 증상악화를 부르니 어떻게든 피해야 한다. 간혹 진단하기 까다로운 병을 접해서 애를 먹을 때가 있는데 그중 하나가 '애디슨병'이다. 애디슨병은 증상이 너무 애매해 의심하기조차 쉽지 않다.... \",\n",
      "\"pubDate\": \"Mon, 21 Mar 2022 10:32:00 +0900\"\n",
      "\n",
      "},\n",
      "{\n",
      "\"title\": \"코웨이, 편의성 높인 프라임 전기레인지 2종으로 소비자 고민 덜다\",\n",
      "\"originallink\": \"http://www.sisaweek.com/news/articleView.html?idxno=151913\",\n",
      "\"link\": \"http://www.sisaweek.com/news/articleView.html?idxno=151913\",\n",
      "\"description\": \"어린이나 <b>반려동물</b>의 오작동을 막는 터치 잠금 기능, 과열 시 출력 제어, 용기 감지 기능 등 다양한 안전장치도 적용해 안심을 더했다. 해당 제품에 대한 자세한 내용 및 구매는 코웨이 홈페이지와 코웨이닷컴... \",\n",
      "\"pubDate\": \"Mon, 21 Mar 2022 10:22:00 +0900\"\n",
      "\n",
      "},\n",
      "{\n",
      "\"title\": \"홈플러스, '펫팸족' 지갑 연다...티슈 2종 단독 출시\",\n",
      "\"originallink\": \"http://www.dailysmart.co.kr/news/articleView.html?idxno=57317\",\n",
      "\"link\": \"http://www.dailysmart.co.kr/news/articleView.html?idxno=57317\",\n",
      "\"description\": \"회사 측은 펫팸족(<b>반려동물</b> 양육 가구)을 겨냥해 디자인과 네이밍에 각별히 신경을 썼다. 특히 메인 디자인으로 강아지와 고양이 사진을 사용했다. 온 가족이 매일 쓰는 제품인 만큼, 티슈 본연의 품질도 확보했다. 100... \",\n",
      "\"pubDate\": \"Mon, 21 Mar 2022 10:20:00 +0900\"\n",
      "\n",
      "},\n",
      "{\n",
      "\"title\": \"유한양행, VIP동물의료센터와 <b>반려동물</b> 산업 발전 상호협력 MOU 체결\",\n",
      "\"originallink\": \"https://www.cnbnews.com/news/article.html?no=537633\",\n",
      "\"link\": \"https://www.cnbnews.com/news/article.html?no=537633\",\n",
      "\"description\": \"▲ CNB,씨앤비,시앤비,CNB뉴스,씨앤비뉴스 사진=유한양행 유한양행이 VIP동물의료센터와 <b>반려동물</b>산업 발전을 위한 업무협약(MOU)을 체결했다고 21일 밝혔다. 이번 협약에 따라 두 기관은 앞으로 제다큐어 심화 연구 진행을... \",\n",
      "\"pubDate\": \"Mon, 21 Mar 2022 10:20:00 +0900\"\n",
      "\n",
      "},\n",
      "{\n",
      "\"title\": \"부산시, <b>반려동물</b> 항생제 내성균 모니터링 사업 추진\",\n",
      "\"originallink\": \"https://www.gokorea.kr/news/articleView.html?idxno=721126\",\n",
      "\"link\": \"https://www.gokorea.kr/news/articleView.html?idxno=721126\",\n",
      "\"description\": \"부산시청 전경./사진=박정우 기자 부산시 보건환경연구원은 <b>반려동물</b> 항생제 내성균 감시체계 구축을 위한 항생제 내성균 모니터링 사업을 추진한다고 21일 밝혔다. <b>반려동물</b> 항생제 내성균 모니터링은 2018년부터... \",\n",
      "\"pubDate\": \"Mon, 21 Mar 2022 10:16:00 +0900\"\n",
      "\n",
      "},\n",
      "{\n",
      "\"title\": \"다가오는 주총 시즌…신사업·ESG 집중하는 식품업계\",\n",
      "\"originallink\": \"https://news.mtn.co.kr/news-detail/2022032109525481681\",\n",
      "\"link\": \"https://news.mtn.co.kr/news-detail/2022032109525481681\",\n",
      "\"description\": \"건강과 맛을 모두 중시하는 '헬시플레저' 문화와 <b>반려동물</b>이 먹는 음식도 신경쓰는 '펫코노미' 문화의 확산을 고려한 행보로 풀이된다. 하림 또한 29일 주총을 통해 ▲음·식료품 및 담배 중개업 ▲화물 운송 중개, 대리... \",\n",
      "\"pubDate\": \"Mon, 21 Mar 2022 10:10:00 +0900\"\n",
      "\n",
      "}\n",
      "]\n",
      "}\n",
      "\n"
     ]
    }
   ],
   "source": [
    "# 네이버 검색 Open API 예제 - news search + \n",
    "import os\n",
    "import sys\n",
    "import urllib.request\n",
    "\n",
    "\n",
    "client_id = \"yQk2NXsWHcmq7BptZLf7\"\n",
    "client_secret = \"vUkizul0lB\"\n",
    "encText = urllib.parse.quote(\"반려동물\")\n",
    "url = \"https://openapi.naver.com/v1/search/news?query=\" + encText # json 결과\n",
    "# url = \"https://openapi.naver.com/v1/search/news.xml?query=\" + encText # xml 결과\n",
    "request = urllib.request.Request(url)\n",
    "request.add_header(\"X-Naver-Client-Id\",client_id)\n",
    "request.add_header(\"X-Naver-Client-Secret\",client_secret)\n",
    "response = urllib.request.urlopen(request)\n",
    "\n",
    "rescode = response.getcode()\n",
    "if(rescode==200):\n",
    "    response_body = response.read()\n",
    "    new = response_body.decode('utf-8')\n",
    "    file = open('news.txt', 'w')    #\n",
    "    file.write(new)      # 파일에 문자열 저장\n",
    "    file.close() \n",
    "    print(response_body.decode('utf-8'))\n",
    "else:\n",
    "    print(\"Error Code:\" + rescode)"
   ]
  },
  {
   "cell_type": "markdown",
   "id": "ed3844d6",
   "metadata": {},
   "source": [
    "## Summary"
   ]
  },
  {
   "cell_type": "code",
   "execution_count": 6,
   "id": "a36c72ff",
   "metadata": {},
   "outputs": [
    {
     "name": "stdout",
     "output_type": "stream",
     "text": [
      "{\n",
      "    \"document\": {\n",
      "        \"content\": \"[\\uc758\\ud559\\uc2e0\\ubb38\\u00b7\\uc77c\\uac04\\ubcf4\\uc0ac=\\uc774\\uc7ac\\uc6d0 \\uae30\\uc790] \\ucda9\\uccad\\ubd81\\ub3c4\\uc758\\uc0ac\\ud68c(\\ud68c\\uc7a5 \\ubc15\\ud64d\\uc11c)\\uac00 \\uc9c0\\ub09c 17\\uc77c \\uac15\\uc6d0\\u00b7\\uacbd\\ubd81 \\uc0b0\\ubd88\\ud53c\\ud574 \\uc774\\uc7ac\\ubbfc\\uacfc \\uc6b0\\ud06c\\ub77c\\uc774\\ub098 \\uc804\\uc7c1\\ud53c\\ud574\\uc790 \\uc9c0\\uc6d0\\uc744 \\uc704\\ud574 \\ucda9\\ubd81\\ubaa8\\uae08\\ud68c\\uc5d0 \\uc131\\uae08 \\ucd1d 2000\\ub9cc\\uc6d0\\uc744 \\uae30\\ud0c1\\ud588\\ub2e4. \\uc758\\uc0ac\\ud68c\\ub294 \\uac15\\uc6d0\\uacfc \\uacbd\\ubd81\\uc9c0\\uc5ed\\uc744 \\uc911\\uc2ec\\uc73c\\ub85c \\ubc1c\\uc0dd\\ub41c \\uc0b0\\ubd88\\ub85c \\uc778\\ud574 \\uc774\\uc7ac\\ubbfc\\ubc1c\\uc0dd\\uacfc \\uc0b6\\uc758 \\ud130\\uc804\\uc774 \\uc0ac\\ub77c\\uc9c4 \\ud53c\\ud574 \\uc8fc\\ubbfc\\uc744 \\ub3d5\\uae30 \\uc704\\ud574 \\uac15\\uc6d0\\ub3c4 \\uc0b0\\ubd88 \\ud53c\\ud574\\uc9c0\\uc5ed 500\\ub9cc\\uc6d0, \\uacbd\\uc0c1\\ubd81\\ub3c4 \\uc0b0\\ubd88\\ud53c\\ud574 \\uc9c0\\uc5ed 500\\ub9cc\\uc6d0\\uc744 \\uc804\\ub2ec\\ud588\\ub2e4. \\ub610\\ud55c \\uc804\\uc7c1\\uc73c\\ub85c \\uace0\\ud1b5 \\ubc1b\\uace0 \\uc788\\ub294 \\uc6b0\\ud06c\\ub77c\\uc774\\ub098 \\uad6d\\ubbfc\\uc744 \\uc704\\ud55c \\uc131\\uae08 1000\\ub9cc\\uc6d0\\uc744 \\uac01\\uac01 \\uc804\\ub2ec\\ud588\\ub2e4. \\uc774\\ubc88 \\uc131\\uae08\\uc740 \\uccad\\uc8fc\\u00b7\\ucda9\\uc8fc\\u00b7\\uc81c\\ucc9c\\uc2dc\\uc758\\uc0ac\\ud68c \\ubc0f \\uac01 \\uad70\\uc758\\uc0ac\\ud68c \\ud68c\\uc6d0\\ub4e4\\uc774 \\uc2ed\\uc2dc\\uc77c\\ubc18 \\uc804\\uc7c1\\uc758 \\uace0\\ud1b5\\uc744 \\uacaa\\uace0 \\uc788\\ub294 \\uc6b0\\ud06c\\ub77c\\uc774\\ub098 \\uad6d\\ubbfc\\uacfc, \\uc0b0\\ubd88\\ub85c \\uc778\\ud574 \\uc0b6\\uc758 \\ud130\\uc804\\uc744 \\uc783\\uc5b4\\ubc84\\ub9b0 \\uc8fc\\ubbfc\\ub4e4\\uc5d0\\uac8c \\uc5b4\\ub824\\uc6c0\\uc744 \\uadf9\\ubcf5\\ud558\\uace0 \\ud76c\\ub9dd\\uc744 \\uc783\\uc9c0 \\ub9d0\\uae30\\ub97c \\ubc14\\ub780\\ub2e4\\ub294 \\uc751\\uc6d0\\uc758 \\uba54\\uc2dc\\uc9c0\\ub97c \\ubcf4\\ub0b4\\uba74\\uc11c \\ubaa8\\uae08\\uc5d0 \\ub3d9\\ucc38\\ud558\\uc5ec \\ub9c8\\ub828\\ub41c \\uc131\\uae08\\uc774\\ub2e4.\",\n",
      "        \"title\": \"\\ucda9\\ubd81\\ub3c4\\uc758\\uc0ac\\ud68c, \\uc0b0\\ubd88\\ud53c\\ud574\\u00b7<b>\\uc6b0\\ud06c\\ub77c\\uc774\\ub098</b> \\uc804\\uc7c1\\ud53c\\ud574\\uc790 \\ubaa8\\uae08 2\\ucc9c\\ub9cc\\uc6d0 \\uae30\\ubd80\"\n",
      "    },\n",
      "    \"option\": {\n",
      "        \"language\": \"ko\",\n",
      "        \"model\": \"news\",\n",
      "        \"summaryCount\": \"3\",\n",
      "        \"tone\": \"2\"\n",
      "    }\n",
      "}\n",
      "{\"summary\":\"충청북도의사회(회장 박홍서)가 지난 17일 강원·경북 산불피해 이재민과 우크라이나 전쟁피해자 지원을 위해 충북모금회에 성금 총 2000만원을 기탁했습니다.\\n또한 전쟁으로 고통 받고 있는 우크라이나 국민을 위한 성금 1000만원을 각각 전달했습니다.\\n이번 성금은 청주·충주·제천시의사회 및 각 군의사회 회원들이 십시일반 전쟁의 고통을 겪고 있는 우크라이나 국민과, 산불로 인해 삶의 터전을 잃어버린 주민들에게 어려움을 극복하고 희망을 잃지 말기를 바란다는 응원의 메시지를 보내면서 모금에 동참하여 마련된 성금입니다.\"}\n"
     ]
    }
   ],
   "source": [
    "#!/usr/bin/env python3\n",
    "#-*- codig: utf-8 -*-\n",
    "import sys\n",
    "import requests\n",
    "import json\n",
    "\n",
    "client_id = \"qj40wl5n0t\"\n",
    "client_secret = \"1xzXEYgwlsbv9RQxd1onUSByiyvtBDPFV9NEY1mv\"\n",
    "\n",
    "headers = {\n",
    "    \"X-NCP-APIGW-API-KEY-ID\": client_id,\n",
    "    \"X-NCP-APIGW-API-KEY\": client_secret,\n",
    "    \"Content-Type\": \"application/json\"\n",
    "}\n",
    "\n",
    "language = \"ko\" # Language of document (ko, ja )\n",
    "model = \"news\" # Model used for summaries (general, news)\n",
    "tone = \"2\" # Converts the tone of the summarized result. (0, 1, 2, 3)\n",
    "summaryCount = \"3\" # This is the number of sentences for the summarized document.\n",
    "url= \"https://naveropenapi.apigw.ntruss.com/text-summary/v1/summarize\" \n",
    "title= '충북도의사회, 산불피해·<b>우크라이나</b> 전쟁피해자 모금 2천만원 기부'\n",
    "content = \"[의학신문·일간보사=이재원 기자] 충청북도의사회(회장 박홍서)가 지난 17일 강원·경북 산불피해 \\\n",
    "이재민과 우크라이나 전쟁피해자 지원을 위해 충북모금회에 성금 총 2000만원을 기탁했다. \\\n",
    "의사회는 강원과 경북지역을 중심으로 발생된 산불로 인해 이재민발생과 삶의 터전이 사라진 피해 주민을 돕기 \\\n",
    "위해 강원도 산불 피해지역 500만원, 경상북도 산불피해 지역 500만원을 전달했다. \\\n",
    "또한 전쟁으로 고통 받고 있는 우크라이나 국민을 위한 성금 1000만원을 각각 전달했다. \\\n",
    "이번 성금은 청주·충주·제천시의사회 및 각 군의사회 회원들이 십시일반 전쟁의 고통을 겪고 있는 \\\n",
    "우크라이나 국민과, 산불로 인해 삶의 터전을 잃어버린 주민들에게 어려움을 극복하고 희망을 잃지 \\\n",
    "말기를 바란다는 응원의 메시지를 보내면서 모금에 동참하여 마련된 성금이다.\"\n",
    "\n",
    "data = {\n",
    "    \"document\": {\n",
    "    \"title\": title,\n",
    "    \"content\" : content\n",
    "    },\n",
    "    \"option\": {\n",
    "    \"language\": language,\n",
    "    \"model\": model,\n",
    "    \"tone\": tone,\n",
    "    \"summaryCount\" : summaryCount\n",
    "    }\n",
    "}\n",
    "\n",
    "print(json.dumps(data, indent=4, sort_keys=True))\n",
    "response = requests.post(url, data=json.dumps(data), headers=headers)\n",
    "rescode = response.status_code\n",
    "if(rescode == 200):\n",
    "    print (response.text)\n",
    "else:\n",
    "    print(\"Error : \" + response.text)\n",
    "    \n",
    "    \n"
   ]
  },
  {
   "cell_type": "code",
   "execution_count": 19,
   "id": "ad0365b0",
   "metadata": {},
   "outputs": [
    {
     "name": "stdout",
     "output_type": "stream",
     "text": [
      "{\"summary\":\"간편송금 이용금액이 하루 평균 2000억원을 넘어섰습니다.\\n한은은 카카오페이, 토스 등 간편송금 서비스를 제공하는 업체 간 경쟁이 심화되면서 이용규모가 크게 확대됐다고 분석했습니다.\\n국회 정무위원회 소속 바른미래당 유의동 의원에 따르면 카카오페이, 토스 등 선불전자지급서비스 제공업체는 지난해 마케팅 비용으로 1000억원 이상을 지출했습니다.\"}\n"
     ]
    }
   ],
   "source": [
    "import requests\n",
    "import json\n",
    "\n",
    "url = \"https://naveropenapi.apigw.ntruss.com/text-summary/v1/summarize\"\n",
    "\n",
    "document = {\"title\": \"'하루 2000억' 판 커지는 간편송금 시장\",\n",
    "            \"content\": \"간편송금 이용금액이 하루 평균 2000억원을 넘어섰다. 한국은행이 17일 발표한 '2019년 상반기중 전자지급서비스 이용 현황'에 따르면 올해 상반기 간편송금서비스 이용금액(일평균)은 지난해 하반기 대비 60.7% 증가한 2005억원으로 집계됐다. 같은 기간 이용건수(일평균)는 34.8% 늘어난 218만건이었다. 간편 송금 시장에는 선불전자지급서비스를 제공하는 전자금융업자와 금융기관 등이 참여하고 있다. 이용금액은 전자금융업자가 하루평균 1879억원, 금융기관이 126억원이었다. 한은은 카카오페이, 토스 등 간편송금 서비스를 제공하는 업체 간 경쟁이 심화되면서 이용규모가 크게 확대됐다고 분석했다. 국회 정무위원회 소속 바른미래당 유의동 의원에 따르면 카카오페이, 토스 등 선불전자지급서비스 제공업체는 지난해 마케팅 비용으로 1000억원 이상을 지출했다. 마케팅 비용 지출규모는 카카오페이가 491억원, 비바리퍼블리카(토스)가 134억원 등 순으로 많았다.\"}\n",
    "\n",
    "option =  {\"language\": \"ko\", \n",
    "           \"model\": \"news\",\n",
    "           \"tone\": 2,\n",
    "           \"summaryCount\": 3}\n",
    "\n",
    "msg = {'document':document, 'option':option}\n",
    "\n",
    "payload = json.dumps(msg)\n",
    "\n",
    "\n",
    "headers = {\n",
    "  'X-NCP-APIGW-API-KEY-ID': 'qj40wl5n0t',\n",
    "  'X-NCP-APIGW-API-KEY': '1xzXEYgwlsbv9RQxd1onUSByiyvtBDPFV9NEY1mv',\n",
    "  'Content-Type': 'application/json'\n",
    "}\n",
    "\n",
    "response = requests.request(\"POST\", url, headers=headers, data=payload)\n",
    "\n",
    "print(response.text)"
   ]
  },
  {
   "cell_type": "code",
   "execution_count": 8,
   "id": "978dedf1",
   "metadata": {},
   "outputs": [
    {
     "data": {
      "text/plain": [
       "'{\"summary\":\"간편송금 이용금액이 하루 평균 2000억원을 넘어섰습니다.\\\\n한은은 카카오페이, 토스 등 간편송금 서비스를 제공하는 업체 간 경쟁이 심화되면서 이용규모가 크게 확대됐다고 분석했습니다.\\\\n국회 정무위원회 소속 바른미래당 유의동 의원에 따르면 카카오페이, 토스 등 선불전자지급서비스 제공업체는 지난해 마케팅 비용으로 1000억원 이상을 지출했습니다.\"}'"
      ]
     },
     "execution_count": 8,
     "metadata": {},
     "output_type": "execute_result"
    }
   ],
   "source": [
    "response.text"
   ]
  },
  {
   "cell_type": "code",
   "execution_count": 14,
   "id": "4a3314b0",
   "metadata": {},
   "outputs": [
    {
     "name": "stdout",
     "output_type": "stream",
     "text": [
      "<_io.TextIOWrapper name='./news.txt' mode='r' encoding='cp949'>\n"
     ]
    }
   ],
   "source": [
    "news = open('./news.txt')\n",
    "print(news)"
   ]
  },
  {
   "cell_type": "code",
   "execution_count": 16,
   "id": "0d95300d",
   "metadata": {},
   "outputs": [
    {
     "ename": "TypeError",
     "evalue": "'_io.TextIOWrapper' object is not subscriptable",
     "output_type": "error",
     "traceback": [
      "\u001b[1;31m---------------------------------------------------------------------------\u001b[0m",
      "\u001b[1;31mTypeError\u001b[0m                                 Traceback (most recent call last)",
      "\u001b[1;32mC:\\Users\\Public\\Documents\\ESTsoft\\CreatorTemp/ipykernel_28988/3582965639.py\u001b[0m in \u001b[0;36m<module>\u001b[1;34m\u001b[0m\n\u001b[0;32m      4\u001b[0m \u001b[0murl\u001b[0m \u001b[1;33m=\u001b[0m \u001b[1;34m\"https://naveropenapi.apigw.ntruss.com/text-summary/v1/summarize\"\u001b[0m\u001b[1;33m\u001b[0m\u001b[1;33m\u001b[0m\u001b[0m\n\u001b[0;32m      5\u001b[0m \u001b[1;33m\u001b[0m\u001b[0m\n\u001b[1;32m----> 6\u001b[1;33m document = {\"title\": news[title],\n\u001b[0m\u001b[0;32m      7\u001b[0m             \"content\":  news[\"description\"]}\n\u001b[0;32m      8\u001b[0m \u001b[1;33m\u001b[0m\u001b[0m\n",
      "\u001b[1;31mTypeError\u001b[0m: '_io.TextIOWrapper' object is not subscriptable"
     ]
    }
   ],
   "source": [
    "import requests\n",
    "import json\n",
    "\n",
    "url = \"https://naveropenapi.apigw.ntruss.com/text-summary/v1/summarize\"\n",
    "\n",
    "document = {\"title\": news[title],\n",
    "            \"content\":  news[\"description\"]}\n",
    "\n",
    "option =  {\"language\": \"ko\", \n",
    "           \"model\": \"news\",\n",
    "           \"tone\": 2,\n",
    "           \"summaryCount\": 3}\n",
    "\n",
    "msg = {'document':document, 'option':option}\n",
    "\n",
    "payload = json.dumps(msg)\n",
    "\n",
    "\n",
    "headers = {\n",
    "  'X-NCP-APIGW-API-KEY-ID': 'qj40wl5n0t',\n",
    "  'X-NCP-APIGW-API-KEY': '1xzXEYgwlsbv9RQxd1onUSByiyvtBDPFV9NEY1mv',\n",
    "  'Content-Type': 'application/json'\n",
    "}\n",
    "\n",
    "response = requests.request(\"POST\", url, headers=headers, data=payload)\n",
    "\n",
    "print(response.text)"
   ]
  },
  {
   "cell_type": "code",
   "execution_count": 25,
   "id": "45173aef",
   "metadata": {},
   "outputs": [
    {
     "name": "stdout",
     "output_type": "stream",
     "text": [
      "\"speaker=njinho&volume=0&speed=0&pitch=0&format=mp3&text=%22%EC%B6%A9%EC%B2%AD%EB%B6%81%EB%8F%84%EC%9D%98%EC%82%AC%ED%9A%8C%28%ED%9A%8C%EC%9E%A5%20%EB%B0%95%ED%99%8D%EC%84%9C%29%EA%B0%80%20%EC%A7%80%EB%82%9C%2017%EC%9D%BC%20%EA%B0%95%EC%9B%90%C2%B7%EA%B2%BD%EB%B6%81%20%EC%82%B0%EB%B6%88%ED%94%BC%ED%95%B4%20%EC%9D%B4%EC%9E%AC%EB%AF%BC%EA%B3%BC%20%EC%9A%B0%ED%81%AC%EB%9D%BC%EC%9D%B4%EB%82%98%20%EC%A0%84%EC%9F%81%ED%94%BC%ED%95%B4%EC%9E%90%20%EC%A7%80%EC%9B%90%EC%9D%84%20%EC%9C%84%ED%95%B4%20%EC%B6%A9%EB%B6%81%EB%AA%A8%EA%B8%88%ED%9A%8C%EC%97%90%20%EC%84%B1%EA%B8%88%20%EC%B4%9D%202000%EB%A7%8C%EC%9B%90%EC%9D%84%20%EA%B8%B0%ED%83%81%ED%96%88%EC%8A%B5%EB%8B%88%EB%8B%A4.%5Cn%EB%98%90%ED%95%9C%20%EC%A0%84%EC%9F%81%EC%9C%BC%EB%A1%9C%20%EA%B3%A0%ED%86%B5%20%EB%B0%9B%EA%B3%A0%20%EC%9E%88%EB%8A%94%20%EC%9A%B0%ED%81%AC%EB%9D%BC%EC%9D%B4%EB%82%98%20%EA%B5%AD%EB%AF%BC%EC%9D%84%20%EC%9C%84%ED%95%9C%20%EC%84%B1%EA%B8%88%201000%EB%A7%8C%EC%9B%90%EC%9D%84%20%EA%B0%81%EA%B0%81%20%EC%A0%84%EB%8B%AC%ED%96%88%EC%8A%B5%EB%8B%88%EB%8B%A4.%5Cn%EC%9D%B4%EB%B2%88%20%EC%84%B1%EA%B8%88%EC%9D%80%20%EC%B2%AD%EC%A3%BC%C2%B7%EC%B6%A9%EC%A3%BC%C2%B7%EC%A0%9C%EC%B2%9C%EC%8B%9C%EC%9D%98%EC%82%AC%ED%9A%8C%20%EB%B0%8F%20%EA%B0%81%20%EA%B5%B0%EC%9D%98%EC%82%AC%ED%9A%8C%20%ED%9A%8C%EC%9B%90%EB%93%A4%EC%9D%B4%20%EC%8B%AD%EC%8B%9C%EC%9D%BC%EB%B0%98%20%EC%A0%84%EC%9F%81%EC%9D%98%20%EA%B3%A0%ED%86%B5%EC%9D%84%20%EA%B2%AA%EA%B3%A0%20%EC%9E%88%EB%8A%94%20%EC%9A%B0%ED%81%AC%EB%9D%BC%EC%9D%B4%EB%82%98%20%EA%B5%AD%EB%AF%BC%EA%B3%BC%2C%20%EC%82%B0%EB%B6%88%EB%A1%9C%20%EC%9D%B8%ED%95%B4%20%EC%82%B6%EC%9D%98%20%ED%84%B0%EC%A0%84%EC%9D%84%20%EC%9E%83%EC%96%B4%EB%B2%84%EB%A6%B0%20%EC%A3%BC%EB%AF%BC%EB%93%A4%EC%97%90%EA%B2%8C%20%EC%96%B4%EB%A0%A4%EC%9B%80%EC%9D%84%20%EA%B7%B9%EB%B3%B5%ED%95%98%EA%B3%A0%20%ED%9D%AC%EB%A7%9D%EC%9D%84%20%EC%9E%83%EC%A7%80%20%EB%A7%90%EA%B8%B0%EB%A5%BC%20%EB%B0%94%EB%9E%80%EB%8B%A4%EB%8A%94%20%EC%9D%91%EC%9B%90%EC%9D%98%20%EB%A9%94%EC%8B%9C%EC%A7%80%EB%A5%BC%20%EB%B3%B4%EB%82%B4%EB%A9%B4%EC%84%9C%20%EB%AA%A8%EA%B8%88%EC%97%90%20%EB%8F%99%EC%B0%B8%ED%95%98%EC%97%AC%20%EB%A7%88%EB%A0%A8%EB%90%9C%20%EC%84%B1%EA%B8%88%EC%9E%85%EB%8B%88%EB%8B%A4.%22%7D\"\n",
      "Error : {\"status\":500,\"error\":{\"errorCode\":\"E900\",\"message\":\"Unexpected error\"}}\n",
      "\"충청북도의사회(회장 박홍서)가 지난 17일 강원·경북 산불피해 이재민과 우크라이나 전쟁피해자 지원을 위해 충북모금회에 성금 총 2000만원을 기탁했습니다.\\n또한 전쟁으로 고통 받고 있는 우크라이나 국민을 위한 성금 1000만원을 각각 전달했습니다.\\n이번 성금은 청주·충주·제천시의사회 및 각 군의사회 회원들이 십시일반 전쟁의 고통을 겪고 있는 우크라이나 국민과, 산불로 인해 삶의 터전을 잃어버린 주민들에게 어려움을 극복하고 희망을 잃지 말기를 바란다는 응원의 메시지를 보내면서 모금에 동참하여 마련된 성금입니다.\"}\n"
     ]
    }
   ],
   "source": [
    "import sys\n",
    "import requests\n",
    "import json\n",
    "client_id = \"23rvmuewj1\"\n",
    "client_secret = \"X1er6URFeWbDHHSjuoi2czkaH2Klln6hFvnXApR5\"\n",
    "headers = {\n",
    "    \"X-NCP-APIGW-API-KEY-ID\": client_id,\n",
    "    \"X-NCP-APIGW-API-KEY\": client_secret,\n",
    "    \"Content-Type\": \"application/json\"\n",
    "}\n",
    "\n",
    "\n",
    "url= \"https://naveropenapi.apigw.ntruss.com/text-summary/v1/summarize\" \n",
    "\n",
    "document = {title : '충북도의사회, 산불피해·<b>우크라이나</b> 전쟁피해자 모금 2천만원 기부',\n",
    "            content : \"[의학신문·일간보사=이재원 기자] 충청북도의사회(회장 박홍서)가 지난 17일 강원·경북 산불피해 \\\n",
    "이재민과 우크라이나 전쟁피해자 지원을 위해 충북모금회에 성금 총 2000만원을 기탁했다. \\\n",
    "의사회는 강원과 경북지역을 중심으로 발생된 산불로 인해 이재민발생과 삶의 터전이 사라진 피해 주민을 돕기 \\\n",
    "위해 강원도 산불 피해지역 500만원, 경상북도 산불피해 지역 500만원을 전달했다. \\\n",
    "또한 전쟁으로 고통 받고 있는 우크라이나 국민을 위한 성금 1000만원을 각각 전달했다. \\\n",
    "이번 성금은 청주·충주·제천시의사회 및 각 군의사회 회원들이 십시일반 전쟁의 고통을 겪고 있는 \\\n",
    "우크라이나 국민과, 산불로 인해 삶의 터전을 잃어버린 주민들에게 어려움을 극복하고 희망을 잃지 \\\n",
    "말기를 바란다는 응원의 메시지를 보내면서 모금에 동참하여 마련된 성금이다.\"}\n",
    "            \n",
    "option =  {\"language\": \"ko\", \n",
    "           \"model\": \"news\",\n",
    "           \"tone\": 2,\n",
    "           \"summaryCount\": 3}\n",
    "\n",
    "msg = {'document':document, 'option':option}\n",
    " \n",
    "payload = json.dumps(msg)\n",
    "\n",
    "\n",
    "\n",
    "print(json.dumps(data, indent=4, sort_keys=True))\n",
    "response = requests.post(url, data=json.dumps(data), headers=headers)\n",
    "rescode = response.status_code\n",
    "if(rescode == 200):\n",
    "    r1=response.text  \n",
    "    print(r1)\n",
    "    \n",
    "else:\n",
    "    print(\"Error : \" + response.text)\n",
    "\n",
    "\n",
    "r1r1=r1.split(':')[1]\n",
    "print(r1r1)"
   ]
  },
  {
   "cell_type": "code",
   "execution_count": 24,
   "id": "8e7fb2d2",
   "metadata": {},
   "outputs": [
    {
     "name": "stdout",
     "output_type": "stream",
     "text": [
      "TTS mp3 저장\n"
     ]
    }
   ],
   "source": [
    "client_id = \"*\"\n",
    "client_secret = \"*\"\n",
    "encText = urllib.parse.quote(r1r1)\n",
    "data = \"speaker=njinho&volume=0&speed=0&pitch=0&format=mp3&text=\" + encText;\n",
    "url = \"https://naveropenapi.apigw.ntruss.com/tts-premium/v1/tts\"\n",
    "request = urllib.request.Request(url)\n",
    "request.add_header(\"X-NCP-APIGW-API-KEY-ID\",client_id)\n",
    "request.add_header(\"X-NCP-APIGW-API-KEY\",client_secret)\n",
    "response = urllib.request.urlopen(request, data=data.encode('utf-8'))\n",
    "rescode = response.getcode()\n",
    "if(rescode==200):\n",
    "    print(\"TTS mp3 저장\")\n",
    "    response_body = response.read()\n",
    "    with open('1111.mp3', 'wb') as f:\n",
    "        f.write(response_body)\n",
    "else:\n",
    "    print(\"Error Code:\" + rescode)"
   ]
  },
  {
   "cell_type": "code",
   "execution_count": null,
   "id": "f0c15184",
   "metadata": {},
   "outputs": [],
   "source": []
  }
 ],
 "metadata": {
  "kernelspec": {
   "display_name": "Python 3 (ipykernel)",
   "language": "python",
   "name": "python3"
  },
  "language_info": {
   "codemirror_mode": {
    "name": "ipython",
    "version": 3
   },
   "file_extension": ".py",
   "mimetype": "text/x-python",
   "name": "python",
   "nbconvert_exporter": "python",
   "pygments_lexer": "ipython3",
   "version": "3.9.7"
  }
 },
 "nbformat": 4,
 "nbformat_minor": 5
}
